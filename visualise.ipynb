{
 "cells": [
  {
   "cell_type": "code",
   "execution_count": 1,
   "metadata": {},
   "outputs": [
    {
     "name": "stderr",
     "output_type": "stream",
     "text": [
      "/Users/lauraboggia/VSCode_projects/iTransformerAD/.conda/lib/python3.8/site-packages/tqdm/auto.py:21: TqdmWarning: IProgress not found. Please update jupyter and ipywidgets. See https://ipywidgets.readthedocs.io/en/stable/user_install.html\n",
      "  from .autonotebook import tqdm as notebook_tqdm\n"
     ]
    }
   ],
   "source": [
    "import os\n",
    "import numpy as np\n",
    "import pandas as pd\n",
    "import matplotlib.pyplot as plt\n",
    "import mplhep as hep\n",
    "from src.models import TranAD, iTransformer\n",
    "import torch"
   ]
  },
  {
   "cell_type": "code",
   "execution_count": 2,
   "metadata": {},
   "outputs": [],
   "source": [
    "# from cycler import cycler\n",
    "# plt.rcParams['axes.prop_cycle'] = cycler('color', ['#17becf','#8c564b', '#e377c2', '#7f7f7f','#bcbd22', '#1f77b4', '#ff7f0e', '#2ca02c', '#d62728', '#9467bd'])\n",
    "plt.style.use([hep.style.ROOT, hep.style.firamath])\n",
    "# plt.rcParams['lines.markersize'] = 5\n",
    "# plt.rcParams['lines.linewidth'] = 3"
   ]
  },
  {
   "cell_type": "markdown",
   "metadata": {},
   "source": [
    "### for first studies on importance of q and n_window"
   ]
  },
  {
   "cell_type": "code",
   "execution_count": null,
   "metadata": {},
   "outputs": [],
   "source": [
    "iTransf_n_windows = [10, 20, 30, 40, 50, 60, 70, 80, 90, 100, 200, 500, 1000, 2000]\n",
    "TranAD_n_windows = [10, 20, 30, 40, 50, 60, 70]\n",
    "\n",
    "iTransf_q =  [0.5, 0.25, 0.1, 0.075, 0.05, 1e-2, 1e-3, 1e-4, 5e-5, 1e-5, 5e-6, 1e-6, 1e-7]\n",
    "TranAD_q = [0.5, 0.25, 0.1, 0.075, 0.05, 1e-2, 1e-3, 1e-4, 5e-5, 1e-5, 5e-6, 1e-6, 1e-7]"
   ]
  },
  {
   "cell_type": "code",
   "execution_count": null,
   "metadata": {},
   "outputs": [],
   "source": [
    "N = 25\n",
    "dataset = 'SMAP_new'\n",
    "less = False\n",
    "plot_path = './studies2.3/plots'\n",
    "studies_path = './studies2.3'"
   ]
  },
  {
   "cell_type": "code",
   "execution_count": null,
   "metadata": {},
   "outputs": [],
   "source": [
    "loader = []\n",
    "for file in ['train', 'test', 'labels']:\n",
    "    if dataset == 'SMD': file = 'machine-1-1_' + file\n",
    "    if dataset == 'SMAP': file = 'P-1_' + file\n",
    "    if dataset == 'SMAP_new': file = 'P-1_' + file\n",
    "    if dataset == 'MSL': file = 'C-1_' + file\n",
    "    if dataset == 'MSL_new': file = 'C-1_' + file\n",
    "    if dataset == 'UCR': file = '136_' + file\n",
    "    if dataset == 'NAB': file = 'ec2_request_latency_system_failure_' + file\n",
    "    loader.append(np.load(os.path.join(f'processed/{dataset}', f'{file}.npy')))\n",
    "train_data = loader[0]\n",
    "test_data = loader[1]\n",
    "true_labels = loader[2]\n",
    "print(train_data, train_data[0].shape, train_data.shape)\n",
    "print(test_data, test_data[0].shape)"
   ]
  },
  {
   "cell_type": "code",
   "execution_count": null,
   "metadata": {},
   "outputs": [],
   "source": [
    "TranAD_all_res = {'ROC/AUC': [], 'f1': [], 'total_loss': [], 'loss': [], 'parameters': []}\n",
    "TranAD_labels = []\n",
    "loss = np.zeros((len(TranAD_n_windows), N))\n",
    "\n",
    "print(loss.shape, loss[0].shape)\n",
    "for i, elem in enumerate(TranAD_n_windows):\n",
    "    path = f'{studies_path}/TranAD_{dataset}_2/n_window{elem}/results'\n",
    "    model_path = f'{studies_path}/n_window{elem}/checkpoints/model.ckpt'\n",
    "\n",
    "    checkpoint = torch.load(model_path)\n",
    "    model = TranAD(N, elem).double()\n",
    "    model.load_state_dict(checkpoint['model_state_dict'])\n",
    "    accuracy_list = checkpoint['accuracy_list']    \n",
    "    total_params = sum(p.numel() for p in model.parameters())\n",
    "    trainable_params = sum(p.numel() for p in model.parameters() if p.requires_grad)\n",
    "    print(f'total params: {total_params}, trainable params: {trainable_params}')\n",
    "    TranAD_all_res['parameters'].append(trainable_params)\n",
    "\n",
    "    df_res = pd.read_csv(f'{path}/all_res.csv')\n",
    "    df_loss = pd.read_csv(f'{path}/test_loss.csv')\n",
    "    df_labels = pd.read_csv(f'{path}/pred_labels.csv')\n",
    "    TranAD_all_res['ROC/AUC'].append(df_res['ROC/AUC'])\n",
    "    TranAD_all_res['f1'].append(df_res['f1'])\n",
    "    TranAD_all_res['total_loss'].append(np.mean(df_loss))\n",
    "    loss[i] = np.mean(df_loss, axis=0)\n",
    "    TranAD_labels.append(np.array(df_labels))\n",
    "TranAD_all_res['loss'] = loss\n",
    "print(TranAD_labels[0].shape, len(TranAD_labels))\n",
    "# print(TranAD_all_res)"
   ]
  },
  {
   "cell_type": "code",
   "execution_count": null,
   "metadata": {},
   "outputs": [],
   "source": [
    "iTransf_all_res = {'ROC/AUC': [], 'f1': [], 'total_loss': [], 'loss': [], 'parameters': []}\n",
    "loss = np.zeros((len(iTransf_n_windows), N))\n",
    "iTransf_labels = []\n",
    "\n",
    "for i, elem in enumerate(iTransf_n_windows):\n",
    "    path = f'{studies_path}/iTransformer_{dataset}_2/n_window{elem}/results'\n",
    "    model_path = f'{studies_path}/n_window{elem}/checkpoints/model.ckpt'\n",
    "\n",
    "    checkpoint = torch.load(model_path)\n",
    "    model = iTransformer(N, elem).double()\n",
    "    model.load_state_dict(checkpoint['model_state_dict'])\n",
    "    accuracy_list = checkpoint['accuracy_list']    \n",
    "    total_params = sum(p.numel() for p in model.parameters())\n",
    "    trainable_params = sum(p.numel() for p in model.parameters() if p.requires_grad)\n",
    "    print(f'total params: {total_params}, trainable params: {trainable_params}')\n",
    "    iTransf_all_res['parameters'].append(trainable_params)\n",
    "\n",
    "    df_res = pd.read_csv(f'{path}/all_res.csv')\n",
    "    df_loss = pd.read_csv(f'{path}/test_loss.csv')\n",
    "    df_labels = pd.read_csv(f'{path}/pred_labels.csv')\n",
    "    # print(df_res)\n",
    "    iTransf_all_res['ROC/AUC'].append(df_res['ROC/AUC'])\n",
    "    TranAD_all_res['f1'].append(df_res['f1'])\n",
    "    iTransf_all_res['total_loss'].append(np.mean(df_loss))\n",
    "    loss[i] = np.mean(df_loss, axis=0)\n",
    "    TranAD_labels.append(np.array(df_labels))\n",
    "TranAD_all_res['loss'] = loss\n",
    "print(iTransf_labels[0].shape, len(iTransf_labels))\n",
    "# print(iTransf_all_res)"
   ]
  },
  {
   "cell_type": "code",
   "execution_count": null,
   "metadata": {},
   "outputs": [],
   "source": [
    "# same as previous but for detection level instead of window size\n",
    "iTransf_all_res = {'ROC/AUC': [], 'f1': [], 'total_loss': [], 'loss': [], 'parameters': []}\n",
    "loss = np.zeros((len(iTransf_q), N))\n",
    "iTransf_labels = []\n",
    "\n",
    "for i, elem in enumerate(iTransf_q):\n",
    "    path = f'{studies_path}/iTransformer_{dataset}/detection_lvl_{elem}/results'\n",
    "    model_path = f'{studies_path}/iTransformer_{dataset}/detection_lvl_{elem}/checkpoints/model.ckpt'\n",
    "\n",
    "    checkpoint = torch.load(model_path)\n",
    "    model = iTransformer(N, 10).double()\n",
    "    model.load_state_dict(checkpoint['model_state_dict'])\n",
    "    accuracy_list = checkpoint['accuracy_list']    \n",
    "    total_params = sum(p.numel() for p in model.parameters())\n",
    "    trainable_params = sum(p.numel() for p in model.parameters() if p.requires_grad)\n",
    "    print(f'total params: {total_params}, trainable params: {trainable_params}')\n",
    "    iTransf_all_res['parameters'].append(trainable_params)\n",
    "\n",
    "    df_res = pd.read_csv(f'{path}/all_res.csv')\n",
    "    df_loss = pd.read_csv(f'{path}/test_loss.csv')\n",
    "    df_labels = pd.read_csv(f'{path}/pred_labels.csv')\n",
    "    # print(df_res)\n",
    "    iTransf_all_res['ROC/AUC'].append(df_res['ROC/AUC'])\n",
    "    iTransf_all_res['f1'].append(df_res['f1'])\n",
    "    iTransf_all_res['total_loss'].append(np.mean(df_loss))\n",
    "    loss[i] = np.mean(df_loss, axis=0)\n",
    "    iTransf_labels.append(np.array(df_labels))\n",
    "iTransf_all_res['loss'] = loss\n",
    "print(iTransf_labels[0].shape, len(iTransf_labels))\n",
    "# print(iTransf_all_res)"
   ]
  },
  {
   "cell_type": "code",
   "execution_count": null,
   "metadata": {},
   "outputs": [],
   "source": [
    "# same as previous but for detection level instead of window size\n",
    "TranAD_all_res = {'ROC/AUC': [], 'f1': [], 'total_loss': [], 'loss': [], 'parameters': []}\n",
    "loss = np.zeros((len(TranAD_q), N))\n",
    "TranAD_labels = []\n",
    "\n",
    "for i, elem in enumerate(TranAD_q):\n",
    "    path = f'{studies_path}/TranAD_{dataset}/detection_lvl_{elem}/results'\n",
    "    model_path = f'{studies_path}/TranAD_{dataset}/detection_lvl_{elem}/checkpoints/model.ckpt'\n",
    "\n",
    "    checkpoint = torch.load(model_path)\n",
    "    model = TranAD(N, 10).double()\n",
    "    model.load_state_dict(checkpoint['model_state_dict'])\n",
    "    accuracy_list = checkpoint['accuracy_list']    \n",
    "    total_params = sum(p.numel() for p in model.parameters())\n",
    "    trainable_params = sum(p.numel() for p in model.parameters() if p.requires_grad)\n",
    "    print(f'total params: {total_params}, trainable params: {trainable_params}')\n",
    "    TranAD_all_res['parameters'].append(trainable_params)\n",
    "\n",
    "    df_res = pd.read_csv(f'{path}/all_res.csv')\n",
    "    df_loss = pd.read_csv(f'{path}/test_loss.csv')\n",
    "    df_labels = pd.read_csv(f'{path}/pred_labels.csv')\n",
    "    # print(df_res)\n",
    "    TranAD_all_res['ROC/AUC'].append(df_res['ROC/AUC'])\n",
    "    TranAD_all_res['f1'].append(df_res['f1'])\n",
    "    TranAD_all_res['total_loss'].append(np.mean(df_loss))\n",
    "    loss[i] = np.mean(df_loss, axis=0)\n",
    "    TranAD_labels.append(np.array(df_labels))\n",
    "TranAD_all_res['loss'] = loss\n",
    "print(TranAD_labels[0].shape, len(TranAD_labels))\n"
   ]
  },
  {
   "cell_type": "code",
   "execution_count": null,
   "metadata": {},
   "outputs": [],
   "source": [
    "# same as previous but for detection level instead of window size + new outputs\n",
    "iTransf_all_res = {'AUC_local': [], 'AUC_global': [], 'f1_local': [], 'f1_global': [], 'parameters': []}\n",
    "loss = np.zeros((len(iTransf_q), N))\n",
    "iTransf_labels = []\n",
    "\n",
    "for i, elem in enumerate(iTransf_q):\n",
    "    path = f'{studies_path}/iTransformer_{dataset}/detectionlvl_{elem}/results'\n",
    "    model_path = f'{studies_path}/iTransformer_{dataset}/detectionlvl_1e-05/checkpoints/model.ckpt'\n",
    "   \n",
    "    checkpoint = torch.load(model_path)\n",
    "    model = iTransformer(N, 10).double()\n",
    "    model.load_state_dict(checkpoint['model_state_dict'])\n",
    "    total_params = sum(p.numel() for p in model.parameters())\n",
    "    trainable_params = sum(p.numel() for p in model.parameters() if p.requires_grad)\n",
    "    print(f'total params: {total_params}, trainable params: {trainable_params}')\n",
    "    iTransf_all_res['parameters'].append(trainable_params)\n",
    "\n",
    "    df_res = pd.read_csv(f'{path}/res.csv')\n",
    "    df_labels = pd.read_csv(f'{path}/pred_labels.csv')\n",
    "\n",
    "    iTransf_all_res['AUC_local'].append(df_res['ROC/AUC'].iloc[-2])\n",
    "    iTransf_all_res['AUC_global'].append(df_res['ROC/AUC'].iloc[-1])\n",
    "    iTransf_all_res['f1_local'].append(df_res['f1'].iloc[-2])\n",
    "    iTransf_all_res['f1_global'].append(df_res['f1'].iloc[-1])\n",
    "    # print(iTransf_all_res)\n",
    "    iTransf_labels.append(np.array(df_labels))\n",
    "\n",
    "print(iTransf_labels[0].shape, len(iTransf_labels))\n",
    "# print(iTransf_all_res)"
   ]
  },
  {
   "cell_type": "code",
   "execution_count": null,
   "metadata": {},
   "outputs": [],
   "source": [
    "# same as previous but for detection level instead of window size + new outputs\n",
    "TranAD_all_res = {'AUC_local': [], 'AUC_global': [], 'f1_local': [], 'f1_global': [], 'parameters': []}\n",
    "loss = np.zeros((len(TranAD_q), N))\n",
    "TranAD_labels = []\n",
    "\n",
    "for i, elem in enumerate(TranAD_q):\n",
    "    path = f'{studies_path}/TranAD_{dataset}/detectionlvl_{elem}/results'\n",
    "    model_path = f'{studies_path}/TranAD_{dataset}/detectionlvl_1e-05/checkpoints/model.ckpt'\n",
    "   \n",
    "    checkpoint = torch.load(model_path)\n",
    "    model = TranAD(N, 10).double()\n",
    "    model.load_state_dict(checkpoint['model_state_dict'])\n",
    "    total_params = sum(p.numel() for p in model.parameters())\n",
    "    trainable_params = sum(p.numel() for p in model.parameters() if p.requires_grad)\n",
    "    print(f'total params: {total_params}, trainable params: {trainable_params}')\n",
    "    TranAD_all_res['parameters'].append(trainable_params)\n",
    "\n",
    "    df_res = pd.read_csv(f'{path}/res.csv')\n",
    "    df_labels = pd.read_csv(f'{path}/pred_labels.csv')\n",
    "    # print(df_res['f1'])\n",
    "\n",
    "    TranAD_all_res['AUC_local'].append(df_res['ROC/AUC'].iloc[-2])\n",
    "    TranAD_all_res['AUC_global'].append(df_res['ROC/AUC'].iloc[-1])\n",
    "    TranAD_all_res['f1_local'].append(df_res['f1'].iloc[-2])\n",
    "    TranAD_all_res['f1_global'].append(df_res['f1'].iloc[-1])\n",
    "    # print(iTransf_all_res)\n",
    "    TranAD_labels.append(np.array(df_labels))\n",
    "\n",
    "print(TranAD_labels[0].shape, len(TranAD_labels))\n",
    "# print(TranAD_all_res)"
   ]
  },
  {
   "cell_type": "code",
   "execution_count": null,
   "metadata": {},
   "outputs": [],
   "source": []
  },
  {
   "cell_type": "code",
   "execution_count": null,
   "metadata": {},
   "outputs": [],
   "source": [
    "plt.plot(TranAD_q, TranAD_all_res['parameters'], label='TranAD')\n",
    "plt.plot(iTransf_q, iTransf_all_res['parameters'], label='iTransformer')\n",
    "plt.xlabel('Detection level')\n",
    "plt.ylabel('# trainable parameters')\n",
    "plt.xscale('log')\n",
    "plt.legend()\n",
    "plt.savefig(f'{plot_path}/param.png', dpi=300)"
   ]
  },
  {
   "cell_type": "code",
   "execution_count": null,
   "metadata": {},
   "outputs": [],
   "source": [
    "plt.plot(TranAD_n_windows, TranAD_all_res['parameters'], label='TranAD')\n",
    "# plt.plot(TranAD_n_windows, iTransf_all_res['parameters'][:len(TranAD_n_windows)], label='iTransformer')\n",
    "plt.plot(iTransf_n_windows, iTransf_all_res['parameters'], label='iTransformer')\n",
    "plt.xlabel('window size')\n",
    "plt.ylabel('# trainable parameters')\n",
    "plt.legend()\n",
    "plt.savefig(f'{plot_path}/param.png', dpi=300)\n"
   ]
  },
  {
   "cell_type": "code",
   "execution_count": null,
   "metadata": {},
   "outputs": [],
   "source": [
    "plt.plot(TranAD_n_windows, TranAD_all_res['parameters'], label='TranAD')\n",
    "plt.plot(TranAD_n_windows, iTransf_all_res['parameters'][:len(TranAD_n_windows)], label='iTransformer')\n",
    "# plt.plot(iTransf_n_windows, iTransf_all_res['parameters'], label='iTransformer')\n",
    "plt.xlabel('window size')\n",
    "plt.ylabel('# trainable parameters')\n",
    "plt.legend()\n",
    "plt.savefig(f'{plot_path}/param_zoom.png', dpi=300)\n"
   ]
  },
  {
   "cell_type": "code",
   "execution_count": null,
   "metadata": {},
   "outputs": [],
   "source": []
  },
  {
   "cell_type": "code",
   "execution_count": null,
   "metadata": {},
   "outputs": [],
   "source": [
    "# same plots but zoomed\n",
    "plt.plot(TranAD_n_windows, TranAD_all_res['ROC/AUC'], label='TranAD')\n",
    "plt.plot(TranAD_n_windows, iTransf_all_res['ROC/AUC'][:len(TranAD_n_windows)], label='iTransformer')\n",
    "plt.xlabel('window size')\n",
    "plt.ylabel('ROC AUC')\n",
    "plt.legend()\n",
    "plt.show()\n",
    "# plt.savefig(f'{plot_path}/rocauc_zoom2.png', dpi=300)\n",
    "plt.clf()\n",
    "\n",
    "plt.plot(TranAD_n_windows, TranAD_all_res['f1'], label='TranAD')\n",
    "plt.plot(TranAD_n_windows, iTransf_all_res['f1'][:len(TranAD_n_windows)], label='iTransformer')\n",
    "plt.xlabel('window size')\n",
    "plt.ylabel('f1 score')\n",
    "plt.legend()\n",
    "plt.show()\n",
    "# plt.savefig(f'{plot_path}/f1_zoom2.png', dpi=300)"
   ]
  },
  {
   "cell_type": "code",
   "execution_count": null,
   "metadata": {},
   "outputs": [],
   "source": [
    "plt.plot(TranAD_n_windows, TranAD_all_res['ROC/AUC'], label='TranAD')\n",
    "plt.plot(iTransf_n_windows, iTransf_all_res['ROC/AUC'], label='iTransformer')\n",
    "plt.xlabel('window size')\n",
    "plt.ylabel('ROC AUC')\n",
    "plt.legend()\n",
    "plt.show()\n",
    "# plt.savefig(f'{plot_path}/rocauc_2.png', dpi=300)\n",
    "plt.clf()\n",
    "\n",
    "plt.plot(TranAD_n_windows, TranAD_all_res['f1'], label='TranAD')\n",
    "plt.plot(iTransf_n_windows, iTransf_all_res['f1'], label='iTransformer')\n",
    "plt.xlabel('window size')\n",
    "plt.ylabel('f1 score')\n",
    "plt.legend()\n",
    "plt.show()\n",
    "# plt.savefig(f'{plot_path}/f1_2.png', dpi=300)"
   ]
  },
  {
   "cell_type": "code",
   "execution_count": null,
   "metadata": {},
   "outputs": [],
   "source": [
    "# same but with detection level q\n",
    "plt.plot(TranAD_q, TranAD_all_res['ROC/AUC'], ':o', label='TranAD')\n",
    "plt.plot(iTransf_q, iTransf_all_res['ROC/AUC'], ':o', label='iTransformer')\n",
    "plt.xlabel('Detection level')\n",
    "plt.ylabel('ROC AUC')\n",
    "plt.xscale('log')\n",
    "plt.legend()\n",
    "# plt.show()\n",
    "plt.savefig(f'{plot_path}/rocauc.png', dpi=300)\n",
    "plt.clf()\n",
    "\n",
    "plt.plot(TranAD_q, TranAD_all_res['ROC/AUC'], ':o', label='TranAD')\n",
    "plt.plot(iTransf_q, iTransf_all_res['f1'], ':o', label='iTransformer')\n",
    "plt.xlabel('Detection level')\n",
    "plt.ylabel('F1 score')\n",
    "plt.xscale('log')\n",
    "plt.legend()\n",
    "# plt.show()\n",
    "plt.savefig(f'{plot_path}/f1.png', dpi=300)"
   ]
  },
  {
   "cell_type": "code",
   "execution_count": null,
   "metadata": {},
   "outputs": [],
   "source": [
    "# same but with detection level q + new outputs\n",
    "plt.plot(TranAD_q, TranAD_all_res['AUC_local'], ':o', label='TranAD local')\n",
    "plt.plot(TranAD_q, TranAD_all_res['AUC_global'], ':o', label='TranAD global')\n",
    "plt.plot(iTransf_q, iTransf_all_res['AUC_local'], ':o', label='iTransformer local')\n",
    "plt.plot(iTransf_q, iTransf_all_res['AUC_global'], ':o', label='iTransformer global')\n",
    "plt.xlabel('Detection level')\n",
    "plt.ylabel('ROC AUC')\n",
    "plt.xscale('log')\n",
    "plt.legend()\n",
    "# plt.show()\n",
    "plt.savefig(f'{plot_path}/rocauc.png', dpi=300)\n",
    "plt.clf()\n",
    "\n",
    "plt.plot(TranAD_q, TranAD_all_res['f1_local'], ':o', label='TranAD local')\n",
    "plt.plot(TranAD_q, TranAD_all_res['f1_global'], ':o', label='TranAD global')\n",
    "plt.plot(iTransf_q, iTransf_all_res['f1_local'], ':o', label='iTransformer local')\n",
    "plt.plot(iTransf_q, iTransf_all_res['f1_global'], ':o', label='iTransformer global')\n",
    "plt.xlabel('Detection level')\n",
    "plt.ylabel('F1 score')\n",
    "plt.xscale('log')\n",
    "plt.legend()\n",
    "# plt.show()\n",
    "plt.savefig(f'{plot_path}/f1.png', dpi=300)"
   ]
  },
  {
   "cell_type": "code",
   "execution_count": null,
   "metadata": {},
   "outputs": [],
   "source": [
    "plt.plot(TranAD_n_windows, TranAD_all_res['total_loss'], label='TranAD')\n",
    "# plt.plot(iTransf_n_windows, iTransf_all_res['total_loss'], label='iTransformer')\n",
    "plt.xlabel('window size')\n",
    "plt.ylabel('test loss')\n",
    "plt.title('total test loss over all dimensions')\n",
    "plt.legend()\n",
    "plt.show()\n",
    "# plt.savefig(f'{plot_path}/total_loss_TranAD.png', dpi=300)\n",
    "\n",
    "\n",
    "plt.plot(TranAD_n_windows, TranAD_all_res['total_loss'], label='TranAD')\n",
    "plt.plot(TranAD_n_windows, iTransf_all_res['total_loss'][:len(TranAD_n_windows)], label='iTransformer')\n",
    "plt.xlabel('window size')\n",
    "plt.ylabel('test loss')\n",
    "plt.title('total test loss over all dimensions')\n",
    "plt.legend()\n",
    "plt.show()\n",
    "# plt.savefig(f'{plot_path}/total_loss_both.png', dpi=300)"
   ]
  },
  {
   "cell_type": "code",
   "execution_count": null,
   "metadata": {},
   "outputs": [],
   "source": [
    "print(TranAD_all_res['loss'][:,0])\n",
    "for dim in range(N):\n",
    "\ta_s = TranAD_all_res['loss'][:,dim]\n",
    "\tplt.plot(TranAD_n_windows, a_s, label=f'dim = {dim}')\n",
    "\tplt.xlabel('window size')\n",
    "\tplt.ylabel('Test loss')\n",
    "\tplt.title(f'Average loss for dim = {dim}')\n",
    "\t# plt.legend()\n",
    "\t# plt.savefig(f'{path}/{name}.png', dpi=300)\n",
    "\tplt.show()"
   ]
  },
  {
   "cell_type": "code",
   "execution_count": null,
   "metadata": {},
   "outputs": [],
   "source": [
    "for dim in range(N):\n",
    "\ta_s = iTransf_all_res['loss'][:,dim]\n",
    "\tplt.plot(iTransf_n_windows, a_s)\n",
    "\tplt.xlabel('window size')\n",
    "\tplt.ylabel('Test loss')\n",
    "\tplt.title(f'Average loss for dim = {dim}')\n",
    "\tplt.tight_layout()\n",
    "\tplt.show()"
   ]
  },
  {
   "cell_type": "code",
   "execution_count": null,
   "metadata": {},
   "outputs": [],
   "source": [
    "for dim in range(N):\n",
    "\tfig, axs = plt.subplots(1, 2, figsize=(16, 8))\n",
    "\ta_s1 = TranAD_all_res['loss'][:,dim]\n",
    "\ta_s2 = iTransf_all_res['loss'][:,dim]\n",
    "\taxs[0].plot(TranAD_n_windows, a_s1, label=f'dim = {dim}')\n",
    "\taxs[1].plot(iTransf_n_windows, a_s2, label=f'dim = {dim}')\n",
    "\taxs[0].set_title('TranAD')\n",
    "\taxs[1].set_title('iTransformer')\n",
    "\tfig.supxlabel('window size')\n",
    "\tfig.supylabel('Test loss')\n",
    "\tfig.suptitle(f'Average loss for dim = {dim}')\n",
    "\tplt.tight_layout()\n",
    "\tplt.show()\n",
    "\t# plt.savefig(f'{plot_path}/test_loss_dim{dim}.png', dpi=300)\n",
    "\t# plt.close()"
   ]
  },
  {
   "cell_type": "code",
   "execution_count": null,
   "metadata": {},
   "outputs": [],
   "source": [
    "for dim in range(N):\n",
    "\t# print('looking at dimension: ', dim)\n",
    "\tpred1 = []\n",
    "\tpred2 = []\n",
    "\tfor i in range(len(TranAD_n_windows)):\n",
    "\t\tpred1.append(TranAD_labels[i][:,dim])\n",
    "\tfor i in range(len(iTransf_n_windows)):\n",
    "\t\tpred2.append(iTransf_labels[i][:,dim])\n",
    "\ttrue = np.array(true_labels[0][:,dim]).T\n",
    "\ttrue = true[np.newaxis, :]\n",
    "\n",
    "\tfig, axs = plt.subplots(3, 1, figsize=(20,10), sharex=True, gridspec_kw={'height_ratios': [3, 6, 1]})\n",
    "\tim1 = axs[0].imshow(pred1, origin='lower', aspect='auto')\n",
    "\taxs[1].imshow(pred2, origin='lower', aspect='auto')\n",
    "\taxs[2].imshow(true, origin='lower', aspect='auto')\n",
    "\taxs[0].set_title('Anomaly labels predicted with TranAD')\n",
    "\t# axs[0].set_ylabel('window size')\n",
    "\taxs[0].set_yticks(ticks=np.arange(len(TranAD_n_windows)), labels=TranAD_n_windows)\n",
    "\taxs[1].set_title('Anomaly labels predicted with iTransformer')\n",
    "\t# axs[1].set_ylabel('window size')\n",
    "\taxs[1].set_yticks(ticks=np.arange(len(iTransf_n_windows)), labels=iTransf_n_windows)\n",
    "\taxs[2].set_title('True labels')\n",
    "\taxs[2].set_yticks(ticks=[0])\n",
    "\tfig.supxlabel('Timestamp')\n",
    "\tfig.supylabel('Window size')\n",
    "\tfig.suptitle(f'dim = {dim}')\n",
    "\tplt.tight_layout()\n",
    "\tplt.show()\n",
    "\t# plt.savefig(f'{plot_path}/alabels_dim{dim}.png', dpi=300)\n",
    "\tplt.close()\n"
   ]
  },
  {
   "cell_type": "code",
   "execution_count": null,
   "metadata": {},
   "outputs": [],
   "source": [
    "# same but for detection level\n",
    "for dim in range(N):\n",
    "\tpred1 = []\n",
    "\tpred2 = []\n",
    "\tfor i in range(len(TranAD_q)):\n",
    "\t\tpred1.append(TranAD_labels[i][:,dim])\n",
    "\tfor i in range(len(iTransf_q)):\n",
    "\t\tpred2.append(iTransf_labels[i][:,dim])\n",
    "\ttrue = np.array(true_labels[0][:,dim]).T\n",
    "\ttrue = true[np.newaxis, :]\n",
    "\n",
    "\tfig, axs = plt.subplots(3, 1, figsize=(15,6), sharex=True, gridspec_kw={'height_ratios': [3, 5, 1]})\n",
    "\tim1 = axs[0].imshow(pred1, origin='lower', aspect='auto')\n",
    "\taxs[0].imshow(pred1, origin='lower', aspect='auto')\n",
    "\taxs[1].imshow(pred2, origin='lower', aspect='auto')\n",
    "\taxs[2].imshow(true, origin='lower', aspect='auto')\n",
    "\taxs[0].set_title('Anomaly labels predicted with TranAD')\n",
    "\taxs[0].set_yticks(ticks=np.arange(len(TranAD_q)), labels=TranAD_q)\n",
    "\taxs[1].set_title('Anomaly labels predicted with iTransformer')\n",
    "\taxs[1].set_yticks(ticks=np.arange(len(iTransf_q)), labels=iTransf_q)\n",
    "\taxs[2].set_title('True anomaly labels')\n",
    "\taxs[2].set_yticks(ticks=[1e-5])\n",
    "\tfig.supxlabel('Timestamp')\n",
    "\tfig.supylabel('Detection level')\n",
    "\tfig.suptitle(f'Dim = {dim}')\n",
    "\tplt.tight_layout()\n",
    "\t# plt.show()\n",
    "\tplt.savefig(f'{plot_path}/alabels_dim{dim}.png', dpi=300)\n",
    "\tplt.close()\n"
   ]
  },
  {
   "cell_type": "code",
   "execution_count": null,
   "metadata": {},
   "outputs": [],
   "source": [
    "# same but for detection level + local vs global \n",
    "pred1 = []\n",
    "pred2 = []\n",
    "pred3 = []\n",
    "pred4 = []\n",
    "\n",
    "for i in range(len(TranAD_q)):\n",
    "    pred1.append(TranAD_labels[i][:, 0])\n",
    "    pred3.append(TranAD_labels[i][:, 1])\n",
    "for i in range(len(iTransf_q)):\n",
    "    pred2.append(iTransf_labels[i][:, 0])\n",
    "    pred4.append(iTransf_labels[i][:, 1])\n",
    "true = np.array(true_labels[:, 0]).T\n",
    "true = true[np.newaxis, :]\n",
    "\n",
    "fig, axs = plt.subplots(5, 1, figsize=(15, 10), sharex=True, gridspec_kw={'height_ratios': [5, 5, 5, 5, 1]})\n",
    "im1 = axs[0].imshow(pred1, origin='lower', aspect='auto')\n",
    "axs[0].imshow(pred1, origin='lower', aspect='auto')\n",
    "axs[1].imshow(pred2, origin='lower', aspect='auto')\n",
    "axs[2].imshow(pred3, origin='lower', aspect='auto')\n",
    "axs[3].imshow(pred4, origin='lower', aspect='auto')\n",
    "axs[4].imshow(true, origin='lower', aspect='auto')\n",
    "\n",
    "axs[0].set_title('Anomaly labels predicted locally with TranAD')\n",
    "axs[0].set_yticks(ticks=np.arange(len(TranAD_q)), labels=TranAD_q)\n",
    "axs[1].set_title('Anomaly labels predicted locally with iTransformer')\n",
    "axs[1].set_yticks(ticks=np.arange(len(iTransf_q)), labels=iTransf_q)\n",
    "axs[2].set_title('Anomaly labels predicted globally with TranAD')\n",
    "axs[2].set_yticks(ticks=np.arange(len(TranAD_q)), labels=TranAD_q)\n",
    "axs[3].set_title('Anomaly labels predicted globally with iTransformer')\n",
    "axs[3].set_yticks(ticks=np.arange(len(iTransf_q)), labels=iTransf_q)\n",
    "\n",
    "axs[4].set_title('True anomaly labels')\n",
    "axs[4].set_yticks(ticks=[1e-5])\n",
    "fig.supxlabel('Timestamp')\n",
    "fig.supylabel('Detection level')\n",
    "plt.tight_layout()\n",
    "# plt.show()\n",
    "plt.savefig(f'{plot_path}/alabels_all.png', dpi=300)\n",
    "# plt.close()\n"
   ]
  },
  {
   "cell_type": "code",
   "execution_count": null,
   "metadata": {},
   "outputs": [],
   "source": [
    "# same but for detection level\n",
    "true_all = (np.sum(true_labels[0], axis=1) >= 1) + 0\n",
    "pred1 = (np.sum(TranAD_labels, axis=2) >= 1) + 0\n",
    "pred2 = (np.sum(iTransf_labels, axis=2) >= 1) + 0\n",
    "true_all = true_all[np.newaxis, :]\n",
    "\n",
    "fig, axs = plt.subplots(3, 1, figsize=(15,6), sharex=True, gridspec_kw={'height_ratios': [3,5,1]})\n",
    "im1 = axs[0].imshow(pred2, origin='lower', aspect='auto')\n",
    "axs[0].imshow(pred1, origin='lower', aspect='auto')\n",
    "axs[1].imshow(pred2, origin='lower', aspect='auto')\n",
    "axs[2].imshow(true, origin='lower', aspect='auto')\n",
    "axs[0].set_title('Anomaly labels predicted with TranAD')\n",
    "axs[0].set_yticks(ticks=np.arange(len(TranAD_q)), labels=TranAD_q)\n",
    "axs[1].set_title('Anomaly labels predicted with iTransformer')\n",
    "axs[1].set_yticks(ticks=np.arange(len(iTransf_q)), labels=iTransf_q)\n",
    "axs[2].set_title('True anomaly labels')\n",
    "axs[2].set_yticks(ticks=[1e-5])\n",
    "fig.supxlabel('Timestamp')\n",
    "fig.supylabel('Detection level')\n",
    "fig.suptitle(f'Anomalies summed over all dimensions')\n",
    "plt.tight_layout()\n",
    "plt.show()\n",
    "# plt.savefig(f'{plot_path}/alabels_all.png', dpi=300)\n"
   ]
  },
  {
   "cell_type": "code",
   "execution_count": null,
   "metadata": {},
   "outputs": [],
   "source": [
    "true_all = (np.sum(true_labels[0], axis=1) >= 1) + 0\n",
    "pred1 = (np.sum(TranAD_labels, axis=2) >= 1) + 0\n",
    "pred2 = (np.sum(iTransf_labels, axis=2) >= 1) + 0\n",
    "true_all = true_all[np.newaxis, :]\n",
    "\n",
    "fig, axs = plt.subplots(3, 1, figsize=(20,10), sharex=True, gridspec_kw={'height_ratios': [3, 6, 1]})\n",
    "im1 = axs[0].imshow(pred1, origin='lower', aspect='auto')\n",
    "axs[1].imshow(pred2, origin='lower', aspect='auto')\n",
    "axs[2].imshow(true_all, origin='lower', aspect='auto')\n",
    "axs[0].set_title('anomaly labels predicted with TranAD')\n",
    "# axs[0].set_ylabel('window size')\n",
    "axs[0].set_yticks(ticks=np.arange(len(TranAD_n_windows)), labels=TranAD_n_windows)\n",
    "axs[1].set_title('anomaly labels predicted with iTransformer')\n",
    "# axs[1].set_ylabel('window size')\n",
    "axs[1].set_yticks(ticks=np.arange(len(iTransf_n_windows)), labels=iTransf_n_windows)\n",
    "axs[2].set_title('true labels')\n",
    "axs[2].set_yticks(ticks=[0])\n",
    "fig.supxlabel('time stamp')\n",
    "fig.supylabel('window size')\n",
    "fig.suptitle(f'anomalies summed over all dimensions')\n",
    "plt.tight_layout()\n",
    "plt.show()\n",
    "# plt.savefig(f'{plot_path}/alabels_all.png', dpi=300)\n"
   ]
  },
  {
   "cell_type": "code",
   "execution_count": null,
   "metadata": {},
   "outputs": [],
   "source": []
  },
  {
   "cell_type": "code",
   "execution_count": null,
   "metadata": {},
   "outputs": [],
   "source": []
  },
  {
   "cell_type": "code",
   "execution_count": null,
   "metadata": {},
   "outputs": [],
   "source": []
  },
  {
   "cell_type": "markdown",
   "metadata": {},
   "source": [
    "### for visualising training/testing data"
   ]
  },
  {
   "cell_type": "code",
   "execution_count": null,
   "metadata": {},
   "outputs": [],
   "source": [
    "dataset = 'SWaT'"
   ]
  },
  {
   "cell_type": "code",
   "execution_count": null,
   "metadata": {},
   "outputs": [],
   "source": [
    "loader = []\n",
    "for file in ['train', 'test']:\n",
    "    if dataset == 'SMD': file = 'machine-1-1_' + file\n",
    "    if dataset == 'SMAP': file = 'P-1_' + file\n",
    "    if dataset == 'SMAP_new': file = 'P-1_' + file\n",
    "    if dataset == 'MSL': file = 'C-1_' + file\n",
    "    if dataset == 'MSL_new': file = 'C-1_' + file\n",
    "    if dataset == 'UCR': file = '136_' + file\n",
    "    if dataset == 'NAB': file = 'ec2_request_latency_system_failure_' + file\n",
    "    loader.append(np.load(os.path.join(f'processed/{dataset}', f'{file}.npy')))\n",
    "train_data = loader[0]\n",
    "test_data = loader[1]\n",
    "print(train_data, train_data[0].shape, train_data.shape)\n",
    "print(test_data, test_data[0].shape)"
   ]
  },
  {
   "cell_type": "code",
   "execution_count": null,
   "metadata": {},
   "outputs": [],
   "source": [
    "for dim in range(len(test_data[0])):\n",
    "    plt.plot(test_data[:, dim])\n",
    "    plt.title(f'{dataset}: Dim = {dim}')\n",
    "    plt.xlabel('Timestamp')\n",
    "    plt.ylabel('Value')\n",
    "    plt.tight_layout()\n",
    "    plt.show()\n",
    "    # plt.savefig(f'plots_data/{dataset}_train_dim{dim}.png', dpi=300)\n",
    "    plt.close()\n",
    "    if np.all(train_data[:, dim]==0):\n",
    "        if np.all(test_data[:, dim]==0):\n",
    "            print('0 test and train data: ', dim)\n",
    "        else:\n",
    "            print('0 training: ', dim)"
   ]
  },
  {
   "cell_type": "code",
   "execution_count": null,
   "metadata": {},
   "outputs": [],
   "source": [
    "from matplotlib.backends.backend_pdf import PdfPages\n"
   ]
  },
  {
   "cell_type": "code",
   "execution_count": null,
   "metadata": {},
   "outputs": [],
   "source": [
    "pdf = PdfPages(f'plots_data/{dataset}_train.pdf')\n",
    "for dim in range(len(train_data[0])):\n",
    "    fig, axs = plt.subplots(1, 1, figsize=(6,2))\n",
    "    plt.plot(train_data[:, dim])\n",
    "    plt.title(f'{dataset}: Dim = {dim}')\n",
    "    plt.xlabel('Timestamp')\n",
    "    plt.ylabel('Value')\n",
    "    plt.tight_layout()\n",
    "    pdf.savefig(fig)\n",
    "    plt.close()\n",
    "pdf.close()"
   ]
  },
  {
   "cell_type": "code",
   "execution_count": null,
   "metadata": {},
   "outputs": [],
   "source": [
    "pdf = PdfPages(f'plots_data/{dataset}_test.pdf')\n",
    "for dim in range(len(test_data[0])):\n",
    "    fig, axs = plt.subplots(1, 1, figsize=(6,2))\n",
    "    plt.plot(test_data[:, dim])\n",
    "    plt.title(f'{dataset}: Dim = {dim}')\n",
    "    plt.xlabel('Timestamp')\n",
    "    plt.ylabel('Value')\n",
    "    plt.tight_layout()\n",
    "    pdf.savefig(fig)\n",
    "    plt.close()\n",
    "pdf.close()"
   ]
  },
  {
   "cell_type": "code",
   "execution_count": null,
   "metadata": {},
   "outputs": [],
   "source": []
  },
  {
   "cell_type": "markdown",
   "metadata": {},
   "source": [
    "### for comparing importance of # epochs & # features on IEEECIS_pca_scaled / ATLAS TS"
   ]
  },
  {
   "cell_type": "code",
   "execution_count": null,
   "metadata": {},
   "outputs": [],
   "source": [
    "from src.data_loader import convert_to_windows_new, load_dataset\n",
    "from main import backprop\n",
    "from src.utils import load_model"
   ]
  },
  {
   "cell_type": "code",
   "execution_count": null,
   "metadata": {},
   "outputs": [],
   "source": [
    "# parameters\n",
    "modelname = 'iTransformer'\n",
    "# dataset = 'IEEECIS_pca_scaled'\n",
    "dataset = 'ATLAS_TS'\n",
    "n_window = 100\n",
    "step_size = 50\n",
    "reps = 5"
   ]
  },
  {
   "cell_type": "code",
   "execution_count": null,
   "metadata": {},
   "outputs": [],
   "source": [
    "%matplotlib inline"
   ]
  },
  {
   "cell_type": "code",
   "execution_count": null,
   "metadata": {},
   "outputs": [],
   "source": [
    "# get results when varying the number of features\n",
    "feats = [40, 50, 75, 100, 150]\n",
    "epochs = 5  \n",
    "res_dict = {f'{m}': np.empty((0, 6)) for m in ['ROCAUC', 'F1', 'MCC']}\n",
    "\n",
    "for f in feats:\n",
    "    scores = {'ROCAUC': np.empty((0,3)), 'F1': np.empty((0,3)), 'MCC': np.empty((0,3))}\n",
    "    for i in range(reps):\n",
    "        folder = f'{modelname}_{dataset}/n_window{n_window}_steps{step_size}_feats{f}_eps{epochs}_{i}'\n",
    "        res_tmp = pd.read_csv(f'{folder}/results/res.csv')\n",
    "        scores['ROCAUC'] = np.vstack((scores['ROCAUC'], res_tmp.iloc[-3:]['ROC/AUC'].values))\n",
    "        scores['F1'] = np.vstack((scores['F1'], res_tmp.iloc[-3:]['f1'].values))\n",
    "        scores['MCC'] = np.vstack((scores['MCC'], res_tmp.iloc[-3:]['MCC'].values))\n",
    "    for key in scores.keys():\n",
    "        scores[key] = np.concatenate((np.mean(scores[key], axis=0), np.std(scores[key], axis=0)), axis=0)\n",
    "        if key == 'MCC':\n",
    "            print(scores[key])\n",
    "        res_dict[key] = np.vstack((res_dict[key], scores[key]))\n",
    "    \n",
    "print(res_dict.keys(), res_dict)"
   ]
  },
  {
   "cell_type": "code",
   "execution_count": null,
   "metadata": {},
   "outputs": [],
   "source": [
    "print(res_dict['ROCAUC'][0])\n",
    "print(res_dict['ROCAUC'][:,0])"
   ]
  },
  {
   "cell_type": "code",
   "execution_count": null,
   "metadata": {},
   "outputs": [],
   "source": [
    "def plot_metric(feats, metric, res_dict):\n",
    "    plt.plot(feats, res_dict[metric][:,0], '-o', label=f\"local (inclusive OR)\")\n",
    "    plt.plot(feats, res_dict[metric][:,1], '-.o', label=f\"local (maj. voting)\")\n",
    "    plt.plot(feats, res_dict[metric][:,2], ':o', label=f\"global\")\n",
    "    plt.fill_between(feats, res_dict[metric][:,0] - res_dict[metric][:,3], res_dict[metric][:,0] + res_dict[metric][:,3], alpha=0.2)\n",
    "    plt.fill_between(feats, res_dict[metric][:,1] - res_dict[metric][:,4], res_dict[metric][:,1] + res_dict[metric][:,4], alpha=0.2)\n",
    "    plt.fill_between(feats, res_dict[metric][:,2] - res_dict[metric][:,5], res_dict[metric][:,2] + res_dict[metric][:,5], alpha=0.2)\n",
    "\n",
    "    if metric == 'ROCAUC':\n",
    "        plt.ylabel('ROC AUC')\n",
    "        metric = 'rocauc'\n",
    "    elif metric == 'f1':\n",
    "        plt.ylabel('F1 score')\n",
    "    else:\n",
    "        plt.ylabel(metric)\n",
    "    plt.xlabel('Number of features')\n",
    "    plt.legend()\n",
    "    plt.tight_layout()\n",
    "    plt.savefig(f'./studies_IEEECIS_pca_scaled/plots/{metric}_feats2.png', facecolor='w')\n",
    "    plt.show()"
   ]
  },
  {
   "cell_type": "code",
   "execution_count": null,
   "metadata": {},
   "outputs": [],
   "source": [
    "plot_metric(feats, 'ROCAUC', res_dict)\n",
    "plot_metric(feats, 'F1', res_dict)\n",
    "plot_metric(feats, 'MCC', res_dict)"
   ]
  },
  {
   "cell_type": "code",
   "execution_count": null,
   "metadata": {},
   "outputs": [],
   "source": []
  },
  {
   "cell_type": "code",
   "execution_count": null,
   "metadata": {},
   "outputs": [],
   "source": [
    "# get results when varying the number of features\n",
    "feats = [40, 50, 75, 100, 150]\n",
    "epochs = 5  \n",
    "res_dict = {}\n",
    "for f in feats:\n",
    "    folder = f'{modelname}_{dataset}/n_window{n_window}_steps{step_size}_feats{f}_eps{epochs}'\n",
    "    res_tmp = pd.read_csv(f'{folder}/results/res.csv')\n",
    "    print(res_tmp.iloc[-3:])\n",
    "    res_dict[f'{f}feats'] = res_tmp.iloc[-3:]"
   ]
  },
  {
   "cell_type": "code",
   "execution_count": null,
   "metadata": {},
   "outputs": [],
   "source": [
    "def plot_feats(res_dict, feats, metric='MCC'):\n",
    "    plt.plot(feats, [res_dict[f'{f}feats'][metric].iloc[0] for f in feats], '-o', label=f\"{res_dict[f'{feats[0]}feats'].iloc[0,0]}\")\n",
    "    plt.plot(feats, [res_dict[f'{f}feats'][metric].iloc[1] for f in feats], '-.o', label=f\"{res_dict[f'{feats[0]}feats'].iloc[1,0]}\")\n",
    "    plt.plot(feats, [res_dict[f'{f}feats'][metric].iloc[2] for f in feats], ':o', label=f\"{res_dict[f'{feats[0]}feats'].iloc[2,0]}\")\n",
    "\n",
    "    # plt.title(f'{modelname} on {dataset}')\n",
    "    if metric == 'ROC/AUC':\n",
    "        plt.ylabel('ROC AUC')\n",
    "        metric = 'rocauc'\n",
    "    elif metric == 'f1':\n",
    "        plt.ylabel('F1 score')\n",
    "    else:\n",
    "        plt.ylabel(metric)\n",
    "    plt.xlabel('Number of features')\n",
    "    plt.legend()\n",
    "    plt.tight_layout()\n",
    "    plt.savefig(f'./studies_IEEECIS_pca_scaled/plots/{metric}_feats.png', facecolor='w')\n",
    "    plt.show()"
   ]
  },
  {
   "cell_type": "code",
   "execution_count": null,
   "metadata": {},
   "outputs": [],
   "source": [
    "plot_feats(res_dict, feats, 'ROC/AUC')\n",
    "plot_feats(res_dict, feats, 'f1')\n",
    "plot_feats(res_dict, feats, 'MCC')"
   ]
  },
  {
   "cell_type": "code",
   "execution_count": null,
   "metadata": {},
   "outputs": [],
   "source": []
  },
  {
   "cell_type": "code",
   "execution_count": null,
   "metadata": {},
   "outputs": [],
   "source": [
    "# get results when varying the number of epochs\n",
    "res_dict = {}\n",
    "epochs = [5, 10, 15, 20]\n",
    "feats = 100\n",
    "for e in epochs:\n",
    "    folder = f'{modelname}_{dataset}/n_window{n_window}_steps{step_size}_feats{feats}_eps{e}'\n",
    "    res_tmp = pd.read_csv(f'{folder}/results/res.csv')\n",
    "    print(res_tmp.iloc[-3:])\n",
    "    res_dict[f'{e}epochs'] = res_tmp.iloc[-3:]"
   ]
  },
  {
   "cell_type": "code",
   "execution_count": null,
   "metadata": {},
   "outputs": [],
   "source": [
    "def plot_epochs(res_dict, epochs, metric='MCC'):\n",
    "    plt.plot(epochs, [res_dict[f'{e}epochs'][metric].iloc[0] for e in epochs], '-o', label=f\"{res_dict[f'{epochs[0]}epochs'].iloc[0,0]}\")\n",
    "    plt.plot(epochs, [res_dict[f'{e}epochs'][metric].iloc[1] for e in epochs], '-.o', label=f\"{res_dict[f'{epochs[0]}epochs'].iloc[1,0]}\")\n",
    "    plt.plot(epochs, [res_dict[f'{e}epochs'][metric].iloc[2] for e in epochs], ':o', label=f\"{res_dict[f'{epochs[0]}epochs'].iloc[2,0]}\")\n",
    "\n",
    "    # plt.title(f'{modelname} on {dataset}')\n",
    "    if metric == 'ROC/AUC':\n",
    "        plt.ylabel('ROC AUC')\n",
    "        metric = 'rocauc'\n",
    "    elif metric == 'f1':\n",
    "        plt.ylabel('F1 score')\n",
    "    else:\n",
    "        plt.ylabel(metric)\n",
    "    plt.xlabel('Number of epochs')\n",
    "    plt.xticks(epochs)\n",
    "    plt.legend()\n",
    "    plt.tight_layout()\n",
    "    plt.savefig(f'./studies_IEEECIS_pca_scaled/plots/{metric}_epochs.png', facecolor='w')\n",
    "    plt.show()"
   ]
  },
  {
   "cell_type": "code",
   "execution_count": null,
   "metadata": {},
   "outputs": [],
   "source": [
    "plot_epochs(res_dict, epochs, 'ROC/AUC')\n",
    "plot_epochs(res_dict, epochs, 'f1')\n",
    "plot_epochs(res_dict, epochs, 'MCC')"
   ]
  },
  {
   "cell_type": "code",
   "execution_count": null,
   "metadata": {},
   "outputs": [],
   "source": []
  },
  {
   "cell_type": "code",
   "execution_count": null,
   "metadata": {},
   "outputs": [],
   "source": [
    "# parameters\n",
    "modelname1 = 'iTransformer'\n",
    "modelname2 = 'TranAD'\n",
    "# dataset = 'IEEECIS_pca_scaled'\n",
    "dataset = 'ATLAS_TS'\n",
    "n_window = [5, 10, 20, 40]\n",
    "step_size = 1\n",
    "feats = -1\n",
    "# feats = 40\n",
    "epochs = 5"
   ]
  },
  {
   "cell_type": "code",
   "execution_count": null,
   "metadata": {},
   "outputs": [],
   "source": [
    "# get results when varying the window size\n",
    "res_dict1 = {}\n",
    "res_dict2 = {}\n",
    "\n",
    "for w in n_window:\n",
    "    folder = f'{modelname1}_{dataset}/n_window{w}_steps{step_size}_feats{feats}_eps{epochs}'\n",
    "    res_tmp = pd.read_csv(f'{folder}/results/res.csv')\n",
    "    print(res_tmp.iloc[-3:])\n",
    "    res_dict1[f'{w}window'] = res_tmp.iloc[-3:]\n",
    "    folder = f'{modelname2}_{dataset}/n_window{w}_steps{step_size}_feats{feats}_eps{epochs}'\n",
    "    res_tmp = pd.read_csv(f'{folder}/results/res.csv')\n",
    "    print(res_tmp.iloc[-3:])\n",
    "    res_dict2[f'{w}window'] = res_tmp.iloc[-3:]\n",
    "\n",
    "print(res_dict1.keys(), res_dict2.keys())"
   ]
  },
  {
   "cell_type": "code",
   "execution_count": null,
   "metadata": {},
   "outputs": [],
   "source": [
    "from cycler import cycler\n",
    "\n",
    "# Access the current color cycler\n",
    "current_cycler = plt.rcParams['axes.prop_cycle']\n",
    "print(current_cycler)\n",
    "\n",
    "# increase the markersize\n",
    "plt.rcParams['lines.markersize'] = 6\n"
   ]
  },
  {
   "cell_type": "code",
   "execution_count": null,
   "metadata": {},
   "outputs": [],
   "source": [
    "def plot_window_size(res_dict1, n_window, res_dict2=None, modelnames=['model 1', 'model 2'], metric='MCC'):\n",
    "    plt.plot(n_window, [res_dict1[f'{n}window'][metric].iloc[0] for n in n_window], '-o', c='#5790fc', label=f\"{modelnames[0]}: {res_dict1[f'{n_window[0]}window'].iloc[0,0]}\")\n",
    "    plt.plot(n_window, [res_dict1[f'{n}window'][metric].iloc[1] for n in n_window], '--o', c='#f89c20', label=f\"{modelnames[0]}: {res_dict1[f'{n_window[0]}window'].iloc[1,0]}\")\n",
    "    plt.plot(n_window, [res_dict1[f'{n}window'][metric].iloc[2] for n in n_window], ':o', c='#e42536', label=f\"{modelnames[0]}: {res_dict1[f'{n_window[0]}window'].iloc[2,0]}\")\n",
    "\n",
    "    if res_dict2 is not None:\n",
    "        plt.plot(n_window, [res_dict2[f'{n}window'][metric].iloc[0] for n in n_window], '-x', c='#5790fc', label=f\"{modelnames[1]}: {res_dict1[f'{n_window[0]}window'].iloc[0,0]}\")\n",
    "        plt.plot(n_window, [res_dict2[f'{n}window'][metric].iloc[1] for n in n_window], '--x', c='#f89c20', label=f\"{modelnames[1]}: {res_dict1[f'{n_window[0]}window'].iloc[1,0]}\")\n",
    "        plt.plot(n_window, [res_dict2[f'{n}window'][metric].iloc[2] for n in n_window], ':x', c='#e42536', label=f\"{modelnames[1]}: {res_dict1[f'{n_window[0]}window'].iloc[2,0]}\")\n",
    "\n",
    "    # plt.axvline(x=70, color='k', linestyle=':', alpha=0.8)\n",
    "\n",
    "    if metric == 'ROC/AUC':\n",
    "        plt.ylabel('ROC AUC')\n",
    "        metric = 'rocauc'\n",
    "        # plt.legend(bbox_to_anchor=(1, 0.9), loc='upper right')\n",
    "        # plt.legend(loc='center right')\n",
    "        # plt.annotate('step size = window size / 2', xy=(70, 0.6), xytext=(73, 0.6), fontsize=12, color='k', rotation=270)\n",
    "        # plt.annotate('step size = 1', xy=(70, 0.6), xytext=(60, 0.6), fontsize=12, color='k', rotation=90)\n",
    "    elif metric == 'f1':\n",
    "        plt.ylabel('F1 score')\n",
    "        # plt.legend(bbox_to_anchor=(1, 0.87), loc='upper right')\n",
    "        # plt.legend(loc='center right')\n",
    "        # plt.annotate('step size = window size / 2', xy=(70, 0.06), xytext=(73, 0.06), fontsize=12, color='k', rotation=270)\n",
    "        # plt.annotate('step size = 1', xy=(70, 0.06), xytext=(60, 0.06), fontsize=12, color='k', rotation=90)\n",
    "    else:\n",
    "        plt.ylabel(metric)\n",
    "        # plt.legend(bbox_to_anchor=(1, 0.927), loc='upper right')\n",
    "        # plt.legend(loc='center right')\n",
    "        # plt.annotate('step size = window size / 2', xy=(70, 0.04), xytext=(73, 0.04), fontsize=12, color='k', rotation=270)\n",
    "        # plt.annotate('step size = 1', xy=(70, 0.04), xytext=(60, 0.04), fontsize=12, color='k', rotation=90)\n",
    "    plt.legend(loc='upper left')\n",
    "    # plt.xscale('log')\n",
    "    plt.xlabel('Window size')\n",
    "    plt.xticks(n_window)\n",
    "    plt.tight_layout()\n",
    "    # plt.savefig(f'./studies_{dataset}/plots/{metric}_windowsize.png', facecolor='w')\n",
    "    plt.show()"
   ]
  },
  {
   "cell_type": "code",
   "execution_count": null,
   "metadata": {},
   "outputs": [],
   "source": [
    "plot_window_size(res_dict1, n_window, res_dict2, [modelname1, modelname2], 'ROC/AUC')\n",
    "plot_window_size(res_dict1, n_window, res_dict2, [modelname1, modelname2], 'f1')\n",
    "plot_window_size(res_dict1, n_window, res_dict2, [modelname1, modelname2], 'MCC')"
   ]
  },
  {
   "cell_type": "code",
   "execution_count": null,
   "metadata": {},
   "outputs": [],
   "source": [
    "# additional plots for iTransformer window size\n",
    "# get results when varying the window size\n",
    "res_dict = {}\n",
    "n_window = [5, 10, 20, 40, 100, 200, 500, 1000]\n",
    "\n",
    "for w in n_window:\n",
    "    if w < 100:\n",
    "        step_size = 1\n",
    "    else:\n",
    "        step_size = w // 2\n",
    "    folder = f'{modelname1}_{dataset}/n_window{w}_steps{step_size}_feats{feats}_eps{epochs}'\n",
    "    res_tmp = pd.read_csv(f'{folder}/results/res.csv')\n",
    "    print(res_tmp.iloc[-3:])\n",
    "    res_dict[f'{w}window'] = res_tmp.iloc[-3:]\n",
    "   \n"
   ]
  },
  {
   "cell_type": "code",
   "execution_count": null,
   "metadata": {},
   "outputs": [],
   "source": [
    "plot_window_size(res_dict, n_window, metric='ROC/AUC', modelnames=['iTransformer'])\n",
    "plot_window_size(res_dict, n_window, metric='f1', modelnames=['iTransformer'])\n",
    "plot_window_size(res_dict, n_window, metric='MCC', modelnames=['iTransformer'])  "
   ]
  },
  {
   "cell_type": "code",
   "execution_count": null,
   "metadata": {},
   "outputs": [],
   "source": []
  },
  {
   "cell_type": "code",
   "execution_count": null,
   "metadata": {},
   "outputs": [],
   "source": [
    "def plot_window_size2(res_dict1, n_window1, n_window2, res_dict2=None, none_dict=None, modelnames=['model 1', 'model 2', 'model 3'], metric='MCC', mode=0):\n",
    "    plt.plot(n_window1, [res_dict1[f'{n}window'][metric].iloc[0] for n in n_window1], '-o', c='#5790fc', label=f\"{modelnames[0]}\")\n",
    "    # plt.plot(n_window1, [res_dict1[f'{n}window'][metric].iloc[1] for n in n_window1], '--o', c='#f89c20', label=f\"{modelnames[0]}: {res_dict1[f'{n_window1[0]}window'].iloc[1,0]}\")\n",
    "    # plt.plot(n_window1, [res_dict1[f'{n}window'][metric].iloc[2] for n in n_window1], ':o', c='#e42536', label=f\"{modelnames[0]}: {res_dict1[f'{n_window1[0]}window'].iloc[2,0]}\")\n",
    "\n",
    "    if res_dict2 is not None:\n",
    "        plt.plot(n_window2, [res_dict2[f'{n}window'][metric].iloc[mode] for n in n_window2], '-x', c='#5790fc', label=f\"{modelnames[1]}\")\n",
    "        # plt.plot(n_window2, [res_dict2[f'{n}window'][metric].iloc[1] for n in n_window2], '--x', c='#f89c20', label=f\"{modelnames[1]}: {res_dict1[f'{n_window2[0]}window'].iloc[1,0]}\")\n",
    "        # plt.plot(n_window2, [res_dict2[f'{n}window'][metric].iloc[2] for n in n_window2], ':x', c='#e42536', label=f\"{modelnames[1]}: {res_dict1[f'{n_window2[0]}window'].iloc[2,0]}\")\n",
    "\n",
    "    if none_dict is not None:\n",
    "        plt.axhline(y=none_dict[metric].iloc[mode], color='k', linestyle='--', label=rf\"{modelnames[2]}: $y={none_dict[metric].iloc[mode]:.2f}$\")\n",
    "        # plt.axhline(y=none_dict[metric].iloc[1], color='k', linestyle='--', label=f\"POT: {none_dict.iloc[1,0]}: $y={none_dict[metric].iloc[1]:.2f}$\")\n",
    "        # plt.axhline(y=none_dict[metric].iloc[2], color='k', linestyle='--', label=f\"POT: {none_dict.iloc[2,0]}: $y={none_dict[metric].iloc[2]:.2f}$\")\n",
    "    \n",
    "    plt.axvline(x=70, color='k', linestyle=':', alpha=0.8)\n",
    "    ymin, ymax = plt.gca().get_ylim()\n",
    "    y_mid = (ymax - ymin) / 2 + ymin\n",
    "    print(ymin, ymax, y_mid)\n",
    "    plt.annotate('step size = window size / 2', xy=(70, y_mid), xytext=(73, y_mid), fontsize=12, color='k', rotation=270)\n",
    "    plt.annotate('step size = 1', xy=(70, y_mid), xytext=(60, y_mid), fontsize=12, color='k', rotation=90)\n",
    "\n",
    "    if metric == 'ROC/AUC':\n",
    "        plt.ylabel('ROC AUC')\n",
    "        metric = 'rocauc'\n",
    "    elif metric == 'f1':\n",
    "        plt.ylabel('F1 score')\n",
    "    else:\n",
    "        plt.ylabel(metric)\n",
    "    \n",
    "    if mode == 0:\n",
    "        plt.title('Local (inclusive OR)')\n",
    "    elif mode == 1:\n",
    "        plt.title('Local (majority voting)')\n",
    "    else:   \n",
    "        plt.title('Global')\n",
    "    plt.legend(bbox_to_anchor=(1, 0.25), loc='upper right')\n",
    "    # plt.legend(loc='upper left')\n",
    "    plt.xscale('log')\n",
    "    plt.xlabel('Window size')\n",
    "    plt.xticks(n_window)\n",
    "    plt.tight_layout()\n",
    "    # plt.savefig(f'./studies_{dataset}/plots/{metric}_windowsize_comp_{mode}.png', facecolor='w')\n",
    "    plt.show()"
   ]
  },
  {
   "cell_type": "code",
   "execution_count": null,
   "metadata": {},
   "outputs": [],
   "source": [
    "# get results when directly applying POT\n",
    "res_dict3 = {}\n",
    "\n",
    "# path = f'None_{dataset}/feats40/res.csv'\n",
    "path = f'None_{dataset}/res.csv'\n",
    "res_tmp = pd.read_csv(path)\n",
    "print(res_tmp.iloc[-3:])\n",
    "res_dict3 = res_tmp.iloc[-3:]"
   ]
  },
  {
   "cell_type": "code",
   "execution_count": null,
   "metadata": {},
   "outputs": [],
   "source": [
    "plot_window_size2(res_dict, n_window, n_window[:4], res_dict2, res_dict3, [f'{modelname1} + POT', f'{modelname2} + POT', 'None + POT'], 'ROC/AUC', 0)\n",
    "plot_window_size2(res_dict, n_window, n_window[:4], res_dict2, res_dict3, [f'{modelname1} + POT', f'{modelname2} + POT', 'None + POT'], 'ROC/AUC', 1)\n",
    "plot_window_size2(res_dict, n_window, n_window[:4], res_dict2, res_dict3, [f'{modelname1} + POT', f'{modelname2} + POT', 'None + POT'], 'ROC/AUC', 2)\n",
    "plot_window_size2(res_dict, n_window, n_window[:4], res_dict2, res_dict3, [f'{modelname1} + POT', f'{modelname2} + POT', 'None + POT'], 'f1', 0)\n",
    "plot_window_size2(res_dict, n_window, n_window[:4], res_dict2, res_dict3, [f'{modelname1} + POT', f'{modelname2} + POT', 'None + POT'], 'f1', 1)\n",
    "plot_window_size2(res_dict, n_window, n_window[:4], res_dict2, res_dict3, [f'{modelname1} + POT', f'{modelname2} + POT', 'None + POT'], 'f1', 2)\n",
    "plot_window_size2(res_dict, n_window, n_window[:4], res_dict2, res_dict3, [f'{modelname1} + POT', f'{modelname2} + POT', 'None + POT'], 'MCC', 0)\n",
    "plot_window_size2(res_dict, n_window, n_window[:4], res_dict2, res_dict3, [f'{modelname1} + POT', f'{modelname2} + POT', 'None + POT'], 'MCC', 1)\n",
    "plot_window_size2(res_dict, n_window, n_window[:4], res_dict2, res_dict3, [f'{modelname1} + POT', f'{modelname2} + POT', 'None + POT'], 'MCC', 2)"
   ]
  },
  {
   "cell_type": "code",
   "execution_count": null,
   "metadata": {},
   "outputs": [],
   "source": [
    "def plot_window_size3(res_dict1, n_window1, n_window2, res_dict2=None, none_dict=None, modelnames=['model 1', 'model 2', 'model 3'], metric='MCC'):\n",
    "    titles = ['Local (inclusive OR)', 'Local (majority voting)', 'Global']\n",
    "    colors = ['#5790fc', '#f89c20', '#e42536']\n",
    "    # increase markersize and linewidth and markerline width\n",
    "    plt.rcParams['lines.markersize'] = 8\n",
    "    plt.rcParams['lines.linewidth'] = 3\n",
    "    plt.rcParams['lines.markeredgewidth'] = 3\n",
    "\n",
    "    fig, axs = plt.subplots(1, 3, figsize=(24, 9), sharey=True)\n",
    "    for i, mode in enumerate([0, 1, 2]):    \n",
    "        axs[i].plot(n_window1, [res_dict1[f'{n}window'][metric].iloc[mode] for n in n_window1], '-o', c=colors[i], label=f\"{modelnames[0]}\")\n",
    "        if res_dict2 is not None:\n",
    "            axs[i].plot(n_window2, [res_dict2[f'{n}window'][metric].iloc[mode] for n in n_window2], '-x', c=colors[i], label=f\"{modelnames[1]}\")\n",
    "        if none_dict is not None:\n",
    "            axs[i].axhline(y=none_dict[metric].iloc[mode], color='k', linestyle='--', label=rf\"{modelnames[2]}: $y={none_dict[metric].iloc[mode]:.2f}$\")\n",
    "        \n",
    "        axs[i].axvline(x=70, color='k', linestyle=':', alpha=0.8, linewidth=1)\n",
    "        ymin, ymax = axs[i].get_ylim()\n",
    "        y_mid = (ymax - ymin) / 2 + ymin\n",
    "        axs[i].annotate('step size = window size / 2', xy=(70, y_mid), xytext=(73, y_mid), fontsize=17, color='k', rotation=270, va='center')\n",
    "        axs[i].annotate('step size = 1', xy=(70, y_mid), xytext=(55, y_mid), fontsize=17, color='k', rotation=90, va='center')\n",
    "\n",
    "        if metric == 'ROC/AUC':\n",
    "            axs[i].set_ylabel('ROC AUC')\n",
    "            axs[i].legend(bbox_to_anchor=(0.97, 0.27), loc='upper right')\n",
    "        elif metric == 'f1':\n",
    "            axs[i].set_ylabel('F1 score')\n",
    "            # axs[i].legend(bbox_to_anchor=(0.97, 0.27), loc='upper right')\n",
    "            axs[i].legend(loc='upper left')\n",
    "        else:\n",
    "            axs[i].set_ylabel(metric)\n",
    "            # axs[i].legend(bbox_to_anchor=(0.97, 0.25), loc='upper right')\n",
    "            axs[i].legend(loc='upper left')\n",
    "        \n",
    "        axs[i].set_title(titles[i])\n",
    "        axs[i].set_xticks(n_window1)\n",
    "        axs[i].set_xscale('log')\n",
    "        axs[i].set_xlabel('Window size')\n",
    "\n",
    "    plt.tight_layout()\n",
    "    if metric == 'ROC/AUC':\n",
    "        metric = 'rocauc'\n",
    "    plt.savefig(f'./studies_{dataset}/plots/{metric}_windowsize_comp.png', facecolor='w')\n",
    "    plt.show()"
   ]
  },
  {
   "cell_type": "code",
   "execution_count": null,
   "metadata": {},
   "outputs": [],
   "source": [
    "plot_window_size3(res_dict, n_window, n_window[:4], res_dict2, res_dict3, [f'{modelname1} + POT', f'{modelname2} + POT', 'None + POT'], 'ROC/AUC')\n",
    "plot_window_size3(res_dict, n_window, n_window[:4], res_dict2, res_dict3, [f'{modelname1} + POT', f'{modelname2} + POT', 'None + POT'], 'f1')\n",
    "plot_window_size3(res_dict, n_window, n_window[:4], res_dict2, res_dict3, [f'{modelname1} + POT', f'{modelname2} + POT', 'None + POT'], 'MCC')"
   ]
  },
  {
   "cell_type": "code",
   "execution_count": null,
   "metadata": {},
   "outputs": [],
   "source": []
  },
  {
   "cell_type": "markdown",
   "metadata": {},
   "source": []
  },
  {
   "cell_type": "code",
   "execution_count": null,
   "metadata": {},
   "outputs": [],
   "source": [
    "dataset = 'ATLAS_TS'  # 'IEEECIS_pca_scaled'\n",
    "model = 'iTransformer'\n",
    "feats = 16"
   ]
  },
  {
   "cell_type": "code",
   "execution_count": null,
   "metadata": {},
   "outputs": [],
   "source": [
    "# res = pd.read_csv(f'iTransformer_IEEECIS_pca_scaled/n_window100_steps50_feats100_eps5_newtest/results/res_local_all.csv')\n",
    "res = pd.read_csv(f'iTransformer_ATLAS_TS/n_window100_steps50_feats-1_eps5_newtest/results/res_local_all.csv')\n",
    "print(res, res.shape)\n",
    "x_loc = list(res.iloc[:,0])\n",
    "print(x_loc)"
   ]
  },
  {
   "cell_type": "code",
   "execution_count": null,
   "metadata": {},
   "outputs": [],
   "source": [
    "glob = pd.read_csv('/Users/lauraboggia/VSCode_projects/TranAD/iTransformer_IEEECIS_pca_scaled/n_window100_steps50_feats100_eps5_newtest/results/res.csv')\n",
    "glob = glob.iloc[-1]\n",
    "print(glob)"
   ]
  },
  {
   "cell_type": "code",
   "execution_count": null,
   "metadata": {},
   "outputs": [],
   "source": [
    "def plot_anomaly_labels(x_loc, res, glob, feats, metric, save=False):\n",
    "    plt.plot(x_loc, res[metric], ':o', label='local anomaly labels')\n",
    "    plt.plot(feats, glob[metric], 'x', label='global anomaly labels', markersize=10, markeredgewidth=3)\n",
    "    plt.legend()\n",
    "    # plt.xscale('log')\n",
    "    plt.xticks(x_loc)\n",
    "    plt.ylabel(metric)\n",
    "    plt.xlabel('# of anomalous dimensions')\n",
    "    if save:\n",
    "        if metric == 'ROC/AUC':\n",
    "            metric = 'rocauc'\n",
    "        plt.savefig(f'./studies_{dataset}/plots/{metric}_alabels.png', facecolor='w')\n",
    "    plt.show()"
   ]
  },
  {
   "cell_type": "code",
   "execution_count": null,
   "metadata": {},
   "outputs": [],
   "source": [
    "s=True\n",
    "plot_anomaly_labels(x_loc, res, glob, feats, 'ROC/AUC', save=s)\n",
    "plot_anomaly_labels(x_loc, res, glob, feats, 'f1', save=s)\n",
    "plot_anomaly_labels(x_loc, res, glob, feats, 'MCC', save=s)"
   ]
  },
  {
   "cell_type": "code",
   "execution_count": null,
   "metadata": {},
   "outputs": [],
   "source": []
  },
  {
   "cell_type": "markdown",
   "metadata": {},
   "source": [
    "### compare data sets and models"
   ]
  },
  {
   "cell_type": "code",
   "execution_count": null,
   "metadata": {},
   "outputs": [],
   "source": [
    "import os\n",
    "import pandas as pd\n",
    "import glob\n",
    "\n",
    "# Define the parameters\n",
    "modelname = 'iTransformer'\n",
    "dataset = 'IEEECIS'\n",
    "paths = [p for p in os.listdir() if dataset in p and modelname in p]\n",
    "# Filter out paths that contain 'pbmtestdata'\n",
    "paths = [p for p in paths if 'pbmtestdata' not in p]\n",
    "paths = np.sort(paths)\n",
    "n_window = 100\n",
    "step_size = 50\n",
    "\n",
    "# Load the results\n",
    "results = {}\n",
    "for p in paths:\n",
    "    # Check if the folder or folder2 exists using glob\n",
    "    folder_exists = glob.glob(f'{p}/n_window{n_window}_steps{step_size}_feats30_eps5*')\n",
    "    folder2_exists = glob.glob(f'{p}/n_window{n_window}_steps{step_size}_feats75_eps5*')\n",
    "\n",
    "    if folder_exists:\n",
    "        folder = folder_exists[0]\n",
    "        res_path = os.path.join(folder, 'results', 'res.csv')\n",
    "        if os.path.exists(res_path):\n",
    "            res_tmp = pd.read_csv(res_path)\n",
    "            results[f'{p}_feats30'] = res_tmp[['ROC/AUC', 'f1', 'MCC']].iloc[-3:].reset_index(drop=True)\n",
    "            print(f'Loaded results for {p}')\n",
    "    if folder2_exists:\n",
    "        folder2 = folder2_exists[0]\n",
    "        res_path2 = os.path.join(folder2, 'results', 'res.csv')\n",
    "        if os.path.exists(res_path2):\n",
    "            res_tmp = pd.read_csv(res_path2)\n",
    "            results[f'{p}_feats75'] = res_tmp[['ROC/AUC', 'f1', 'MCC']].iloc[-3:].reset_index(drop=True)\n",
    "            print(f'Loaded results for {p}')\n",
    "\n",
    "# Display the results\n",
    "for dataset, res in results.items():\n",
    "    print(f'\\nResults for {dataset}:\\n', res)\n"
   ]
  },
  {
   "cell_type": "code",
   "execution_count": null,
   "metadata": {},
   "outputs": [],
   "source": [
    "plt.rcParams['lines.markersize'] = 6\n",
    "plt.rcParams['lines.linewidth'] = 2\n",
    "plt.rcParams['lines.markeredgewidth'] = 2\n",
    "plt.style.use([hep.style.ROOT, hep.style.firamath])"
   ]
  },
  {
   "cell_type": "code",
   "execution_count": null,
   "metadata": {},
   "outputs": [],
   "source": [
    "def plot_results(results, metrics, label_metrics, modes):\n",
    "    fig, axs = plt.subplots(3, 3, figsize=(24, 24), sharey=True, sharex=True)\n",
    "\n",
    "    for i, metric in enumerate(metrics):\n",
    "        for idx, (key, res) in enumerate(results.items()):\n",
    "            if 'pca' in key:\n",
    "                axs[2, i].plot(res[metric], '--o', label=key)\n",
    "                axs[2, i].set_xticks(ticks=np.arange(3))\n",
    "                axs[2, i].set_xticklabels(labels=modes, rotation=20)\n",
    "                axs[2, i].set_ylabel(label_metrics[i])\n",
    "                if i == 1:\n",
    "                    axs[2, i].set_title('75 PCA features', loc='center')\n",
    "            elif key == 'iTransformer_IEEECIS_feats75' or key == 'iTransformer_IEEECIS_1_feats75':\n",
    "                print('here')\n",
    "            elif 'feats30' in key:\n",
    "                axs[0, i].plot(res[metric], '--o', label=key)\n",
    "                axs[0, i].set_xticks(ticks=np.arange(3))\n",
    "                axs[0, i].set_xticklabels(labels=modes, rotation=20)\n",
    "                axs[0, i].set_ylabel(label_metrics[i])\n",
    "                if i == 1:\n",
    "                    axs[0, i].set_title('30 features', loc='center')\n",
    "            elif 'feats75' in key:\n",
    "                axs[1, i].plot(res[metric], '--o', label=key)\n",
    "                axs[1, i].set_xticks(ticks=np.arange(3))\n",
    "                axs[1, i].set_xticklabels(labels=modes, rotation=20)\n",
    "                axs[1, i].set_ylabel(label_metrics[i])\n",
    "                if i == 1:\n",
    "                    axs[1, i].set_title('75 features', loc='center')\n",
    "\n",
    "    axs[0, -1].legend(bbox_to_anchor=(1.05, 1), loc='upper left')\n",
    "    axs[1, -1].legend(bbox_to_anchor=(1.05, 1), loc='upper left')\n",
    "    axs[2, -1].legend(bbox_to_anchor=(1.05, 1), loc='upper left')\n",
    "\n",
    "    plt.tight_layout()\n",
    "    plt.show()\n"
   ]
  },
  {
   "cell_type": "code",
   "execution_count": null,
   "metadata": {},
   "outputs": [],
   "source": [
    "# Usage\n",
    "metrics = ['ROC/AUC', 'f1', 'MCC']\n",
    "label_metrics = ['ROC AUC', 'F1', 'MCC']\n",
    "modes = ['local (incl. OR)', 'local (maj. voting)', 'global']\n",
    "\n",
    "plot_results(results, metrics, label_metrics, modes)"
   ]
  },
  {
   "cell_type": "code",
   "execution_count": null,
   "metadata": {},
   "outputs": [],
   "source": [
    "best_results = {}\n",
    "for key, res in results.items():\n",
    "    if 'pca' in key or 'feats30' in key or 'feats75' in key:\n",
    "        best_mcc = res['MCC'].max()\n",
    "        if 'pca' in key:\n",
    "            category = 'pca'\n",
    "        elif 'feats30' in key:\n",
    "            category = 'feats30'\n",
    "        else:\n",
    "            category = 'feats75'\n",
    "        \n",
    "        if category not in best_results or best_mcc > best_results[category]['MCC']:\n",
    "            best_results[category] = {'key': key, 'MCC': best_mcc, 'results': res}\n",
    "\n",
    "results_iTransf = {}\n",
    "for key in best_results.keys():\n",
    "    print(f'\\nBest results for {key}:\\n', best_results[key]['results'])\n",
    "    results_iTransf[best_results[key]['key']] = best_results[key]['results']\n",
    "print(results_iTransf)"
   ]
  },
  {
   "cell_type": "code",
   "execution_count": null,
   "metadata": {},
   "outputs": [],
   "source": [
    "# Define the parameters\n",
    "modelname = 'TranAD'\n",
    "dataset = 'IEEECIS'\n",
    "paths = [p for p in os.listdir() if dataset in p and modelname in p]\n",
    "# Filter out paths that contain 'pbmtestdata'\n",
    "paths = [p for p in paths if 'pbmtestdata' not in p]\n",
    "paths = np.sort(paths)\n",
    "n_window = 10\n",
    "step_size = 1\n",
    "\n",
    "# Load the results\n",
    "results2 = {}\n",
    "for p in paths:\n",
    "    # Check if the folder or folder2 exists using glob\n",
    "    folder_exists = glob.glob(f'{p}/n_window{n_window}_steps{step_size}_feats30_eps5*')\n",
    "    folder2_exists = glob.glob(f'{p}/n_window{n_window}_steps{step_size}_feats40*')\n",
    "\n",
    "    if folder_exists:\n",
    "        folder = folder_exists[0]\n",
    "    if folder2_exists:\n",
    "        folder2 = folder2_exists[0]\n",
    "\n",
    "    res_path = os.path.join(folder, 'results', 'res.csv')\n",
    "    res_path2 = os.path.join(folder2, 'results', 'res.csv')\n",
    "\n",
    "    if os.path.exists(res_path):\n",
    "        res_tmp = pd.read_csv(res_path)\n",
    "        results2[f'{p}_feats30'] = res_tmp[['ROC/AUC', 'f1', 'MCC']].iloc[-3:].reset_index(drop=True)\n",
    "        print(f'Loaded results for {p}')\n",
    "    if os.path.exists(res_path2):\n",
    "        res_tmp = pd.read_csv(res_path2)\n",
    "        results2[f'{p}_feats40'] = res_tmp[['ROC/AUC', 'f1', 'MCC']].iloc[-3:].reset_index(drop=True)\n",
    "        print(f'Loaded results for {p}')\n",
    "\n",
    "# Display the results\n",
    "for dataset, res in results2.items():\n",
    "    print(f'\\nResults for {dataset}:\\n', res)\n"
   ]
  },
  {
   "cell_type": "code",
   "execution_count": null,
   "metadata": {},
   "outputs": [],
   "source": [
    "plot_results(results2, metrics, label_metrics, modes)"
   ]
  },
  {
   "cell_type": "code",
   "execution_count": null,
   "metadata": {},
   "outputs": [],
   "source": [
    "# merge results2 & best result sinto one dict\n",
    "best_results = {**results_iTransf, **results2}\n",
    "print(best_results)\n",
    "plot_results(best_results, metrics, label_metrics, modes)"
   ]
  },
  {
   "cell_type": "code",
   "execution_count": null,
   "metadata": {},
   "outputs": [],
   "source": [
    "def plot_results_dataset(results, metrics, label_metrics, modes, dataset):\n",
    "    fig, axs = plt.subplots(1, 3, figsize=(24, 8), sharey=True, sharex=True)\n",
    "\n",
    "    for i, metric in enumerate(metrics):\n",
    "        for idx, (key, res) in enumerate(results.items()):\n",
    "            if dataset in key:\n",
    "                axs[i].plot(res[metric], '--o', label=key)\n",
    "                axs[i].set_xticks(ticks=np.arange(3))\n",
    "                axs[i].set_xticklabels(labels=modes, rotation=20)\n",
    "                axs[i].set_ylabel(label_metrics[i])                    \n",
    "\n",
    "    axs[-1].legend(bbox_to_anchor=(1.05, 1), loc='upper left')\n",
    "    \n",
    "    plt.tight_layout()\n",
    "    plt.show()"
   ]
  },
  {
   "cell_type": "code",
   "execution_count": null,
   "metadata": {},
   "outputs": [],
   "source": [
    "all_results = {**results, **results2}\n",
    "print(all_results)\n",
    "plot_results_dataset(all_results, metrics, label_metrics, modes, 'IEEECIS_new1.3')"
   ]
  },
  {
   "cell_type": "code",
   "execution_count": null,
   "metadata": {},
   "outputs": [],
   "source": []
  },
  {
   "cell_type": "markdown",
   "metadata": {},
   "source": [
    "### comparing multiple models on multiple data sets"
   ]
  },
  {
   "cell_type": "code",
   "execution_count": 3,
   "metadata": {},
   "outputs": [],
   "source": [
    "import glob"
   ]
  },
  {
   "cell_type": "code",
   "execution_count": 4,
   "metadata": {},
   "outputs": [
    {
     "name": "stdout",
     "output_type": "stream",
     "text": [
      "No paths found for None on SMAP_new\n",
      "No paths found for None on MSL_new\n",
      "No paths found for None on SMD\n",
      "123\n",
      "dict_keys(['iTransformer_SMAP_new', 'iTransformer2_SMAP_new', 'TranAD_SMAP_new', 'OmniAnomaly_SMAP_new', 'MAD_GAN_SMAP_new', 'LSTM_AD_SMAP_new', 'DAGMM_SMAP_new', 'IF_SMAP_new', 'iTransformer_MSL_new', 'iTransformer2_MSL_new', 'TranAD_MSL_new', 'OmniAnomaly_MSL_new', 'MAD_GAN_MSL_new', 'LSTM_AD_MSL_new', 'DAGMM_MSL_new', 'IF_MSL_new', 'iTransformer_UCR', 'iTransformer2_UCR', 'TranAD_UCR', 'OmniAnomaly_UCR', 'MAD_GAN_UCR', 'LSTM_AD_UCR', 'DAGMM_UCR', 'IF_UCR', 'None_UCR', 'iTransformer_SMD', 'iTransformer2_SMD', 'TranAD_SMD', 'OmniAnomaly_SMD', 'MAD_GAN_SMD', 'LSTM_AD_SMD', 'DAGMM_SMD', 'IF_SMD', 'iTransformer_SWaT', 'iTransformer2_SWaT', 'TranAD_SWaT', 'OmniAnomaly_SWaT', 'MAD_GAN_SWaT', 'LSTM_AD_SWaT', 'DAGMM_SWaT', 'IF_SWaT', 'None_SWaT', 'iTransformer_GECCO1', 'iTransformer2_GECCO1', 'TranAD_GECCO1', 'OmniAnomaly_GECCO1', 'MAD_GAN_GECCO1', 'LSTM_AD_GECCO1', 'DAGMM_GECCO1', 'IF_GECCO1', 'None_GECCO1', 'iTransformer_GECCO2', 'iTransformer2_GECCO2', 'TranAD_GECCO2', 'OmniAnomaly_GECCO2', 'MAD_GAN_GECCO2', 'LSTM_AD_GECCO2', 'DAGMM_GECCO2', 'IF_GECCO2', 'None_GECCO2', 'iTransformer_GECCO3', 'iTransformer2_GECCO3', 'TranAD_GECCO3', 'OmniAnomaly_GECCO3', 'MAD_GAN_GECCO3', 'LSTM_AD_GECCO3', 'DAGMM_GECCO3', 'IF_GECCO3', 'None_GECCO3', 'iTransformer_GECCO4', 'iTransformer2_GECCO4', 'TranAD_GECCO4', 'OmniAnomaly_GECCO4', 'MAD_GAN_GECCO4', 'LSTM_AD_GECCO4', 'DAGMM_GECCO4', 'IF_GECCO4', 'None_GECCO4', 'iTransformer_GECCO5', 'iTransformer2_GECCO5', 'TranAD_GECCO5', 'OmniAnomaly_GECCO5', 'MAD_GAN_GECCO5', 'LSTM_AD_GECCO5', 'DAGMM_GECCO5', 'IF_GECCO5', 'None_GECCO5', 'iTransformer_GECCO6', 'iTransformer2_GECCO6', 'TranAD_GECCO6', 'OmniAnomaly_GECCO6', 'MAD_GAN_GECCO6', 'LSTM_AD_GECCO6', 'DAGMM_GECCO6', 'IF_GECCO6', 'None_GECCO6', 'iTransformer_GECCO7', 'iTransformer2_GECCO7', 'TranAD_GECCO7', 'OmniAnomaly_GECCO7', 'MAD_GAN_GECCO7', 'LSTM_AD_GECCO7', 'DAGMM_GECCO7', 'IF_GECCO7', 'None_GECCO7', 'iTransformer_IEEECIS_new2.2', 'iTransformer2_IEEECIS_new2.2', 'TranAD_IEEECIS_new2.2', 'OmniAnomaly_IEEECIS_new2.2', 'MAD_GAN_IEEECIS_new2.2', 'LSTM_AD_IEEECIS_new2.2', 'DAGMM_IEEECIS_new2.2', 'IF_IEEECIS_new2.2', 'None_IEEECIS_new2.2', 'iTransformer_ATLAS_TS', 'iTransformer2_ATLAS_TS', 'TranAD_ATLAS_TS', 'OmniAnomaly_ATLAS_TS', 'MAD_GAN_ATLAS_TS', 'LSTM_AD_ATLAS_TS', 'DAGMM_ATLAS_TS', 'IF_ATLAS_TS', 'None_ATLAS_TS'])\n"
     ]
    }
   ],
   "source": [
    "datasets = ['SMAP_new', 'MSL_new', 'UCR', 'SMD', 'SWaT', 'GECCO1', 'GECCO2', 'GECCO3', 'GECCO4', 'GECCO5', 'GECCO6', 'GECCO7', 'IEEECIS_new2.2', 'ATLAS_TS']\n",
    "models = ['iTransformer',  'iTransformer2', 'TranAD', 'OmniAnomaly', 'MAD_GAN', 'LSTM_AD', 'DAGMM', 'IF', 'None'] \n",
    "\n",
    "all_paths = []\n",
    "results = {}\n",
    "for dataset in datasets:\n",
    "    for model in models:\n",
    "        if model == 'iTransformer2':\n",
    "            paths = glob.glob(f'{model[:-1]}/{model[:-1]}_{dataset}')\n",
    "        else:\n",
    "            paths = glob.glob(f'{model}/{model}_{dataset}')\n",
    "        all_paths.extend(paths)\n",
    "        if not paths:\n",
    "            print(f'No paths found for {model} on {dataset}')\n",
    "        for path in paths:\n",
    "            # print(path, model)\n",
    "            # if dataset == 'GECCO7' and 'iTransformer' in model:\n",
    "            #     if model == 'iTransformer':\n",
    "            #         res_path = glob.glob(f'{path}/*n_window10_*feats-1*enc*/results/res.csv')\n",
    "            #     else:\n",
    "            #         res_path = glob.glob(f'{path}/*n_window100*feats-1*enc*/results/res.csv')\n",
    "            #     print(res_path)\n",
    "            if model == 'iTransformer2':\n",
    "                res_path = glob.glob(f'{path}/*n_window100_steps50*feats-1*/results/res.csv') \n",
    "            elif model == 'None':\n",
    "                if dataset == 'IEEECIS_new2.2':\n",
    "                    res_path = glob.glob(f'{path}/*feats30*/results/res.csv')\n",
    "                else:\n",
    "                    res_path = glob.glob(f'{path}/*feats-1*/res.csv')\n",
    "            elif model == 'IF':\n",
    "                if dataset == 'IEEECIS_new2.2':\n",
    "                    res_path = glob.glob(f'{path}/*feats30*/results/res.csv')\n",
    "                else:\n",
    "                    res_path = glob.glob(f'{path}/*feats-1*/results/res.csv')\n",
    "            elif dataset == 'IEEECIS_new2.2':\n",
    "                res_path = glob.glob(f'{path}/*n_window10_steps1*feats30*/results/res.csv')\n",
    "            else:\n",
    "                res_path = glob.glob(f'{path}/*n_window10_steps1*feats-1*/results/res.csv')\n",
    "            if res_path:\n",
    "                res_path = np.sort(res_path)\n",
    "                res = pd.read_csv(res_path[0])\n",
    "                key = path.split('/')[1]\n",
    "                if model == 'iTransformer2':\n",
    "                    # insert a number 2 in the key to distinguish between the two models at position 11\n",
    "                    results[key[:12] + '2' + key[12:]] = res.iloc[-3:]\n",
    "                else:\n",
    "                    results[key] = res.iloc[-3:]\n",
    "            else:\n",
    "                print(f'No results found for {model} on {dataset}')\n",
    "\n",
    "print(len(all_paths))\n",
    "print(results.keys())\n",
    "\n",
    "# for key in results.keys():\n",
    "#     if 'iTransformer2' in key:\n",
    "#         print(results[key])\n"
   ]
  },
  {
   "cell_type": "code",
   "execution_count": 5,
   "metadata": {},
   "outputs": [],
   "source": [
    "def plot_mcc_scores(results, modes, datasets, models, name=None):\n",
    "    markers = ['o', 's', 'D', '^', 'v', '<', '>', 'p', '*', 'h', 'H', 'x', 'd']\n",
    "    colors = plt.cm.plasma(np.linspace(0, 1, len(models)+1))\n",
    "    fig, axs = plt.subplots(3, 1, figsize=(22, 16), sharey=True)\n",
    "\n",
    "    for i, mode in enumerate(modes):\n",
    "        for j, model in enumerate(models):\n",
    "            mcc_scores = []\n",
    "            for dataset in datasets:\n",
    "                key = f'{model}_{dataset}'\n",
    "                if 'IF' in key and key in results:\n",
    "                    mcc_scores.append(results[key]['MCC'].iloc[0])\n",
    "                elif key == 'TranAD_MSL_new':\n",
    "                    mcc_scores.append(0)\n",
    "                elif key in results:\n",
    "                    mcc_scores.append(results[key]['MCC'].iloc[i])\n",
    "                else:\n",
    "                    mcc_scores.append(0)  # If no data, append 0\n",
    "                \n",
    "            axs[i].plot(datasets, mcc_scores, marker=markers[j % len(markers)], linestyle=':', linewidth=2,\n",
    "                         label=model, markersize=8, color=colors[j % len(colors)])\n",
    "            axs[i].set_xticks(ticks=np.arange(len(datasets)))\n",
    "            axs[i].set_xticklabels(labels=datasets)\n",
    "            axs[i].set_ylabel('MCC')\n",
    "            axs[i].set_title(mode)\n",
    "            # axs[i].legend(bbox_to_anchor=(1.02, 1), loc='upper left')\n",
    "        axs[i].hlines(y=0.0, xmin=0, xmax=len(datasets)-1, color='k', linestyle='--', alpha=0.5, label='Random')\n",
    "        axs[i].legend(bbox_to_anchor=(1.02, 1), loc='upper left')\n",
    "\n",
    "\n",
    "    plt.tight_layout()\n",
    "    if name:\n",
    "        plt.savefig(f'./studies_datasets/{name}_MCC.png', facecolor='w')\n",
    "    plt.show()"
   ]
  },
  {
   "cell_type": "code",
   "execution_count": 6,
   "metadata": {},
   "outputs": [],
   "source": [
    "def plot_auc_scores(results, modes, datasets, models, name=None):\n",
    "    markers = ['o', 's', 'D', '^', 'v', '<', '>', 'p', '*', 'h', 'H', 'x', 'd']\n",
    "    colors = plt.cm.plasma(np.linspace(0, 1, len(models)+1))\n",
    "    fig, axs = plt.subplots(3, 1, figsize=(22, 16), sharey=True)\n",
    "\n",
    "    for i, mode in enumerate(modes):\n",
    "        for j, model in enumerate(models):\n",
    "            auc_scores = []\n",
    "            for dataset in datasets:\n",
    "                key = f'{model}_{dataset}'\n",
    "                if 'IF' in key and key in results:\n",
    "                    auc_scores.append(results[key]['ROC/AUC'].iloc[0])\n",
    "                elif key in results:\n",
    "                    auc_scores.append(results[key]['ROC/AUC'].iloc[i])\n",
    "                else:\n",
    "                    auc_scores.append(0)  # If no data, append 0\n",
    "                \n",
    "            axs[i].plot(datasets, auc_scores, marker=markers[j % len(markers)], linestyle=':', linewidth=2,\n",
    "                         label=model, markersize=8, color=colors[j % len(colors)])\n",
    "            axs[i].set_xticks(ticks=np.arange(len(datasets)))\n",
    "            axs[i].set_xticklabels(labels=datasets)\n",
    "            axs[i].set_ylabel('ROC AUC')\n",
    "            axs[i].set_title(mode)\n",
    "            # axs[i].legend(bbox_to_anchor=(1.02, 1), loc='upper left')\n",
    "        axs[i].hlines(y=0.5, xmin=0, xmax=len(datasets)-1, color='k', linestyle='--', alpha=0.5, label='Random')\n",
    "        axs[i].legend(bbox_to_anchor=(1.02, 1), loc='upper left')\n",
    "\n",
    "\n",
    "    plt.tight_layout()\n",
    "    if name:\n",
    "        plt.savefig(f'./studies_datasets/{name}_ROCAUC.png', facecolor='w')\n",
    "    plt.show()"
   ]
  },
  {
   "cell_type": "code",
   "execution_count": 7,
   "metadata": {},
   "outputs": [],
   "source": [
    "def plot_f1_scores(results, modes, datasets, models, name=None):\n",
    "    markers = ['o', 's', 'D', '^', 'v', '<', '>', 'p', '*', 'h', 'H', 'x', 'd']\n",
    "    colors = plt.cm.plasma(np.linspace(0, 1, len(models)+1))\n",
    "    fig, axs = plt.subplots(3, 1, figsize=(22, 16), sharey=True)\n",
    "\n",
    "    for i, mode in enumerate(modes):\n",
    "        for j, model in enumerate(models):\n",
    "            f1_scores = []\n",
    "            for dataset in datasets:\n",
    "                key = f'{model}_{dataset}'\n",
    "                if 'IF' in key and key in results:\n",
    "                    f1_scores.append(results[key]['f1'].iloc[0])\n",
    "                elif key in results:\n",
    "                    f1_scores.append(results[key]['f1'].iloc[i])\n",
    "                else:\n",
    "                    f1_scores.append(0)  # If no data, append 0\n",
    "                \n",
    "            axs[i].plot(datasets, f1_scores, marker=markers[j % len(markers)], linestyle=':', linewidth=2,\n",
    "                         label=model, markersize=8, color=colors[j % len(colors)])\n",
    "            axs[i].set_xticks(ticks=np.arange(len(datasets)))\n",
    "            axs[i].set_xticklabels(labels=datasets)\n",
    "            axs[i].set_ylabel('F1')\n",
    "            axs[i].set_title(mode)\n",
    "        axs[i].hlines(y=0.5, xmin=0, xmax=len(datasets)-1, color='k', linestyle='--', alpha=0.5, label='Random')\n",
    "        axs[i].legend(bbox_to_anchor=(1.02, 1), loc='upper left')\n",
    "\n",
    "    plt.tight_layout()\n",
    "    if name:\n",
    "        plt.savefig(f'./studies_datasets/{name}_F1.png', facecolor='w')\n",
    "    plt.show()"
   ]
  },
  {
   "cell_type": "code",
   "execution_count": 8,
   "metadata": {},
   "outputs": [],
   "source": [
    "modes = ['local (incl. OR)', 'local (maj. voting)', 'global']"
   ]
  },
  {
   "cell_type": "code",
   "execution_count": null,
   "metadata": {},
   "outputs": [],
   "source": [
    "models1 = ['iTransformer', 'TranAD', 'OmniAnomaly', 'MAD_GAN', 'LSTM_AD', 'DAGMM', 'IF', 'None']\n",
    "data1 = ['SMAP_new', 'MSL_new', 'UCR', 'SMD', 'SWaT', 'GECCO1', 'IEEECIS_new2.2', 'ATLAS_TS']\n",
    "# Plot the scores\n",
    "plot_mcc_scores(results, modes, data1, models1) #, name='comp')\n",
    "plot_auc_scores(results, modes, data1, models1) #, name='comp')\n",
    "plot_f1_scores(results, modes, data1, models1) #, name='comp')"
   ]
  },
  {
   "cell_type": "code",
   "execution_count": null,
   "metadata": {},
   "outputs": [],
   "source": [
    "models2 = ['iTransformer', 'iTransformer2', 'TranAD', 'MAD_GAN', 'LSTM_AD']\n",
    "data2 = ['GECCO1', 'GECCO2', 'GECCO3', 'GECCO4', 'GECCO5', 'GECCO6', 'GECCO7', 'IEEECIS_new2.2', 'ATLAS_TS']\n",
    "plot_mcc_scores(results, modes, data2, models2) #, name='comp22')\n",
    "plot_auc_scores(results, modes, data2, models2) #, name='comp22')\n",
    "plot_f1_scores(results, modes, data2, models2) #, name='comp22')"
   ]
  },
  {
   "cell_type": "code",
   "execution_count": null,
   "metadata": {},
   "outputs": [],
   "source": [
    "plot_mcc_scores(results, modes, ['GECCO1', 'GECCO2', 'GECCO3', 'GECCO4', 'GECCO5', 'GECCO6', 'GECCO7', 'GECCO7_time'], models) #, name='GECCO')\n",
    "plot_auc_scores(results, modes, ['GECCO1', 'GECCO2', 'GECCO3', 'GECCO4', 'GECCO5', 'GECCO6', 'GECCO7', 'GECCO7_time'], models) #, name='GECCO')\n",
    "plot_f1_scores(results, modes, ['GECCO1', 'GECCO2', 'GECCO3', 'GECCO4', 'GECCO5', 'GECCO6', 'GECCO7', 'GECCO7_time'], models) #, name='GECCO')"
   ]
  },
  {
   "cell_type": "code",
   "execution_count": null,
   "metadata": {},
   "outputs": [],
   "source": []
  },
  {
   "cell_type": "code",
   "execution_count": 9,
   "metadata": {},
   "outputs": [
    {
     "name": "stdout",
     "output_type": "stream",
     "text": [
      "iTransformer_GECCO7\n",
      "iTransformer_GECCO7_time\n",
      "iTransformer2_GECCO7_time\n",
      "iTransformer2_GECCO7\n",
      "dict_keys(['iTransformer_GECCO7', 'iTransformer_GECCO7_time', 'iTransformer2_GECCO7_time', 'iTransformer2_GECCO7'])\n"
     ]
    }
   ],
   "source": [
    "comp_results = {}\n",
    "\n",
    "dataset = 'GECCO7'\n",
    "models3 = ['iTransformer', 'iTransformer2']\n",
    "\n",
    "paths1 = glob.glob(f'iTransformer/iTransformer_{dataset}/*n_window10_*')\n",
    "paths2 = glob.glob(f'iTransformer/iTransformer_{dataset}/*n_window100_*')\n",
    "paths = paths1 + paths2\n",
    "\n",
    "for path in paths:\n",
    "    res_path = f'{path}/results/res.csv'\n",
    "    res = pd.read_csv(res_path)\n",
    "    key = path.split('/')[1]\n",
    "    if 'enc' in res_path:\n",
    "        key = key + '_time'\n",
    "    if 'n_window100_' in res_path:\n",
    "        key = key[:12] + '2' + key[12:]\n",
    "    print(key)\n",
    "    comp_results[key] = res.iloc[-3:]\n",
    "\n",
    "print(comp_results.keys())\n"
   ]
  },
  {
   "cell_type": "code",
   "execution_count": 13,
   "metadata": {},
   "outputs": [
    {
     "name": "stdout",
     "output_type": "stream",
     "text": [
      "['iTransformer/iTransformer_IEEECIS_new2.2/n_window10_steps1_feats30_eps5_enc', 'iTransformer/iTransformer_IEEECIS_new2.2/n_window100_steps50_feats-1_eps5_enc']\n",
      "iTransformer_IEEECIS_new2.2_time\n",
      "iTransformer2_IEEECIS_new2.2_time\n"
     ]
    }
   ],
   "source": [
    "\n",
    "comp_results['iTransformer_IEEECIS_new2.2'] = results['iTransformer_IEEECIS_new2.2']\n",
    "comp_results['iTransformer2_IEEECIS_new2.2'] = results['iTransformer2_IEEECIS_new2.2']\n",
    "\n",
    "paths1 = glob.glob(f'iTransformer/iTransformer_IEEECIS_new2.2/*n_window10_*feats30*enc*')\n",
    "paths2 = glob.glob(f'iTransformer/iTransformer_IEEECIS_new2.2/*n_window100_*feats-1*enc*')\n",
    "paths = paths1 + paths2\n",
    "print(paths)\n",
    "\n",
    "for path in paths:\n",
    "    res_path = f'{path}/results/res.csv'\n",
    "    res = pd.read_csv(res_path)\n",
    "    key = path.split('/')[1]\n",
    "    key = key + '_time'\n",
    "    if 'n_window100_' in res_path:\n",
    "        key = key[:12] + '2' + key[12:]\n",
    "    print(key)\n",
    "    comp_results[key] = res.iloc[-3:]\n"
   ]
  },
  {
   "cell_type": "code",
   "execution_count": 14,
   "metadata": {},
   "outputs": [
    {
     "data": {
      "image/png": "[encoded data removed]",
      "text/plain": [
       "<Figure size 2200x1600 with 3 Axes>"
      ]
     },
     "metadata": {},
     "output_type": "display_data"
    }
   ],
   "source": [
    "datasets3 = ['GECCO7', 'GECCO7_time', 'IEEECIS_new2.2', 'IEEECIS_new2.2_time']\n",
    "models3 = ['iTransformer', 'iTransformer2']\n",
    "\n",
    "plot_mcc_scores(comp_results, modes, datasets3, models3) #, name='comp7')"
   ]
  },
  {
   "cell_type": "code",
   "execution_count": null,
   "metadata": {},
   "outputs": [],
   "source": [
    "results['iTransformer_GECCO7_time'] = comp_results['iTransformer_GECCO7_time']\n",
    "results['iTransformer2_GECCO7_time'] = comp_results['iTransformer2_GECCO7_time']\n",
    "\n",
    "for m in ['MAD_GAN', 'OmniAnomaly', 'LSTM_AD', 'DAGMM', 'IF', 'None', 'TranAD']:\n",
    "    key = f'{m}_GECCO7'\n",
    "    results[f'{m}_GECCO7_time'] = results[key]\n",
    "print(results.keys())\n",
    "print(results['IF_GECCO7_time'])"
   ]
  },
  {
   "cell_type": "code",
   "execution_count": null,
   "metadata": {},
   "outputs": [],
   "source": []
  }
 ],
 "metadata": {
  "kernelspec": {
   "display_name": "Python 3",
   "language": "python",
   "name": "python3"
  },
  "language_info": {
   "codemirror_mode": {
    "name": "ipython",
    "version": 3
   },
   "file_extension": ".py",
   "mimetype": "text/x-python",
   "name": "python",
   "nbconvert_exporter": "python",
   "pygments_lexer": "ipython3",
   "version": "3.8.19"
  }
 },
 "nbformat": 4,
 "nbformat_minor": 2
}
