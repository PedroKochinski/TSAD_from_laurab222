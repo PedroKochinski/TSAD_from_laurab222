{
 "cells": [
  {
   "cell_type": "code",
   "execution_count": 1,
   "metadata": {},
   "outputs": [
    {
     "name": "stderr",
     "output_type": "stream",
     "text": [
      "/Users/lauraboggia/VSCode_projects/TranAD/.conda/lib/python3.8/site-packages/tqdm/auto.py:21: TqdmWarning: IProgress not found. Please update jupyter and ipywidgets. See https://ipywidgets.readthedocs.io/en/stable/user_install.html\n",
      "  from .autonotebook import tqdm as notebook_tqdm\n"
     ]
    }
   ],
   "source": [
    "import os\n",
    "import numpy as np\n",
    "import pandas as pd\n",
    "import matplotlib.pyplot as plt\n",
    "import mplhep as hep\n",
    "from src.models import TranAD, iTransformer\n",
    "import torch"
   ]
  },
  {
   "cell_type": "code",
   "execution_count": 2,
   "metadata": {},
   "outputs": [],
   "source": [
    "# from cycler import cycler\n",
    "# plt.rcParams['axes.prop_cycle'] = cycler('color', ['#17becf','#8c564b', '#e377c2', '#7f7f7f','#bcbd22', '#1f77b4', '#ff7f0e', '#2ca02c', '#d62728', '#9467bd'])\n",
    "plt.style.use([hep.style.ROOT, hep.style.firamath])\n",
    "# plt.rcParams['lines.markersize'] = 5\n",
    "# plt.rcParams['lines.linewidth'] = 3"
   ]
  },
  {
   "cell_type": "markdown",
   "metadata": {},
   "source": [
    "### for first studies on importance of q and n_window"
   ]
  },
  {
   "cell_type": "code",
   "execution_count": null,
   "metadata": {},
   "outputs": [],
   "source": [
    "iTransf_n_windows = [10, 20, 30, 40, 50, 60, 70, 80, 90, 100, 200, 500, 1000, 2000]\n",
    "TranAD_n_windows = [10, 20, 30, 40, 50, 60, 70]\n",
    "\n",
    "iTransf_q =  [0.5, 0.25, 0.1, 0.075, 0.05, 1e-2, 1e-3, 1e-4, 5e-5, 1e-5, 5e-6, 1e-6, 1e-7]\n",
    "TranAD_q = [0.5, 0.25, 0.1, 0.075, 0.05, 1e-2, 1e-3, 1e-4, 5e-5, 1e-5, 5e-6, 1e-6, 1e-7]"
   ]
  },
  {
   "cell_type": "code",
   "execution_count": null,
   "metadata": {},
   "outputs": [],
   "source": [
    "N = 25\n",
    "dataset = 'SMAP_new'\n",
    "less = False\n",
    "plot_path = './studies2.3/plots'\n",
    "studies_path = './studies2.3'"
   ]
  },
  {
   "cell_type": "code",
   "execution_count": null,
   "metadata": {},
   "outputs": [],
   "source": [
    "loader = []\n",
    "for file in ['train', 'test', 'labels']:\n",
    "    if dataset == 'SMD': file = 'machine-1-1_' + file\n",
    "    if dataset == 'SMAP': file = 'P-1_' + file\n",
    "    if dataset == 'SMAP_new': file = 'P-1_' + file\n",
    "    if dataset == 'MSL': file = 'C-1_' + file\n",
    "    if dataset == 'MSL_new': file = 'C-1_' + file\n",
    "    if dataset == 'UCR': file = '136_' + file\n",
    "    if dataset == 'NAB': file = 'ec2_request_latency_system_failure_' + file\n",
    "    loader.append(np.load(os.path.join(f'processed/{dataset}', f'{file}.npy')))\n",
    "train_data = loader[0]\n",
    "test_data = loader[1]\n",
    "true_labels = loader[2]\n",
    "print(train_data, train_data[0].shape, train_data.shape)\n",
    "print(test_data, test_data[0].shape)"
   ]
  },
  {
   "cell_type": "code",
   "execution_count": null,
   "metadata": {},
   "outputs": [],
   "source": [
    "TranAD_all_res = {'ROC/AUC': [], 'f1': [], 'total_loss': [], 'loss': [], 'parameters': []}\n",
    "TranAD_labels = []\n",
    "loss = np.zeros((len(TranAD_n_windows), N))\n",
    "\n",
    "print(loss.shape, loss[0].shape)\n",
    "for i, elem in enumerate(TranAD_n_windows):\n",
    "    path = f'{studies_path}/TranAD_{dataset}_2/n_window{elem}/results'\n",
    "    model_path = f'{studies_path}/n_window{elem}/checkpoints/model.ckpt'\n",
    "\n",
    "    checkpoint = torch.load(model_path)\n",
    "    model = TranAD(N, elem).double()\n",
    "    model.load_state_dict(checkpoint['model_state_dict'])\n",
    "    accuracy_list = checkpoint['accuracy_list']    \n",
    "    total_params = sum(p.numel() for p in model.parameters())\n",
    "    trainable_params = sum(p.numel() for p in model.parameters() if p.requires_grad)\n",
    "    print(f'total params: {total_params}, trainable params: {trainable_params}')\n",
    "    TranAD_all_res['parameters'].append(trainable_params)\n",
    "\n",
    "    df_res = pd.read_csv(f'{path}/all_res.csv')\n",
    "    df_loss = pd.read_csv(f'{path}/test_loss.csv')\n",
    "    df_labels = pd.read_csv(f'{path}/pred_labels.csv')\n",
    "    TranAD_all_res['ROC/AUC'].append(df_res['ROC/AUC'])\n",
    "    TranAD_all_res['f1'].append(df_res['f1'])\n",
    "    TranAD_all_res['total_loss'].append(np.mean(df_loss))\n",
    "    loss[i] = np.mean(df_loss, axis=0)\n",
    "    TranAD_labels.append(np.array(df_labels))\n",
    "TranAD_all_res['loss'] = loss\n",
    "print(TranAD_labels[0].shape, len(TranAD_labels))\n",
    "# print(TranAD_all_res)"
   ]
  },
  {
   "cell_type": "code",
   "execution_count": null,
   "metadata": {},
   "outputs": [],
   "source": [
    "iTransf_all_res = {'ROC/AUC': [], 'f1': [], 'total_loss': [], 'loss': [], 'parameters': []}\n",
    "loss = np.zeros((len(iTransf_n_windows), N))\n",
    "iTransf_labels = []\n",
    "\n",
    "for i, elem in enumerate(iTransf_n_windows):\n",
    "    path = f'{studies_path}/iTransformer_{dataset}_2/n_window{elem}/results'\n",
    "    model_path = f'{studies_path}/n_window{elem}/checkpoints/model.ckpt'\n",
    "\n",
    "    checkpoint = torch.load(model_path)\n",
    "    model = iTransformer(N, elem).double()\n",
    "    model.load_state_dict(checkpoint['model_state_dict'])\n",
    "    accuracy_list = checkpoint['accuracy_list']    \n",
    "    total_params = sum(p.numel() for p in model.parameters())\n",
    "    trainable_params = sum(p.numel() for p in model.parameters() if p.requires_grad)\n",
    "    print(f'total params: {total_params}, trainable params: {trainable_params}')\n",
    "    iTransf_all_res['parameters'].append(trainable_params)\n",
    "\n",
    "    df_res = pd.read_csv(f'{path}/all_res.csv')\n",
    "    df_loss = pd.read_csv(f'{path}/test_loss.csv')\n",
    "    df_labels = pd.read_csv(f'{path}/pred_labels.csv')\n",
    "    # print(df_res)\n",
    "    iTransf_all_res['ROC/AUC'].append(df_res['ROC/AUC'])\n",
    "    TranAD_all_res['f1'].append(df_res['f1'])\n",
    "    iTransf_all_res['total_loss'].append(np.mean(df_loss))\n",
    "    loss[i] = np.mean(df_loss, axis=0)\n",
    "    TranAD_labels.append(np.array(df_labels))\n",
    "TranAD_all_res['loss'] = loss\n",
    "print(iTransf_labels[0].shape, len(iTransf_labels))\n",
    "# print(iTransf_all_res)"
   ]
  },
  {
   "cell_type": "code",
   "execution_count": null,
   "metadata": {},
   "outputs": [],
   "source": [
    "# same as previous but for detection level instead of window size\n",
    "iTransf_all_res = {'ROC/AUC': [], 'f1': [], 'total_loss': [], 'loss': [], 'parameters': []}\n",
    "loss = np.zeros((len(iTransf_q), N))\n",
    "iTransf_labels = []\n",
    "\n",
    "for i, elem in enumerate(iTransf_q):\n",
    "    path = f'{studies_path}/iTransformer_{dataset}/detection_lvl_{elem}/results'\n",
    "    model_path = f'{studies_path}/iTransformer_{dataset}/detection_lvl_{elem}/checkpoints/model.ckpt'\n",
    "\n",
    "    checkpoint = torch.load(model_path)\n",
    "    model = iTransformer(N, 10).double()\n",
    "    model.load_state_dict(checkpoint['model_state_dict'])\n",
    "    accuracy_list = checkpoint['accuracy_list']    \n",
    "    total_params = sum(p.numel() for p in model.parameters())\n",
    "    trainable_params = sum(p.numel() for p in model.parameters() if p.requires_grad)\n",
    "    print(f'total params: {total_params}, trainable params: {trainable_params}')\n",
    "    iTransf_all_res['parameters'].append(trainable_params)\n",
    "\n",
    "    df_res = pd.read_csv(f'{path}/all_res.csv')\n",
    "    df_loss = pd.read_csv(f'{path}/test_loss.csv')\n",
    "    df_labels = pd.read_csv(f'{path}/pred_labels.csv')\n",
    "    # print(df_res)\n",
    "    iTransf_all_res['ROC/AUC'].append(df_res['ROC/AUC'])\n",
    "    iTransf_all_res['f1'].append(df_res['f1'])\n",
    "    iTransf_all_res['total_loss'].append(np.mean(df_loss))\n",
    "    loss[i] = np.mean(df_loss, axis=0)\n",
    "    iTransf_labels.append(np.array(df_labels))\n",
    "iTransf_all_res['loss'] = loss\n",
    "print(iTransf_labels[0].shape, len(iTransf_labels))\n",
    "# print(iTransf_all_res)"
   ]
  },
  {
   "cell_type": "code",
   "execution_count": null,
   "metadata": {},
   "outputs": [],
   "source": [
    "# same as previous but for detection level instead of window size\n",
    "TranAD_all_res = {'ROC/AUC': [], 'f1': [], 'total_loss': [], 'loss': [], 'parameters': []}\n",
    "loss = np.zeros((len(TranAD_q), N))\n",
    "TranAD_labels = []\n",
    "\n",
    "for i, elem in enumerate(TranAD_q):\n",
    "    path = f'{studies_path}/TranAD_{dataset}/detection_lvl_{elem}/results'\n",
    "    model_path = f'{studies_path}/TranAD_{dataset}/detection_lvl_{elem}/checkpoints/model.ckpt'\n",
    "\n",
    "    checkpoint = torch.load(model_path)\n",
    "    model = TranAD(N, 10).double()\n",
    "    model.load_state_dict(checkpoint['model_state_dict'])\n",
    "    accuracy_list = checkpoint['accuracy_list']    \n",
    "    total_params = sum(p.numel() for p in model.parameters())\n",
    "    trainable_params = sum(p.numel() for p in model.parameters() if p.requires_grad)\n",
    "    print(f'total params: {total_params}, trainable params: {trainable_params}')\n",
    "    TranAD_all_res['parameters'].append(trainable_params)\n",
    "\n",
    "    df_res = pd.read_csv(f'{path}/all_res.csv')\n",
    "    df_loss = pd.read_csv(f'{path}/test_loss.csv')\n",
    "    df_labels = pd.read_csv(f'{path}/pred_labels.csv')\n",
    "    # print(df_res)\n",
    "    TranAD_all_res['ROC/AUC'].append(df_res['ROC/AUC'])\n",
    "    TranAD_all_res['f1'].append(df_res['f1'])\n",
    "    TranAD_all_res['total_loss'].append(np.mean(df_loss))\n",
    "    loss[i] = np.mean(df_loss, axis=0)\n",
    "    TranAD_labels.append(np.array(df_labels))\n",
    "TranAD_all_res['loss'] = loss\n",
    "print(TranAD_labels[0].shape, len(TranAD_labels))\n"
   ]
  },
  {
   "cell_type": "code",
   "execution_count": null,
   "metadata": {},
   "outputs": [],
   "source": [
    "# same as previous but for detection level instead of window size + new outputs\n",
    "iTransf_all_res = {'AUC_local': [], 'AUC_global': [], 'f1_local': [], 'f1_global': [], 'parameters': []}\n",
    "loss = np.zeros((len(iTransf_q), N))\n",
    "iTransf_labels = []\n",
    "\n",
    "for i, elem in enumerate(iTransf_q):\n",
    "    path = f'{studies_path}/iTransformer_{dataset}/detectionlvl_{elem}/results'\n",
    "    model_path = f'{studies_path}/iTransformer_{dataset}/detectionlvl_1e-05/checkpoints/model.ckpt'\n",
    "   \n",
    "    checkpoint = torch.load(model_path)\n",
    "    model = iTransformer(N, 10).double()\n",
    "    model.load_state_dict(checkpoint['model_state_dict'])\n",
    "    total_params = sum(p.numel() for p in model.parameters())\n",
    "    trainable_params = sum(p.numel() for p in model.parameters() if p.requires_grad)\n",
    "    print(f'total params: {total_params}, trainable params: {trainable_params}')\n",
    "    iTransf_all_res['parameters'].append(trainable_params)\n",
    "\n",
    "    df_res = pd.read_csv(f'{path}/res.csv')\n",
    "    df_labels = pd.read_csv(f'{path}/pred_labels.csv')\n",
    "\n",
    "    iTransf_all_res['AUC_local'].append(df_res['ROC/AUC'].iloc[-2])\n",
    "    iTransf_all_res['AUC_global'].append(df_res['ROC/AUC'].iloc[-1])\n",
    "    iTransf_all_res['f1_local'].append(df_res['f1'].iloc[-2])\n",
    "    iTransf_all_res['f1_global'].append(df_res['f1'].iloc[-1])\n",
    "    # print(iTransf_all_res)\n",
    "    iTransf_labels.append(np.array(df_labels))\n",
    "\n",
    "print(iTransf_labels[0].shape, len(iTransf_labels))\n",
    "# print(iTransf_all_res)"
   ]
  },
  {
   "cell_type": "code",
   "execution_count": null,
   "metadata": {},
   "outputs": [],
   "source": [
    "# same as previous but for detection level instead of window size + new outputs\n",
    "TranAD_all_res = {'AUC_local': [], 'AUC_global': [], 'f1_local': [], 'f1_global': [], 'parameters': []}\n",
    "loss = np.zeros((len(TranAD_q), N))\n",
    "TranAD_labels = []\n",
    "\n",
    "for i, elem in enumerate(TranAD_q):\n",
    "    path = f'{studies_path}/TranAD_{dataset}/detectionlvl_{elem}/results'\n",
    "    model_path = f'{studies_path}/TranAD_{dataset}/detectionlvl_1e-05/checkpoints/model.ckpt'\n",
    "   \n",
    "    checkpoint = torch.load(model_path)\n",
    "    model = TranAD(N, 10).double()\n",
    "    model.load_state_dict(checkpoint['model_state_dict'])\n",
    "    total_params = sum(p.numel() for p in model.parameters())\n",
    "    trainable_params = sum(p.numel() for p in model.parameters() if p.requires_grad)\n",
    "    print(f'total params: {total_params}, trainable params: {trainable_params}')\n",
    "    TranAD_all_res['parameters'].append(trainable_params)\n",
    "\n",
    "    df_res = pd.read_csv(f'{path}/res.csv')\n",
    "    df_labels = pd.read_csv(f'{path}/pred_labels.csv')\n",
    "    # print(df_res['f1'])\n",
    "\n",
    "    TranAD_all_res['AUC_local'].append(df_res['ROC/AUC'].iloc[-2])\n",
    "    TranAD_all_res['AUC_global'].append(df_res['ROC/AUC'].iloc[-1])\n",
    "    TranAD_all_res['f1_local'].append(df_res['f1'].iloc[-2])\n",
    "    TranAD_all_res['f1_global'].append(df_res['f1'].iloc[-1])\n",
    "    # print(iTransf_all_res)\n",
    "    TranAD_labels.append(np.array(df_labels))\n",
    "\n",
    "print(TranAD_labels[0].shape, len(TranAD_labels))\n",
    "# print(TranAD_all_res)"
   ]
  },
  {
   "cell_type": "code",
   "execution_count": null,
   "metadata": {},
   "outputs": [],
   "source": []
  },
  {
   "cell_type": "code",
   "execution_count": null,
   "metadata": {},
   "outputs": [],
   "source": [
    "plt.plot(TranAD_q, TranAD_all_res['parameters'], label='TranAD')\n",
    "plt.plot(iTransf_q, iTransf_all_res['parameters'], label='iTransformer')\n",
    "plt.xlabel('Detection level')\n",
    "plt.ylabel('# trainable parameters')\n",
    "plt.xscale('log')\n",
    "plt.legend()\n",
    "plt.savefig(f'{plot_path}/param.png', dpi=300)"
   ]
  },
  {
   "cell_type": "code",
   "execution_count": null,
   "metadata": {},
   "outputs": [],
   "source": [
    "plt.plot(TranAD_n_windows, TranAD_all_res['parameters'], label='TranAD')\n",
    "# plt.plot(TranAD_n_windows, iTransf_all_res['parameters'][:len(TranAD_n_windows)], label='iTransformer')\n",
    "plt.plot(iTransf_n_windows, iTransf_all_res['parameters'], label='iTransformer')\n",
    "plt.xlabel('window size')\n",
    "plt.ylabel('# trainable parameters')\n",
    "plt.legend()\n",
    "plt.savefig(f'{plot_path}/param.png', dpi=300)\n"
   ]
  },
  {
   "cell_type": "code",
   "execution_count": null,
   "metadata": {},
   "outputs": [],
   "source": [
    "plt.plot(TranAD_n_windows, TranAD_all_res['parameters'], label='TranAD')\n",
    "plt.plot(TranAD_n_windows, iTransf_all_res['parameters'][:len(TranAD_n_windows)], label='iTransformer')\n",
    "# plt.plot(iTransf_n_windows, iTransf_all_res['parameters'], label='iTransformer')\n",
    "plt.xlabel('window size')\n",
    "plt.ylabel('# trainable parameters')\n",
    "plt.legend()\n",
    "plt.savefig(f'{plot_path}/param_zoom.png', dpi=300)\n"
   ]
  },
  {
   "cell_type": "code",
   "execution_count": null,
   "metadata": {},
   "outputs": [],
   "source": []
  },
  {
   "cell_type": "code",
   "execution_count": null,
   "metadata": {},
   "outputs": [],
   "source": [
    "# same plots but zoomed\n",
    "plt.plot(TranAD_n_windows, TranAD_all_res['ROC/AUC'], label='TranAD')\n",
    "plt.plot(TranAD_n_windows, iTransf_all_res['ROC/AUC'][:len(TranAD_n_windows)], label='iTransformer')\n",
    "plt.xlabel('window size')\n",
    "plt.ylabel('ROC AUC')\n",
    "plt.legend()\n",
    "plt.show()\n",
    "# plt.savefig(f'{plot_path}/rocauc_zoom2.png', dpi=300)\n",
    "plt.clf()\n",
    "\n",
    "plt.plot(TranAD_n_windows, TranAD_all_res['f1'], label='TranAD')\n",
    "plt.plot(TranAD_n_windows, iTransf_all_res['f1'][:len(TranAD_n_windows)], label='iTransformer')\n",
    "plt.xlabel('window size')\n",
    "plt.ylabel('f1 score')\n",
    "plt.legend()\n",
    "plt.show()\n",
    "# plt.savefig(f'{plot_path}/f1_zoom2.png', dpi=300)"
   ]
  },
  {
   "cell_type": "code",
   "execution_count": null,
   "metadata": {},
   "outputs": [],
   "source": [
    "plt.plot(TranAD_n_windows, TranAD_all_res['ROC/AUC'], label='TranAD')\n",
    "plt.plot(iTransf_n_windows, iTransf_all_res['ROC/AUC'], label='iTransformer')\n",
    "plt.xlabel('window size')\n",
    "plt.ylabel('ROC AUC')\n",
    "plt.legend()\n",
    "plt.show()\n",
    "# plt.savefig(f'{plot_path}/rocauc_2.png', dpi=300)\n",
    "plt.clf()\n",
    "\n",
    "plt.plot(TranAD_n_windows, TranAD_all_res['f1'], label='TranAD')\n",
    "plt.plot(iTransf_n_windows, iTransf_all_res['f1'], label='iTransformer')\n",
    "plt.xlabel('window size')\n",
    "plt.ylabel('f1 score')\n",
    "plt.legend()\n",
    "plt.show()\n",
    "# plt.savefig(f'{plot_path}/f1_2.png', dpi=300)"
   ]
  },
  {
   "cell_type": "code",
   "execution_count": null,
   "metadata": {},
   "outputs": [],
   "source": [
    "# same but with detection level q\n",
    "plt.plot(TranAD_q, TranAD_all_res['ROC/AUC'], ':o', label='TranAD')\n",
    "plt.plot(iTransf_q, iTransf_all_res['ROC/AUC'], ':o', label='iTransformer')\n",
    "plt.xlabel('Detection level')\n",
    "plt.ylabel('ROC AUC')\n",
    "plt.xscale('log')\n",
    "plt.legend()\n",
    "# plt.show()\n",
    "plt.savefig(f'{plot_path}/rocauc.png', dpi=300)\n",
    "plt.clf()\n",
    "\n",
    "plt.plot(TranAD_q, TranAD_all_res['ROC/AUC'], ':o', label='TranAD')\n",
    "plt.plot(iTransf_q, iTransf_all_res['f1'], ':o', label='iTransformer')\n",
    "plt.xlabel('Detection level')\n",
    "plt.ylabel('F1 score')\n",
    "plt.xscale('log')\n",
    "plt.legend()\n",
    "# plt.show()\n",
    "plt.savefig(f'{plot_path}/f1.png', dpi=300)"
   ]
  },
  {
   "cell_type": "code",
   "execution_count": null,
   "metadata": {},
   "outputs": [],
   "source": [
    "# same but with detection level q + new outputs\n",
    "plt.plot(TranAD_q, TranAD_all_res['AUC_local'], ':o', label='TranAD local')\n",
    "plt.plot(TranAD_q, TranAD_all_res['AUC_global'], ':o', label='TranAD global')\n",
    "plt.plot(iTransf_q, iTransf_all_res['AUC_local'], ':o', label='iTransformer local')\n",
    "plt.plot(iTransf_q, iTransf_all_res['AUC_global'], ':o', label='iTransformer global')\n",
    "plt.xlabel('Detection level')\n",
    "plt.ylabel('ROC AUC')\n",
    "plt.xscale('log')\n",
    "plt.legend()\n",
    "# plt.show()\n",
    "plt.savefig(f'{plot_path}/rocauc.png', dpi=300)\n",
    "plt.clf()\n",
    "\n",
    "plt.plot(TranAD_q, TranAD_all_res['f1_local'], ':o', label='TranAD local')\n",
    "plt.plot(TranAD_q, TranAD_all_res['f1_global'], ':o', label='TranAD global')\n",
    "plt.plot(iTransf_q, iTransf_all_res['f1_local'], ':o', label='iTransformer local')\n",
    "plt.plot(iTransf_q, iTransf_all_res['f1_global'], ':o', label='iTransformer global')\n",
    "plt.xlabel('Detection level')\n",
    "plt.ylabel('F1 score')\n",
    "plt.xscale('log')\n",
    "plt.legend()\n",
    "# plt.show()\n",
    "plt.savefig(f'{plot_path}/f1.png', dpi=300)"
   ]
  },
  {
   "cell_type": "code",
   "execution_count": null,
   "metadata": {},
   "outputs": [],
   "source": [
    "plt.plot(TranAD_n_windows, TranAD_all_res['total_loss'], label='TranAD')\n",
    "# plt.plot(iTransf_n_windows, iTransf_all_res['total_loss'], label='iTransformer')\n",
    "plt.xlabel('window size')\n",
    "plt.ylabel('test loss')\n",
    "plt.title('total test loss over all dimensions')\n",
    "plt.legend()\n",
    "plt.show()\n",
    "# plt.savefig(f'{plot_path}/total_loss_TranAD.png', dpi=300)\n",
    "\n",
    "\n",
    "plt.plot(TranAD_n_windows, TranAD_all_res['total_loss'], label='TranAD')\n",
    "plt.plot(TranAD_n_windows, iTransf_all_res['total_loss'][:len(TranAD_n_windows)], label='iTransformer')\n",
    "plt.xlabel('window size')\n",
    "plt.ylabel('test loss')\n",
    "plt.title('total test loss over all dimensions')\n",
    "plt.legend()\n",
    "plt.show()\n",
    "# plt.savefig(f'{plot_path}/total_loss_both.png', dpi=300)"
   ]
  },
  {
   "cell_type": "code",
   "execution_count": null,
   "metadata": {},
   "outputs": [],
   "source": [
    "print(TranAD_all_res['loss'][:,0])\n",
    "for dim in range(N):\n",
    "\ta_s = TranAD_all_res['loss'][:,dim]\n",
    "\tplt.plot(TranAD_n_windows, a_s, label=f'dim = {dim}')\n",
    "\tplt.xlabel('window size')\n",
    "\tplt.ylabel('Test loss')\n",
    "\tplt.title(f'Average loss for dim = {dim}')\n",
    "\t# plt.legend()\n",
    "\t# plt.savefig(f'{path}/{name}.png', dpi=300)\n",
    "\tplt.show()"
   ]
  },
  {
   "cell_type": "code",
   "execution_count": null,
   "metadata": {},
   "outputs": [],
   "source": [
    "for dim in range(N):\n",
    "\ta_s = iTransf_all_res['loss'][:,dim]\n",
    "\tplt.plot(iTransf_n_windows, a_s)\n",
    "\tplt.xlabel('window size')\n",
    "\tplt.ylabel('Test loss')\n",
    "\tplt.title(f'Average loss for dim = {dim}')\n",
    "\tplt.tight_layout()\n",
    "\tplt.show()"
   ]
  },
  {
   "cell_type": "code",
   "execution_count": null,
   "metadata": {},
   "outputs": [],
   "source": [
    "for dim in range(N):\n",
    "\tfig, axs = plt.subplots(1, 2, figsize=(16, 8))\n",
    "\ta_s1 = TranAD_all_res['loss'][:,dim]\n",
    "\ta_s2 = iTransf_all_res['loss'][:,dim]\n",
    "\taxs[0].plot(TranAD_n_windows, a_s1, label=f'dim = {dim}')\n",
    "\taxs[1].plot(iTransf_n_windows, a_s2, label=f'dim = {dim}')\n",
    "\taxs[0].set_title('TranAD')\n",
    "\taxs[1].set_title('iTransformer')\n",
    "\tfig.supxlabel('window size')\n",
    "\tfig.supylabel('Test loss')\n",
    "\tfig.suptitle(f'Average loss for dim = {dim}')\n",
    "\tplt.tight_layout()\n",
    "\tplt.show()\n",
    "\t# plt.savefig(f'{plot_path}/test_loss_dim{dim}.png', dpi=300)\n",
    "\t# plt.close()"
   ]
  },
  {
   "cell_type": "code",
   "execution_count": null,
   "metadata": {},
   "outputs": [],
   "source": [
    "for dim in range(N):\n",
    "\t# print('looking at dimension: ', dim)\n",
    "\tpred1 = []\n",
    "\tpred2 = []\n",
    "\tfor i in range(len(TranAD_n_windows)):\n",
    "\t\tpred1.append(TranAD_labels[i][:,dim])\n",
    "\tfor i in range(len(iTransf_n_windows)):\n",
    "\t\tpred2.append(iTransf_labels[i][:,dim])\n",
    "\ttrue = np.array(true_labels[0][:,dim]).T\n",
    "\ttrue = true[np.newaxis, :]\n",
    "\n",
    "\tfig, axs = plt.subplots(3, 1, figsize=(20,10), sharex=True, gridspec_kw={'height_ratios': [3, 6, 1]})\n",
    "\tim1 = axs[0].imshow(pred1, origin='lower', aspect='auto')\n",
    "\taxs[1].imshow(pred2, origin='lower', aspect='auto')\n",
    "\taxs[2].imshow(true, origin='lower', aspect='auto')\n",
    "\taxs[0].set_title('Anomaly labels predicted with TranAD')\n",
    "\t# axs[0].set_ylabel('window size')\n",
    "\taxs[0].set_yticks(ticks=np.arange(len(TranAD_n_windows)), labels=TranAD_n_windows)\n",
    "\taxs[1].set_title('Anomaly labels predicted with iTransformer')\n",
    "\t# axs[1].set_ylabel('window size')\n",
    "\taxs[1].set_yticks(ticks=np.arange(len(iTransf_n_windows)), labels=iTransf_n_windows)\n",
    "\taxs[2].set_title('True labels')\n",
    "\taxs[2].set_yticks(ticks=[0])\n",
    "\tfig.supxlabel('Timestamp')\n",
    "\tfig.supylabel('Window size')\n",
    "\tfig.suptitle(f'dim = {dim}')\n",
    "\tplt.tight_layout()\n",
    "\tplt.show()\n",
    "\t# plt.savefig(f'{plot_path}/alabels_dim{dim}.png', dpi=300)\n",
    "\tplt.close()\n"
   ]
  },
  {
   "cell_type": "code",
   "execution_count": null,
   "metadata": {},
   "outputs": [],
   "source": [
    "# same but for detection level\n",
    "for dim in range(N):\n",
    "\tpred1 = []\n",
    "\tpred2 = []\n",
    "\tfor i in range(len(TranAD_q)):\n",
    "\t\tpred1.append(TranAD_labels[i][:,dim])\n",
    "\tfor i in range(len(iTransf_q)):\n",
    "\t\tpred2.append(iTransf_labels[i][:,dim])\n",
    "\ttrue = np.array(true_labels[0][:,dim]).T\n",
    "\ttrue = true[np.newaxis, :]\n",
    "\n",
    "\tfig, axs = plt.subplots(3, 1, figsize=(15,6), sharex=True, gridspec_kw={'height_ratios': [3, 5, 1]})\n",
    "\tim1 = axs[0].imshow(pred1, origin='lower', aspect='auto')\n",
    "\taxs[0].imshow(pred1, origin='lower', aspect='auto')\n",
    "\taxs[1].imshow(pred2, origin='lower', aspect='auto')\n",
    "\taxs[2].imshow(true, origin='lower', aspect='auto')\n",
    "\taxs[0].set_title('Anomaly labels predicted with TranAD')\n",
    "\taxs[0].set_yticks(ticks=np.arange(len(TranAD_q)), labels=TranAD_q)\n",
    "\taxs[1].set_title('Anomaly labels predicted with iTransformer')\n",
    "\taxs[1].set_yticks(ticks=np.arange(len(iTransf_q)), labels=iTransf_q)\n",
    "\taxs[2].set_title('True anomaly labels')\n",
    "\taxs[2].set_yticks(ticks=[1e-5])\n",
    "\tfig.supxlabel('Timestamp')\n",
    "\tfig.supylabel('Detection level')\n",
    "\tfig.suptitle(f'Dim = {dim}')\n",
    "\tplt.tight_layout()\n",
    "\t# plt.show()\n",
    "\tplt.savefig(f'{plot_path}/alabels_dim{dim}.png', dpi=300)\n",
    "\tplt.close()\n"
   ]
  },
  {
   "cell_type": "code",
   "execution_count": null,
   "metadata": {},
   "outputs": [],
   "source": [
    "# same but for detection level + local vs global \n",
    "pred1 = []\n",
    "pred2 = []\n",
    "pred3 = []\n",
    "pred4 = []\n",
    "\n",
    "for i in range(len(TranAD_q)):\n",
    "    pred1.append(TranAD_labels[i][:, 0])\n",
    "    pred3.append(TranAD_labels[i][:, 1])\n",
    "for i in range(len(iTransf_q)):\n",
    "    pred2.append(iTransf_labels[i][:, 0])\n",
    "    pred4.append(iTransf_labels[i][:, 1])\n",
    "true = np.array(true_labels[:, 0]).T\n",
    "true = true[np.newaxis, :]\n",
    "\n",
    "fig, axs = plt.subplots(5, 1, figsize=(15, 10), sharex=True, gridspec_kw={'height_ratios': [5, 5, 5, 5, 1]})\n",
    "im1 = axs[0].imshow(pred1, origin='lower', aspect='auto')\n",
    "axs[0].imshow(pred1, origin='lower', aspect='auto')\n",
    "axs[1].imshow(pred2, origin='lower', aspect='auto')\n",
    "axs[2].imshow(pred3, origin='lower', aspect='auto')\n",
    "axs[3].imshow(pred4, origin='lower', aspect='auto')\n",
    "axs[4].imshow(true, origin='lower', aspect='auto')\n",
    "\n",
    "axs[0].set_title('Anomaly labels predicted locally with TranAD')\n",
    "axs[0].set_yticks(ticks=np.arange(len(TranAD_q)), labels=TranAD_q)\n",
    "axs[1].set_title('Anomaly labels predicted locally with iTransformer')\n",
    "axs[1].set_yticks(ticks=np.arange(len(iTransf_q)), labels=iTransf_q)\n",
    "axs[2].set_title('Anomaly labels predicted globally with TranAD')\n",
    "axs[2].set_yticks(ticks=np.arange(len(TranAD_q)), labels=TranAD_q)\n",
    "axs[3].set_title('Anomaly labels predicted globally with iTransformer')\n",
    "axs[3].set_yticks(ticks=np.arange(len(iTransf_q)), labels=iTransf_q)\n",
    "\n",
    "axs[4].set_title('True anomaly labels')\n",
    "axs[4].set_yticks(ticks=[1e-5])\n",
    "fig.supxlabel('Timestamp')\n",
    "fig.supylabel('Detection level')\n",
    "plt.tight_layout()\n",
    "# plt.show()\n",
    "plt.savefig(f'{plot_path}/alabels_all.png', dpi=300)\n",
    "# plt.close()\n"
   ]
  },
  {
   "cell_type": "code",
   "execution_count": null,
   "metadata": {},
   "outputs": [],
   "source": [
    "# same but for detection level\n",
    "true_all = (np.sum(true_labels[0], axis=1) >= 1) + 0\n",
    "pred1 = (np.sum(TranAD_labels, axis=2) >= 1) + 0\n",
    "pred2 = (np.sum(iTransf_labels, axis=2) >= 1) + 0\n",
    "true_all = true_all[np.newaxis, :]\n",
    "\n",
    "fig, axs = plt.subplots(3, 1, figsize=(15,6), sharex=True, gridspec_kw={'height_ratios': [3,5,1]})\n",
    "im1 = axs[0].imshow(pred2, origin='lower', aspect='auto')\n",
    "axs[0].imshow(pred1, origin='lower', aspect='auto')\n",
    "axs[1].imshow(pred2, origin='lower', aspect='auto')\n",
    "axs[2].imshow(true, origin='lower', aspect='auto')\n",
    "axs[0].set_title('Anomaly labels predicted with TranAD')\n",
    "axs[0].set_yticks(ticks=np.arange(len(TranAD_q)), labels=TranAD_q)\n",
    "axs[1].set_title('Anomaly labels predicted with iTransformer')\n",
    "axs[1].set_yticks(ticks=np.arange(len(iTransf_q)), labels=iTransf_q)\n",
    "axs[2].set_title('True anomaly labels')\n",
    "axs[2].set_yticks(ticks=[1e-5])\n",
    "fig.supxlabel('Timestamp')\n",
    "fig.supylabel('Detection level')\n",
    "fig.suptitle(f'Anomalies summed over all dimensions')\n",
    "plt.tight_layout()\n",
    "plt.show()\n",
    "# plt.savefig(f'{plot_path}/alabels_all.png', dpi=300)\n"
   ]
  },
  {
   "cell_type": "code",
   "execution_count": null,
   "metadata": {},
   "outputs": [],
   "source": [
    "true_all = (np.sum(true_labels[0], axis=1) >= 1) + 0\n",
    "pred1 = (np.sum(TranAD_labels, axis=2) >= 1) + 0\n",
    "pred2 = (np.sum(iTransf_labels, axis=2) >= 1) + 0\n",
    "true_all = true_all[np.newaxis, :]\n",
    "\n",
    "fig, axs = plt.subplots(3, 1, figsize=(20,10), sharex=True, gridspec_kw={'height_ratios': [3, 6, 1]})\n",
    "im1 = axs[0].imshow(pred1, origin='lower', aspect='auto')\n",
    "axs[1].imshow(pred2, origin='lower', aspect='auto')\n",
    "axs[2].imshow(true_all, origin='lower', aspect='auto')\n",
    "axs[0].set_title('anomaly labels predicted with TranAD')\n",
    "# axs[0].set_ylabel('window size')\n",
    "axs[0].set_yticks(ticks=np.arange(len(TranAD_n_windows)), labels=TranAD_n_windows)\n",
    "axs[1].set_title('anomaly labels predicted with iTransformer')\n",
    "# axs[1].set_ylabel('window size')\n",
    "axs[1].set_yticks(ticks=np.arange(len(iTransf_n_windows)), labels=iTransf_n_windows)\n",
    "axs[2].set_title('true labels')\n",
    "axs[2].set_yticks(ticks=[0])\n",
    "fig.supxlabel('time stamp')\n",
    "fig.supylabel('window size')\n",
    "fig.suptitle(f'anomalies summed over all dimensions')\n",
    "plt.tight_layout()\n",
    "plt.show()\n",
    "# plt.savefig(f'{plot_path}/alabels_all.png', dpi=300)\n"
   ]
  },
  {
   "cell_type": "code",
   "execution_count": null,
   "metadata": {},
   "outputs": [],
   "source": []
  },
  {
   "cell_type": "code",
   "execution_count": null,
   "metadata": {},
   "outputs": [],
   "source": []
  },
  {
   "cell_type": "code",
   "execution_count": null,
   "metadata": {},
   "outputs": [],
   "source": []
  },
  {
   "cell_type": "markdown",
   "metadata": {},
   "source": [
    "### for visualising training/testing data"
   ]
  },
  {
   "cell_type": "code",
   "execution_count": null,
   "metadata": {},
   "outputs": [],
   "source": [
    "dataset = 'SWaT'"
   ]
  },
  {
   "cell_type": "code",
   "execution_count": null,
   "metadata": {},
   "outputs": [],
   "source": [
    "loader = []\n",
    "for file in ['train', 'test']:\n",
    "    if dataset == 'SMD': file = 'machine-1-1_' + file\n",
    "    if dataset == 'SMAP': file = 'P-1_' + file\n",
    "    if dataset == 'SMAP_new': file = 'P-1_' + file\n",
    "    if dataset == 'MSL': file = 'C-1_' + file\n",
    "    if dataset == 'MSL_new': file = 'C-1_' + file\n",
    "    if dataset == 'UCR': file = '136_' + file\n",
    "    if dataset == 'NAB': file = 'ec2_request_latency_system_failure_' + file\n",
    "    loader.append(np.load(os.path.join(f'processed/{dataset}', f'{file}.npy')))\n",
    "train_data = loader[0]\n",
    "test_data = loader[1]\n",
    "print(train_data, train_data[0].shape, train_data.shape)\n",
    "print(test_data, test_data[0].shape)"
   ]
  },
  {
   "cell_type": "code",
   "execution_count": null,
   "metadata": {},
   "outputs": [],
   "source": [
    "for dim in range(len(test_data[0])):\n",
    "    plt.plot(test_data[:, dim])\n",
    "    plt.title(f'{dataset}: Dim = {dim}')\n",
    "    plt.xlabel('Timestamp')\n",
    "    plt.ylabel('Value')\n",
    "    plt.tight_layout()\n",
    "    plt.show()\n",
    "    # plt.savefig(f'plots_data/{dataset}_train_dim{dim}.png', dpi=300)\n",
    "    plt.close()\n",
    "    if np.all(train_data[:, dim]==0):\n",
    "        if np.all(test_data[:, dim]==0):\n",
    "            print('0 test and train data: ', dim)\n",
    "        else:\n",
    "            print('0 training: ', dim)"
   ]
  },
  {
   "cell_type": "code",
   "execution_count": null,
   "metadata": {},
   "outputs": [],
   "source": [
    "from matplotlib.backends.backend_pdf import PdfPages\n"
   ]
  },
  {
   "cell_type": "code",
   "execution_count": null,
   "metadata": {},
   "outputs": [],
   "source": [
    "pdf = PdfPages(f'plots_data/{dataset}_train.pdf')\n",
    "for dim in range(len(train_data[0])):\n",
    "    fig, axs = plt.subplots(1, 1, figsize=(6,2))\n",
    "    plt.plot(train_data[:, dim])\n",
    "    plt.title(f'{dataset}: Dim = {dim}')\n",
    "    plt.xlabel('Timestamp')\n",
    "    plt.ylabel('Value')\n",
    "    plt.tight_layout()\n",
    "    pdf.savefig(fig)\n",
    "    plt.close()\n",
    "pdf.close()"
   ]
  },
  {
   "cell_type": "code",
   "execution_count": null,
   "metadata": {},
   "outputs": [],
   "source": [
    "pdf = PdfPages(f'plots_data/{dataset}_test.pdf')\n",
    "for dim in range(len(test_data[0])):\n",
    "    fig, axs = plt.subplots(1, 1, figsize=(6,2))\n",
    "    plt.plot(test_data[:, dim])\n",
    "    plt.title(f'{dataset}: Dim = {dim}')\n",
    "    plt.xlabel('Timestamp')\n",
    "    plt.ylabel('Value')\n",
    "    plt.tight_layout()\n",
    "    pdf.savefig(fig)\n",
    "    plt.close()\n",
    "pdf.close()"
   ]
  },
  {
   "cell_type": "code",
   "execution_count": null,
   "metadata": {},
   "outputs": [],
   "source": []
  },
  {
   "cell_type": "markdown",
   "metadata": {},
   "source": [
    "### for comparing importance of # epochs & # features on IEEECIS_pca_scaled / ATLAS TS"
   ]
  },
  {
   "cell_type": "code",
   "execution_count": null,
   "metadata": {},
   "outputs": [],
   "source": [
    "from src.data_loader import convert_to_windows_new, load_dataset\n",
    "from main import backprop\n",
    "from src.utils import load_model"
   ]
  },
  {
   "cell_type": "code",
   "execution_count": null,
   "metadata": {},
   "outputs": [],
   "source": [
    "# parameters\n",
    "modelname = 'iTransformer'\n",
    "# dataset = 'IEEECIS_pca_scaled'\n",
    "dataset = 'ATLAS_TS'\n",
    "n_window = 100\n",
    "step_size = 50\n",
    "reps = 5"
   ]
  },
  {
   "cell_type": "code",
   "execution_count": null,
   "metadata": {},
   "outputs": [],
   "source": [
    "%matplotlib inline"
   ]
  },
  {
   "cell_type": "code",
   "execution_count": null,
   "metadata": {},
   "outputs": [],
   "source": [
    "# get results when varying the number of features\n",
    "feats = [40, 50, 75, 100, 150]\n",
    "epochs = 5  \n",
    "res_dict = {f'{m}': np.empty((0, 6)) for m in ['ROCAUC', 'F1', 'MCC']}\n",
    "\n",
    "for f in feats:\n",
    "    scores = {'ROCAUC': np.empty((0,3)), 'F1': np.empty((0,3)), 'MCC': np.empty((0,3))}\n",
    "    for i in range(reps):\n",
    "        folder = f'{modelname}_{dataset}/n_window{n_window}_steps{step_size}_feats{f}_eps{epochs}_{i}'\n",
    "        res_tmp = pd.read_csv(f'{folder}/results/res.csv')\n",
    "        scores['ROCAUC'] = np.vstack((scores['ROCAUC'], res_tmp.iloc[-3:]['ROC/AUC'].values))\n",
    "        scores['F1'] = np.vstack((scores['F1'], res_tmp.iloc[-3:]['f1'].values))\n",
    "        scores['MCC'] = np.vstack((scores['MCC'], res_tmp.iloc[-3:]['MCC'].values))\n",
    "    for key in scores.keys():\n",
    "        scores[key] = np.concatenate((np.mean(scores[key], axis=0), np.std(scores[key], axis=0)), axis=0)\n",
    "        if key == 'MCC':\n",
    "            print(scores[key])\n",
    "        res_dict[key] = np.vstack((res_dict[key], scores[key]))\n",
    "    \n",
    "print(res_dict.keys(), res_dict)"
   ]
  },
  {
   "cell_type": "code",
   "execution_count": null,
   "metadata": {},
   "outputs": [],
   "source": [
    "print(res_dict['ROCAUC'][0])\n",
    "print(res_dict['ROCAUC'][:,0])"
   ]
  },
  {
   "cell_type": "code",
   "execution_count": null,
   "metadata": {},
   "outputs": [],
   "source": [
    "def plot_metric(feats, metric, res_dict):\n",
    "    plt.plot(feats, res_dict[metric][:,0], '-o', label=f\"local (inclusive OR)\")\n",
    "    plt.plot(feats, res_dict[metric][:,1], '-.o', label=f\"local (maj. voting)\")\n",
    "    plt.plot(feats, res_dict[metric][:,2], ':o', label=f\"global\")\n",
    "    plt.fill_between(feats, res_dict[metric][:,0] - res_dict[metric][:,3], res_dict[metric][:,0] + res_dict[metric][:,3], alpha=0.2)\n",
    "    plt.fill_between(feats, res_dict[metric][:,1] - res_dict[metric][:,4], res_dict[metric][:,1] + res_dict[metric][:,4], alpha=0.2)\n",
    "    plt.fill_between(feats, res_dict[metric][:,2] - res_dict[metric][:,5], res_dict[metric][:,2] + res_dict[metric][:,5], alpha=0.2)\n",
    "\n",
    "    if metric == 'ROCAUC':\n",
    "        plt.ylabel('ROC AUC')\n",
    "        metric = 'rocauc'\n",
    "    elif metric == 'f1':\n",
    "        plt.ylabel('F1 score')\n",
    "    else:\n",
    "        plt.ylabel(metric)\n",
    "    plt.xlabel('Number of features')\n",
    "    plt.legend()\n",
    "    plt.tight_layout()\n",
    "    plt.savefig(f'./studies_IEEECIS_pca_scaled/plots/{metric}_feats2.png', facecolor='w')\n",
    "    plt.show()"
   ]
  },
  {
   "cell_type": "code",
   "execution_count": null,
   "metadata": {},
   "outputs": [],
   "source": [
    "plot_metric(feats, 'ROCAUC', res_dict)\n",
    "plot_metric(feats, 'F1', res_dict)\n",
    "plot_metric(feats, 'MCC', res_dict)"
   ]
  },
  {
   "cell_type": "code",
   "execution_count": null,
   "metadata": {},
   "outputs": [],
   "source": []
  },
  {
   "cell_type": "code",
   "execution_count": null,
   "metadata": {},
   "outputs": [],
   "source": [
    "# get results when varying the number of features\n",
    "feats = [40, 50, 75, 100, 150]\n",
    "epochs = 5  \n",
    "res_dict = {}\n",
    "for f in feats:\n",
    "    folder = f'{modelname}_{dataset}/n_window{n_window}_steps{step_size}_feats{f}_eps{epochs}'\n",
    "    res_tmp = pd.read_csv(f'{folder}/results/res.csv')\n",
    "    print(res_tmp.iloc[-3:])\n",
    "    res_dict[f'{f}feats'] = res_tmp.iloc[-3:]"
   ]
  },
  {
   "cell_type": "code",
   "execution_count": null,
   "metadata": {},
   "outputs": [],
   "source": [
    "def plot_feats(res_dict, feats, metric='MCC'):\n",
    "    plt.plot(feats, [res_dict[f'{f}feats'][metric].iloc[0] for f in feats], '-o', label=f\"{res_dict[f'{feats[0]}feats'].iloc[0,0]}\")\n",
    "    plt.plot(feats, [res_dict[f'{f}feats'][metric].iloc[1] for f in feats], '-.o', label=f\"{res_dict[f'{feats[0]}feats'].iloc[1,0]}\")\n",
    "    plt.plot(feats, [res_dict[f'{f}feats'][metric].iloc[2] for f in feats], ':o', label=f\"{res_dict[f'{feats[0]}feats'].iloc[2,0]}\")\n",
    "\n",
    "    # plt.title(f'{modelname} on {dataset}')\n",
    "    if metric == 'ROC/AUC':\n",
    "        plt.ylabel('ROC AUC')\n",
    "        metric = 'rocauc'\n",
    "    elif metric == 'f1':\n",
    "        plt.ylabel('F1 score')\n",
    "    else:\n",
    "        plt.ylabel(metric)\n",
    "    plt.xlabel('Number of features')\n",
    "    plt.legend()\n",
    "    plt.tight_layout()\n",
    "    plt.savefig(f'./studies_IEEECIS_pca_scaled/plots/{metric}_feats.png', facecolor='w')\n",
    "    plt.show()"
   ]
  },
  {
   "cell_type": "code",
   "execution_count": null,
   "metadata": {},
   "outputs": [],
   "source": [
    "plot_feats(res_dict, feats, 'ROC/AUC')\n",
    "plot_feats(res_dict, feats, 'f1')\n",
    "plot_feats(res_dict, feats, 'MCC')"
   ]
  },
  {
   "cell_type": "code",
   "execution_count": null,
   "metadata": {},
   "outputs": [],
   "source": []
  },
  {
   "cell_type": "code",
   "execution_count": null,
   "metadata": {},
   "outputs": [],
   "source": [
    "# get results when varying the number of epochs\n",
    "res_dict = {}\n",
    "epochs = [5, 10, 15, 20]\n",
    "feats = 100\n",
    "for e in epochs:\n",
    "    folder = f'{modelname}_{dataset}/n_window{n_window}_steps{step_size}_feats{feats}_eps{e}'\n",
    "    res_tmp = pd.read_csv(f'{folder}/results/res.csv')\n",
    "    print(res_tmp.iloc[-3:])\n",
    "    res_dict[f'{e}epochs'] = res_tmp.iloc[-3:]"
   ]
  },
  {
   "cell_type": "code",
   "execution_count": null,
   "metadata": {},
   "outputs": [],
   "source": [
    "def plot_epochs(res_dict, epochs, metric='MCC'):\n",
    "    plt.plot(epochs, [res_dict[f'{e}epochs'][metric].iloc[0] for e in epochs], '-o', label=f\"{res_dict[f'{epochs[0]}epochs'].iloc[0,0]}\")\n",
    "    plt.plot(epochs, [res_dict[f'{e}epochs'][metric].iloc[1] for e in epochs], '-.o', label=f\"{res_dict[f'{epochs[0]}epochs'].iloc[1,0]}\")\n",
    "    plt.plot(epochs, [res_dict[f'{e}epochs'][metric].iloc[2] for e in epochs], ':o', label=f\"{res_dict[f'{epochs[0]}epochs'].iloc[2,0]}\")\n",
    "\n",
    "    # plt.title(f'{modelname} on {dataset}')\n",
    "    if metric == 'ROC/AUC':\n",
    "        plt.ylabel('ROC AUC')\n",
    "        metric = 'rocauc'\n",
    "    elif metric == 'f1':\n",
    "        plt.ylabel('F1 score')\n",
    "    else:\n",
    "        plt.ylabel(metric)\n",
    "    plt.xlabel('Number of epochs')\n",
    "    plt.xticks(epochs)\n",
    "    plt.legend()\n",
    "    plt.tight_layout()\n",
    "    plt.savefig(f'./studies_IEEECIS_pca_scaled/plots/{metric}_epochs.png', facecolor='w')\n",
    "    plt.show()"
   ]
  },
  {
   "cell_type": "code",
   "execution_count": null,
   "metadata": {},
   "outputs": [],
   "source": [
    "plot_epochs(res_dict, epochs, 'ROC/AUC')\n",
    "plot_epochs(res_dict, epochs, 'f1')\n",
    "plot_epochs(res_dict, epochs, 'MCC')"
   ]
  },
  {
   "cell_type": "code",
   "execution_count": null,
   "metadata": {},
   "outputs": [],
   "source": []
  },
  {
   "cell_type": "code",
   "execution_count": null,
   "metadata": {},
   "outputs": [],
   "source": [
    "# parameters\n",
    "modelname1 = 'iTransformer'\n",
    "modelname2 = 'TranAD'\n",
    "# dataset = 'IEEECIS_pca_scaled'\n",
    "dataset = 'ATLAS_TS'\n",
    "n_window = [5, 10, 20, 40]\n",
    "step_size = 1\n",
    "feats = -1\n",
    "# feats = 40\n",
    "epochs = 5"
   ]
  },
  {
   "cell_type": "code",
   "execution_count": null,
   "metadata": {},
   "outputs": [],
   "source": [
    "# get results when varying the window size\n",
    "res_dict1 = {}\n",
    "res_dict2 = {}\n",
    "\n",
    "for w in n_window:\n",
    "    folder = f'{modelname1}_{dataset}/n_window{w}_steps{step_size}_feats{feats}_eps{epochs}'\n",
    "    res_tmp = pd.read_csv(f'{folder}/results/res.csv')\n",
    "    print(res_tmp.iloc[-3:])\n",
    "    res_dict1[f'{w}window'] = res_tmp.iloc[-3:]\n",
    "    folder = f'{modelname2}_{dataset}/n_window{w}_steps{step_size}_feats{feats}_eps{epochs}'\n",
    "    res_tmp = pd.read_csv(f'{folder}/results/res.csv')\n",
    "    print(res_tmp.iloc[-3:])\n",
    "    res_dict2[f'{w}window'] = res_tmp.iloc[-3:]\n",
    "\n",
    "print(res_dict1.keys(), res_dict2.keys())"
   ]
  },
  {
   "cell_type": "code",
   "execution_count": null,
   "metadata": {},
   "outputs": [],
   "source": [
    "from cycler import cycler\n",
    "\n",
    "# Access the current color cycler\n",
    "current_cycler = plt.rcParams['axes.prop_cycle']\n",
    "print(current_cycler)\n",
    "\n",
    "# increase the markersize\n",
    "plt.rcParams['lines.markersize'] = 6\n"
   ]
  },
  {
   "cell_type": "code",
   "execution_count": null,
   "metadata": {},
   "outputs": [],
   "source": [
    "def plot_window_size(res_dict1, n_window, res_dict2=None, modelnames=['model 1', 'model 2'], metric='MCC'):\n",
    "    plt.plot(n_window, [res_dict1[f'{n}window'][metric].iloc[0] for n in n_window], '-o', c='#5790fc', label=f\"{modelnames[0]}: {res_dict1[f'{n_window[0]}window'].iloc[0,0]}\")\n",
    "    plt.plot(n_window, [res_dict1[f'{n}window'][metric].iloc[1] for n in n_window], '--o', c='#f89c20', label=f\"{modelnames[0]}: {res_dict1[f'{n_window[0]}window'].iloc[1,0]}\")\n",
    "    plt.plot(n_window, [res_dict1[f'{n}window'][metric].iloc[2] for n in n_window], ':o', c='#e42536', label=f\"{modelnames[0]}: {res_dict1[f'{n_window[0]}window'].iloc[2,0]}\")\n",
    "\n",
    "    if res_dict2 is not None:\n",
    "        plt.plot(n_window, [res_dict2[f'{n}window'][metric].iloc[0] for n in n_window], '-x', c='#5790fc', label=f\"{modelnames[1]}: {res_dict1[f'{n_window[0]}window'].iloc[0,0]}\")\n",
    "        plt.plot(n_window, [res_dict2[f'{n}window'][metric].iloc[1] for n in n_window], '--x', c='#f89c20', label=f\"{modelnames[1]}: {res_dict1[f'{n_window[0]}window'].iloc[1,0]}\")\n",
    "        plt.plot(n_window, [res_dict2[f'{n}window'][metric].iloc[2] for n in n_window], ':x', c='#e42536', label=f\"{modelnames[1]}: {res_dict1[f'{n_window[0]}window'].iloc[2,0]}\")\n",
    "\n",
    "    # plt.axvline(x=70, color='k', linestyle=':', alpha=0.8)\n",
    "\n",
    "    if metric == 'ROC/AUC':\n",
    "        plt.ylabel('ROC AUC')\n",
    "        metric = 'rocauc'\n",
    "        # plt.legend(bbox_to_anchor=(1, 0.9), loc='upper right')\n",
    "        # plt.legend(loc='center right')\n",
    "        # plt.annotate('step size = window size / 2', xy=(70, 0.6), xytext=(73, 0.6), fontsize=12, color='k', rotation=270)\n",
    "        # plt.annotate('step size = 1', xy=(70, 0.6), xytext=(60, 0.6), fontsize=12, color='k', rotation=90)\n",
    "    elif metric == 'f1':\n",
    "        plt.ylabel('F1 score')\n",
    "        # plt.legend(bbox_to_anchor=(1, 0.87), loc='upper right')\n",
    "        # plt.legend(loc='center right')\n",
    "        # plt.annotate('step size = window size / 2', xy=(70, 0.06), xytext=(73, 0.06), fontsize=12, color='k', rotation=270)\n",
    "        # plt.annotate('step size = 1', xy=(70, 0.06), xytext=(60, 0.06), fontsize=12, color='k', rotation=90)\n",
    "    else:\n",
    "        plt.ylabel(metric)\n",
    "        # plt.legend(bbox_to_anchor=(1, 0.927), loc='upper right')\n",
    "        # plt.legend(loc='center right')\n",
    "        # plt.annotate('step size = window size / 2', xy=(70, 0.04), xytext=(73, 0.04), fontsize=12, color='k', rotation=270)\n",
    "        # plt.annotate('step size = 1', xy=(70, 0.04), xytext=(60, 0.04), fontsize=12, color='k', rotation=90)\n",
    "    plt.legend(loc='upper left')\n",
    "    # plt.xscale('log')\n",
    "    plt.xlabel('Window size')\n",
    "    plt.xticks(n_window)\n",
    "    plt.tight_layout()\n",
    "    # plt.savefig(f'./studies_{dataset}/plots/{metric}_windowsize.png', facecolor='w')\n",
    "    plt.show()"
   ]
  },
  {
   "cell_type": "code",
   "execution_count": null,
   "metadata": {},
   "outputs": [],
   "source": [
    "plot_window_size(res_dict1, n_window, res_dict2, [modelname1, modelname2], 'ROC/AUC')\n",
    "plot_window_size(res_dict1, n_window, res_dict2, [modelname1, modelname2], 'f1')\n",
    "plot_window_size(res_dict1, n_window, res_dict2, [modelname1, modelname2], 'MCC')"
   ]
  },
  {
   "cell_type": "code",
   "execution_count": null,
   "metadata": {},
   "outputs": [],
   "source": [
    "# additional plots for iTransformer window size\n",
    "# get results when varying the window size\n",
    "res_dict = {}\n",
    "n_window = [5, 10, 20, 40, 100, 200, 500, 1000]\n",
    "\n",
    "for w in n_window:\n",
    "    if w < 100:\n",
    "        step_size = 1\n",
    "    else:\n",
    "        step_size = w // 2\n",
    "    folder = f'{modelname1}_{dataset}/n_window{w}_steps{step_size}_feats{feats}_eps{epochs}'\n",
    "    res_tmp = pd.read_csv(f'{folder}/results/res.csv')\n",
    "    print(res_tmp.iloc[-3:])\n",
    "    res_dict[f'{w}window'] = res_tmp.iloc[-3:]\n",
    "   \n"
   ]
  },
  {
   "cell_type": "code",
   "execution_count": null,
   "metadata": {},
   "outputs": [],
   "source": [
    "plot_window_size(res_dict, n_window, metric='ROC/AUC', modelnames=['iTransformer'])\n",
    "plot_window_size(res_dict, n_window, metric='f1', modelnames=['iTransformer'])\n",
    "plot_window_size(res_dict, n_window, metric='MCC', modelnames=['iTransformer'])  "
   ]
  },
  {
   "cell_type": "code",
   "execution_count": null,
   "metadata": {},
   "outputs": [],
   "source": []
  },
  {
   "cell_type": "code",
   "execution_count": null,
   "metadata": {},
   "outputs": [],
   "source": [
    "def plot_window_size2(res_dict1, n_window1, n_window2, res_dict2=None, none_dict=None, modelnames=['model 1', 'model 2', 'model 3'], metric='MCC', mode=0):\n",
    "    plt.plot(n_window1, [res_dict1[f'{n}window'][metric].iloc[0] for n in n_window1], '-o', c='#5790fc', label=f\"{modelnames[0]}\")\n",
    "    # plt.plot(n_window1, [res_dict1[f'{n}window'][metric].iloc[1] for n in n_window1], '--o', c='#f89c20', label=f\"{modelnames[0]}: {res_dict1[f'{n_window1[0]}window'].iloc[1,0]}\")\n",
    "    # plt.plot(n_window1, [res_dict1[f'{n}window'][metric].iloc[2] for n in n_window1], ':o', c='#e42536', label=f\"{modelnames[0]}: {res_dict1[f'{n_window1[0]}window'].iloc[2,0]}\")\n",
    "\n",
    "    if res_dict2 is not None:\n",
    "        plt.plot(n_window2, [res_dict2[f'{n}window'][metric].iloc[mode] for n in n_window2], '-x', c='#5790fc', label=f\"{modelnames[1]}\")\n",
    "        # plt.plot(n_window2, [res_dict2[f'{n}window'][metric].iloc[1] for n in n_window2], '--x', c='#f89c20', label=f\"{modelnames[1]}: {res_dict1[f'{n_window2[0]}window'].iloc[1,0]}\")\n",
    "        # plt.plot(n_window2, [res_dict2[f'{n}window'][metric].iloc[2] for n in n_window2], ':x', c='#e42536', label=f\"{modelnames[1]}: {res_dict1[f'{n_window2[0]}window'].iloc[2,0]}\")\n",
    "\n",
    "    if none_dict is not None:\n",
    "        plt.axhline(y=none_dict[metric].iloc[mode], color='k', linestyle='--', label=rf\"{modelnames[2]}: $y={none_dict[metric].iloc[mode]:.2f}$\")\n",
    "        # plt.axhline(y=none_dict[metric].iloc[1], color='k', linestyle='--', label=f\"POT: {none_dict.iloc[1,0]}: $y={none_dict[metric].iloc[1]:.2f}$\")\n",
    "        # plt.axhline(y=none_dict[metric].iloc[2], color='k', linestyle='--', label=f\"POT: {none_dict.iloc[2,0]}: $y={none_dict[metric].iloc[2]:.2f}$\")\n",
    "    \n",
    "    plt.axvline(x=70, color='k', linestyle=':', alpha=0.8)\n",
    "    ymin, ymax = plt.gca().get_ylim()\n",
    "    y_mid = (ymax - ymin) / 2 + ymin\n",
    "    print(ymin, ymax, y_mid)\n",
    "    plt.annotate('step size = window size / 2', xy=(70, y_mid), xytext=(73, y_mid), fontsize=12, color='k', rotation=270)\n",
    "    plt.annotate('step size = 1', xy=(70, y_mid), xytext=(60, y_mid), fontsize=12, color='k', rotation=90)\n",
    "\n",
    "    if metric == 'ROC/AUC':\n",
    "        plt.ylabel('ROC AUC')\n",
    "        metric = 'rocauc'\n",
    "    elif metric == 'f1':\n",
    "        plt.ylabel('F1 score')\n",
    "    else:\n",
    "        plt.ylabel(metric)\n",
    "    \n",
    "    if mode == 0:\n",
    "        plt.title('Local (inclusive OR)')\n",
    "    elif mode == 1:\n",
    "        plt.title('Local (majority voting)')\n",
    "    else:   \n",
    "        plt.title('Global')\n",
    "    plt.legend(bbox_to_anchor=(1, 0.25), loc='upper right')\n",
    "    # plt.legend(loc='upper left')\n",
    "    plt.xscale('log')\n",
    "    plt.xlabel('Window size')\n",
    "    plt.xticks(n_window)\n",
    "    plt.tight_layout()\n",
    "    # plt.savefig(f'./studies_{dataset}/plots/{metric}_windowsize_comp_{mode}.png', facecolor='w')\n",
    "    plt.show()"
   ]
  },
  {
   "cell_type": "code",
   "execution_count": null,
   "metadata": {},
   "outputs": [],
   "source": [
    "# get results when directly applying POT\n",
    "res_dict3 = {}\n",
    "\n",
    "# path = f'None_{dataset}/feats40/res.csv'\n",
    "path = f'None_{dataset}/res.csv'\n",
    "res_tmp = pd.read_csv(path)\n",
    "print(res_tmp.iloc[-3:])\n",
    "res_dict3 = res_tmp.iloc[-3:]"
   ]
  },
  {
   "cell_type": "code",
   "execution_count": null,
   "metadata": {},
   "outputs": [],
   "source": [
    "plot_window_size2(res_dict, n_window, n_window[:4], res_dict2, res_dict3, [f'{modelname1} + POT', f'{modelname2} + POT', 'None + POT'], 'ROC/AUC', 0)\n",
    "plot_window_size2(res_dict, n_window, n_window[:4], res_dict2, res_dict3, [f'{modelname1} + POT', f'{modelname2} + POT', 'None + POT'], 'ROC/AUC', 1)\n",
    "plot_window_size2(res_dict, n_window, n_window[:4], res_dict2, res_dict3, [f'{modelname1} + POT', f'{modelname2} + POT', 'None + POT'], 'ROC/AUC', 2)\n",
    "plot_window_size2(res_dict, n_window, n_window[:4], res_dict2, res_dict3, [f'{modelname1} + POT', f'{modelname2} + POT', 'None + POT'], 'f1', 0)\n",
    "plot_window_size2(res_dict, n_window, n_window[:4], res_dict2, res_dict3, [f'{modelname1} + POT', f'{modelname2} + POT', 'None + POT'], 'f1', 1)\n",
    "plot_window_size2(res_dict, n_window, n_window[:4], res_dict2, res_dict3, [f'{modelname1} + POT', f'{modelname2} + POT', 'None + POT'], 'f1', 2)\n",
    "plot_window_size2(res_dict, n_window, n_window[:4], res_dict2, res_dict3, [f'{modelname1} + POT', f'{modelname2} + POT', 'None + POT'], 'MCC', 0)\n",
    "plot_window_size2(res_dict, n_window, n_window[:4], res_dict2, res_dict3, [f'{modelname1} + POT', f'{modelname2} + POT', 'None + POT'], 'MCC', 1)\n",
    "plot_window_size2(res_dict, n_window, n_window[:4], res_dict2, res_dict3, [f'{modelname1} + POT', f'{modelname2} + POT', 'None + POT'], 'MCC', 2)"
   ]
  },
  {
   "cell_type": "code",
   "execution_count": null,
   "metadata": {},
   "outputs": [],
   "source": [
    "def plot_window_size3(res_dict1, n_window1, n_window2, res_dict2=None, none_dict=None, modelnames=['model 1', 'model 2', 'model 3'], metric='MCC'):\n",
    "    titles = ['Local (inclusive OR)', 'Local (majority voting)', 'Global']\n",
    "    colors = ['#5790fc', '#f89c20', '#e42536']\n",
    "    # increase markersize and linewidth and markerline width\n",
    "    plt.rcParams['lines.markersize'] = 8\n",
    "    plt.rcParams['lines.linewidth'] = 3\n",
    "    plt.rcParams['lines.markeredgewidth'] = 3\n",
    "\n",
    "    fig, axs = plt.subplots(1, 3, figsize=(24, 9), sharey=True)\n",
    "    for i, mode in enumerate([0, 1, 2]):    \n",
    "        axs[i].plot(n_window1, [res_dict1[f'{n}window'][metric].iloc[mode] for n in n_window1], '-o', c=colors[i], label=f\"{modelnames[0]}\")\n",
    "        if res_dict2 is not None:\n",
    "            axs[i].plot(n_window2, [res_dict2[f'{n}window'][metric].iloc[mode] for n in n_window2], '-x', c=colors[i], label=f\"{modelnames[1]}\")\n",
    "        if none_dict is not None:\n",
    "            axs[i].axhline(y=none_dict[metric].iloc[mode], color='k', linestyle='--', label=rf\"{modelnames[2]}: $y={none_dict[metric].iloc[mode]:.2f}$\")\n",
    "        \n",
    "        axs[i].axvline(x=70, color='k', linestyle=':', alpha=0.8, linewidth=1)\n",
    "        ymin, ymax = axs[i].get_ylim()\n",
    "        y_mid = (ymax - ymin) / 2 + ymin\n",
    "        axs[i].annotate('step size = window size / 2', xy=(70, y_mid), xytext=(73, y_mid), fontsize=17, color='k', rotation=270, va='center')\n",
    "        axs[i].annotate('step size = 1', xy=(70, y_mid), xytext=(55, y_mid), fontsize=17, color='k', rotation=90, va='center')\n",
    "\n",
    "        if metric == 'ROC/AUC':\n",
    "            axs[i].set_ylabel('ROC AUC')\n",
    "            axs[i].legend(bbox_to_anchor=(0.97, 0.27), loc='upper right')\n",
    "        elif metric == 'f1':\n",
    "            axs[i].set_ylabel('F1 score')\n",
    "            # axs[i].legend(bbox_to_anchor=(0.97, 0.27), loc='upper right')\n",
    "            axs[i].legend(loc='upper left')\n",
    "        else:\n",
    "            axs[i].set_ylabel(metric)\n",
    "            # axs[i].legend(bbox_to_anchor=(0.97, 0.25), loc='upper right')\n",
    "            axs[i].legend(loc='upper left')\n",
    "        \n",
    "        axs[i].set_title(titles[i])\n",
    "        axs[i].set_xticks(n_window1)\n",
    "        axs[i].set_xscale('log')\n",
    "        axs[i].set_xlabel('Window size')\n",
    "\n",
    "    plt.tight_layout()\n",
    "    if metric == 'ROC/AUC':\n",
    "        metric = 'rocauc'\n",
    "    plt.savefig(f'./studies_{dataset}/plots/{metric}_windowsize_comp.png', facecolor='w')\n",
    "    plt.show()"
   ]
  },
  {
   "cell_type": "code",
   "execution_count": null,
   "metadata": {},
   "outputs": [],
   "source": [
    "plot_window_size3(res_dict, n_window, n_window[:4], res_dict2, res_dict3, [f'{modelname1} + POT', f'{modelname2} + POT', 'None + POT'], 'ROC/AUC')\n",
    "plot_window_size3(res_dict, n_window, n_window[:4], res_dict2, res_dict3, [f'{modelname1} + POT', f'{modelname2} + POT', 'None + POT'], 'f1')\n",
    "plot_window_size3(res_dict, n_window, n_window[:4], res_dict2, res_dict3, [f'{modelname1} + POT', f'{modelname2} + POT', 'None + POT'], 'MCC')"
   ]
  },
  {
   "cell_type": "code",
   "execution_count": null,
   "metadata": {},
   "outputs": [],
   "source": []
  },
  {
   "cell_type": "markdown",
   "metadata": {},
   "source": []
  },
  {
   "cell_type": "code",
   "execution_count": 61,
   "metadata": {},
   "outputs": [],
   "source": [
    "dataset = 'ATLAS_TS'  # 'IEEECIS_pca_scaled'\n",
    "model = 'iTransformer'\n",
    "feats = 16"
   ]
  },
  {
   "cell_type": "code",
   "execution_count": 62,
   "metadata": {},
   "outputs": [
    {
     "name": "stdout",
     "output_type": "stream",
     "text": [
      "    Unnamed: 0        f1  precision    recall   TP       TN     FP    FN  \\\n",
      "0            1  0.065724   0.043478  0.134615  7.0  36624.0  154.0  45.0   \n",
      "1            2  0.023525   0.030303  0.019231  1.0  36746.0   32.0  51.0   \n",
      "2            3  0.000000   0.000000  0.000000  0.0  36771.0    7.0  52.0   \n",
      "3            4  0.000000   0.000000  0.000000  0.0  36778.0    0.0  52.0   \n",
      "4            5  0.000000   0.000000  0.000000  0.0  36778.0    0.0  52.0   \n",
      "5            6  0.000000   0.000000  0.000000  0.0  36778.0    0.0  52.0   \n",
      "6            7  0.000000   0.000000  0.000000  0.0  36778.0    0.0  52.0   \n",
      "7            8  0.000000   0.000000  0.000000  0.0  36778.0    0.0  52.0   \n",
      "8            9  0.000000   0.000000  0.000000  0.0  36778.0    0.0  52.0   \n",
      "9           10  0.000000   0.000000  0.000000  0.0  36778.0    0.0  52.0   \n",
      "10          11  0.000000   0.000000  0.000000  0.0  36778.0    0.0  52.0   \n",
      "11          12  0.000000   0.000000  0.000000  0.0  36778.0    0.0  52.0   \n",
      "12          13  0.000000   0.000000  0.000000  0.0  36778.0    0.0  52.0   \n",
      "13          14  0.000000   0.000000  0.000000  0.0  36778.0    0.0  52.0   \n",
      "14          15  0.000000   0.000000  0.000000  0.0  36778.0    0.0  52.0   \n",
      "15          16  0.000000   0.000000  0.000000  0.0  36778.0    0.0  52.0   \n",
      "\n",
      "     ROC/AUC       MCC  detection level q  \n",
      "0   0.565214  0.074234            0.00001  \n",
      "1   0.509180  0.023042            0.00001  \n",
      "2   0.499905 -0.000518            0.00001  \n",
      "3   0.500000  0.000000            0.00001  \n",
      "4   0.500000  0.000000            0.00001  \n",
      "5   0.500000  0.000000            0.00001  \n",
      "6   0.500000  0.000000            0.00001  \n",
      "7   0.500000  0.000000            0.00001  \n",
      "8   0.500000  0.000000            0.00001  \n",
      "9   0.500000  0.000000            0.00001  \n",
      "10  0.500000  0.000000            0.00001  \n",
      "11  0.500000  0.000000            0.00001  \n",
      "12  0.500000  0.000000            0.00001  \n",
      "13  0.500000  0.000000            0.00001  \n",
      "14  0.500000  0.000000            0.00001  \n",
      "15  0.500000  0.000000            0.00001   (16, 11)\n",
      "[1, 2, 3, 4, 5, 6, 7, 8, 9, 10, 11, 12, 13, 14, 15, 16]\n"
     ]
    }
   ],
   "source": [
    "# res = pd.read_csv(f'iTransformer_IEEECIS_pca_scaled/n_window100_steps50_feats100_eps5_newtest/results/res_local_all.csv')\n",
    "res = pd.read_csv(f'iTransformer_ATLAS_TS/n_window100_steps50_feats-1_eps5_newtest/results/res_local_all.csv')\n",
    "print(res, res.shape)\n",
    "x_loc = list(res.iloc[:,0])\n",
    "print(x_loc)"
   ]
  },
  {
   "cell_type": "code",
   "execution_count": 63,
   "metadata": {},
   "outputs": [
    {
     "name": "stdout",
     "output_type": "stream",
     "text": [
      "Unnamed: 0              global\n",
      "f1                         0.0\n",
      "precision                  0.0\n",
      "recall                     0.0\n",
      "TP                         0.0\n",
      "TN                       867.0\n",
      "FP                         0.0\n",
      "FN                        62.0\n",
      "ROC/AUC                    0.5\n",
      "MCC                        0.0\n",
      "threshold            20.620352\n",
      "detection level q      0.00001\n",
      "Hit@100%                   1.0\n",
      "Hit@150%                   1.0\n",
      "NDCG@100%                  1.0\n",
      "NDCG@150%                  1.0\n",
      "Name: 102, dtype: object\n"
     ]
    }
   ],
   "source": [
    "glob = pd.read_csv('/Users/lauraboggia/VSCode_projects/TranAD/iTransformer_IEEECIS_pca_scaled/n_window100_steps50_feats100_eps5_newtest/results/res.csv')\n",
    "glob = glob.iloc[-1]\n",
    "print(glob)"
   ]
  },
  {
   "cell_type": "code",
   "execution_count": 69,
   "metadata": {},
   "outputs": [],
   "source": [
    "def plot_anomaly_labels(x_loc, res, glob, feats, metric, save=False):\n",
    "    plt.plot(x_loc, res[metric], ':o', label='local anomaly labels')\n",
    "    plt.plot(feats, glob[metric], 'x', label='global anomaly labels', markersize=10, markeredgewidth=3)\n",
    "    plt.legend()\n",
    "    # plt.xscale('log')\n",
    "    plt.xticks(x_loc)\n",
    "    plt.ylabel(metric)\n",
    "    plt.xlabel('# of anomalous dimensions')\n",
    "    if save:\n",
    "        if metric == 'ROC/AUC':\n",
    "            metric = 'rocauc'\n",
    "        plt.savefig(f'./studies_{dataset}/plots/{metric}_alabels.png', facecolor='w')\n",
    "    plt.show()"
   ]
  },
  {
   "cell_type": "code",
   "execution_count": 70,
   "metadata": {},
   "outputs": [
    {
     "data": {
      "image/png": "[encoded data removed]",
      "text/plain": [
       "<Figure size 1000x1000 with 1 Axes>"
      ]
     },
     "metadata": {},
     "output_type": "display_data"
    },
    {
     "data": {
      "image/png": "[encoded data removed]",
      "text/plain": [
       "<Figure size 1000x1000 with 1 Axes>"
      ]
     },
     "metadata": {},
     "output_type": "display_data"
    },
    {
     "data": {
      "image/png": "[encoded data removed]",
      "text/plain": [
       "<Figure size 1000x1000 with 1 Axes>"
      ]
     },
     "metadata": {},
     "output_type": "display_data"
    }
   ],
   "source": [
    "s=True\n",
    "plot_anomaly_labels(x_loc, res, glob, feats, 'ROC/AUC', save=s)\n",
    "plot_anomaly_labels(x_loc, res, glob, feats, 'f1', save=s)\n",
    "plot_anomaly_labels(x_loc, res, glob, feats, 'MCC', save=s)"
   ]
  },
  {
   "cell_type": "code",
   "execution_count": null,
   "metadata": {},
   "outputs": [],
   "source": []
  }
 ],
 "metadata": {
  "kernelspec": {
   "display_name": "Python 3",
   "language": "python",
   "name": "python3"
  },
  "language_info": {
   "codemirror_mode": {
    "name": "ipython",
    "version": 3
   },
   "file_extension": ".py",
   "mimetype": "text/x-python",
   "name": "python",
   "nbconvert_exporter": "python",
   "pygments_lexer": "ipython3",
   "version": "3.8.19"
  }
 },
 "nbformat": 4,
 "nbformat_minor": 2
}
