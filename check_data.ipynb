{
 "cells": [
  {
   "cell_type": "code",
   "execution_count": 2,
   "metadata": {},
   "outputs": [],
   "source": [
    "import pandas as pd\n",
    "import numpy as np\n",
    "import h5py"
   ]
  },
  {
   "cell_type": "code",
   "execution_count": 3,
   "metadata": {},
   "outputs": [],
   "source": [
    "f_train = h5py.File('/Users/lauraboggia/VSCode_projects/TranAD/data/eclipse_small_prod_dataset/prod_train_data.hdf', 'r')\n",
    "f_test = h5py.File('/Users/lauraboggia/VSCode_projects/TranAD/data/eclipse_small_prod_dataset/prod_test_data.hdf', 'r')"
   ]
  },
  {
   "cell_type": "code",
   "execution_count": 4,
   "metadata": {},
   "outputs": [
    {
     "name": "stdout",
     "output_type": "stream",
     "text": [
      "<KeysViewHDF5 ['prod_train_data']>\n",
      "<KeysViewHDF5 ['CLASS', 'PYTABLES_FORMAT_VERSION', 'TITLE', 'VERSION']>\n",
      "<KeysViewHDF5 ['axis0', 'axis1', 'block0_items', 'block0_values', 'block1_items', 'block1_values']>\n",
      "<HDF5 dataset \"axis0\": shape (159,), type \"|S37\">\n"
     ]
    }
   ],
   "source": [
    "print(f_train.keys())\n",
    "print(f_train.attrs.keys())\n",
    "\n",
    "print(f_train['prod_train_data'].keys())\n",
    "print(f_train['prod_train_data']['axis0'])"
   ]
  },
  {
   "cell_type": "code",
   "execution_count": 5,
   "metadata": {},
   "outputs": [
    {
     "name": "stdout",
     "output_type": "stream",
     "text": [
      "\n",
      " axis0\n",
      "(159,)\n",
      "\n",
      " axis1\n",
      "(145826,)\n",
      "\n",
      " block0_items\n",
      "(157,)\n",
      "\n",
      " block0_values\n",
      "(145826, 157)\n",
      "\n",
      " block1_items\n",
      "(2,)\n",
      "\n",
      " block1_values\n",
      "(1,)\n"
     ]
    }
   ],
   "source": [
    "with f_train as file:\n",
    "    for key in file['prod_train_data'].keys():\n",
    "        print('\\n', key)\n",
    "        # Access the dataset\n",
    "        dataset = file['prod_train_data'][key]\n",
    "        \n",
    "        # Read the dataset into a numpy array\n",
    "        data = dataset[:]\n",
    "        print(data.shape)\n",
    "        \n",
    "        # # Since the dataset contains strings of fixed length, you can decode the bytes\n",
    "        # # Convert bytes to strings\n",
    "        # if key in ['axis0', 'block0_items', 'block1_items']:\n",
    "        #     strings = [x.decode('utf-8').strip() for x in data]\n",
    "        \n",
    "        #     # Print the strings\n",
    "        #     for s in strings:\n",
    "        #         print(s)\n",
    "        # else:\n",
    "        #     print(data)"
   ]
  },
  {
   "cell_type": "code",
   "execution_count": 6,
   "metadata": {},
   "outputs": [
    {
     "name": "stdout",
     "output_type": "stream",
     "text": [
      "\n",
      " axis0\n",
      "(159,)\n",
      "\n",
      " axis1\n",
      "(375239,)\n",
      "\n",
      " block0_items\n",
      "(157,)\n",
      "\n",
      " block0_values\n",
      "(375239, 157)\n",
      "\n",
      " block1_items\n",
      "(2,)\n",
      "\n",
      " block1_values\n",
      "(1,)\n"
     ]
    }
   ],
   "source": [
    "with f_test as file:\n",
    "    for key in file['prod_test_data'].keys():\n",
    "        print('\\n', key)\n",
    "        # Access the dataset\n",
    "        dataset = file['prod_test_data'][key]\n",
    "        \n",
    "        # Read the dataset into a numpy array\n",
    "        data = dataset[:]\n",
    "        print(data.shape)\n",
    "        \n",
    "        # # Since the dataset contains strings of fixed length, you can decode the bytes\n",
    "        # # Convert bytes to strings\n",
    "        # if key in ['axis0', 'block0_items', 'block1_items']:\n",
    "        #     strings = [x.decode('utf-8').strip() for x in data]\n",
    "        \n",
    "        #     # Print the strings\n",
    "        #     for s in strings:\n",
    "        #         print(s)\n",
    "        # else:\n",
    "        #     print(data)"
   ]
  },
  {
   "cell_type": "code",
   "execution_count": 7,
   "metadata": {},
   "outputs": [],
   "source": [
    "label_train = pd.read_csv('/Users/lauraboggia/VSCode_projects/TranAD/data/eclipse_small_prod_dataset/prod_train_label.csv')\n",
    "label_test = pd.read_csv('/Users/lauraboggia/VSCode_projects/TranAD/data/eclipse_small_prod_dataset/prod_test_label.csv')"
   ]
  },
  {
   "cell_type": "code",
   "execution_count": 9,
   "metadata": {},
   "outputs": [
    {
     "name": "stdout",
     "output_type": "stream",
     "text": [
      "(176, 6) (64, 6)\n",
      "      job_id  component_id app_name anom_name  anom_input  binary_anom\n",
      "0   15715588        601382      exa      none           0            0\n",
      "1   15716322        600245   lammps      none           0            0\n",
      "2   15715562        600247      exa      none           0            0\n",
      "3   15716328        601318   lammps      none           0            0\n",
      "4   15715617        601427      sw4      none           0            0\n",
      "..       ...           ...      ...       ...         ...          ...\n",
      "59  15716574        601088  sw4lite      none           0            0\n",
      "60  15716580        601407  sw4lite      none           0            0\n",
      "61  15716580        601404  sw4lite      none           0            0\n",
      "62  15715591        600815      sw4      none           0            0\n",
      "63  15715591        601129      sw4      none           0            0\n",
      "\n",
      "[64 rows x 6 columns]\n",
      "Series([], Name: binary_anom, dtype: int64)\n",
      "16     1\n",
      "17     1\n",
      "18     1\n",
      "19     1\n",
      "20     1\n",
      "      ..\n",
      "171    1\n",
      "172    1\n",
      "173    1\n",
      "174    1\n",
      "175    1\n",
      "Name: binary_anom, Length: 160, dtype: int64 \n",
      " 160\n"
     ]
    }
   ],
   "source": [
    "print(label_test.shape, label_train.shape)\n",
    "print(label_train)\n",
    "y_train = label_train['binary_anom']\n",
    "print(y_train[y_train==1])\n",
    "y_test = label_test['binary_anom']\n",
    "print(y_test[y_test==1], '\\n', len(y_test[y_test==1]))"
   ]
  },
  {
   "cell_type": "code",
   "execution_count": 10,
   "metadata": {},
   "outputs": [
    {
     "name": "stdout",
     "output_type": "stream",
     "text": [
      "                      app_name  anom_name  anom_input  binary_anom\n",
      "job_id   component_id                                             \n",
      "15715565 601307            sw4       none           0            0\n",
      "15716328 601319         lammps       none           0            0\n",
      "15716303 601325         lammps       none           0            0\n",
      "15716574 601089        sw4lite       none           0            0\n",
      "15715591 601130            sw4       none           0            0\n",
      "...                        ...        ...         ...          ...\n",
      "15716573 600118        sw4lite  cpuoccupy           2            1\n",
      "15716575 601321        sw4lite    memleak           2            1\n",
      "         601466        sw4lite    memleak           2            1\n",
      "         601083        sw4lite    memleak           2            1\n",
      "         601294        sw4lite    memleak           2            1\n",
      "\n",
      "[176 rows x 4 columns]\n"
     ]
    }
   ],
   "source": [
    "label = label_test\n",
    "label['job_id'] = label['job_id'].astype('str')\n",
    "label['component_id'] = label['component_id'].astype('str') \n",
    "label.set_index(['job_id', 'component_id'], inplace=True)\n",
    "\n",
    "print(label)"
   ]
  },
  {
   "cell_type": "code",
   "execution_count": null,
   "metadata": {},
   "outputs": [],
   "source": []
  }
 ],
 "metadata": {
  "kernelspec": {
   "display_name": "Python 3",
   "language": "python",
   "name": "python3"
  },
  "language_info": {
   "codemirror_mode": {
    "name": "ipython",
    "version": 3
   },
   "file_extension": ".py",
   "mimetype": "text/x-python",
   "name": "python",
   "nbconvert_exporter": "python",
   "pygments_lexer": "ipython3",
   "version": "3.8.19"
  }
 },
 "nbformat": 4,
 "nbformat_minor": 2
}
