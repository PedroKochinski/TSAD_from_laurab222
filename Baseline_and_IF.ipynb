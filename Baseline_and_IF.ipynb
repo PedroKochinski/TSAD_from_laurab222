{
 "cells": [
  {
   "cell_type": "code",
   "execution_count": 1,
   "metadata": {},
   "outputs": [],
   "source": [
    "import os\n",
    "import numpy as np\n",
    "import pandas as pd\n",
    "import matplotlib.pyplot as plt\n",
    "from cycler import cycler\n",
    "import mplhep as hep\n",
    "from src.models import TranAD, iTransformer\n",
    "from torch.utils.data import Dataset, DataLoader\n",
    "import torch\n"
   ]
  },
  {
   "cell_type": "code",
   "execution_count": 2,
   "metadata": {},
   "outputs": [],
   "source": [
    "# plt.rcParams['axes.prop_cycle'] = cycler('color', ['#17becf','#8c564b', '#e377c2', '#7f7f7f','#bcbd22', '#1f77b4', '#ff7f0e', '#2ca02c', '#d62728', '#9467bd'])\n",
    "plt.style.use([hep.style.ROOT, hep.style.firamath])"
   ]
  },
  {
   "cell_type": "code",
   "execution_count": null,
   "metadata": {},
   "outputs": [],
   "source": []
  },
  {
   "cell_type": "markdown",
   "metadata": {},
   "source": [
    "## Deterministic baseline algorithm\n",
    "apply POT directly to time series features without applying any model before"
   ]
  },
  {
   "cell_type": "code",
   "execution_count": 3,
   "metadata": {},
   "outputs": [],
   "source": [
    "import math\n",
    "import os\n",
    "from src.data_loader import MyDataset\n",
    "from src.pot import calc_point2point\n",
    "from src.pot import pot_eval\n",
    "from src.plotting import plot_ascore, plot_labels, plot_metrics, compare_labels"
   ]
  },
  {
   "cell_type": "code",
   "execution_count": 4,
   "metadata": {},
   "outputs": [],
   "source": [
    "dataset = 'GECCO'\n",
    "flag_less = False\n",
    "modeltype = 'None'\n",
    "n_windows = 10\n",
    "feats = -1\n",
    "res_path = f'None/None_{dataset}/feats{feats}'\n",
    "plot_path = res_path\n",
    "os.makedirs(plot_path, exist_ok=True)"
   ]
  },
  {
   "cell_type": "code",
   "execution_count": 5,
   "metadata": {},
   "outputs": [
    {
     "name": "stdout",
     "output_type": "stream",
     "text": [
      "9 0\n"
     ]
    }
   ],
   "source": [
    "train_set = MyDataset(dataset, n_windows, n_windows, modeltype, flag='train', feats=feats, less=flag_less, enc=False, k=-1)\n",
    "test_set = MyDataset(dataset, n_windows, n_windows, modeltype, flag='test', feats=feats, enc=False, less=flag_less, k=-1)\n",
    "feats = test_set.feats\n",
    "enc_feats = test_set.enc_feats\n",
    "print(feats, enc_feats)"
   ]
  },
  {
   "cell_type": "code",
   "execution_count": 6,
   "metadata": {},
   "outputs": [
    {
     "name": "stdout",
     "output_type": "stream",
     "text": [
      "(69783, 9) (69783, 9) (69783, 9)\n"
     ]
    }
   ],
   "source": [
    "labels = test_set.get_labels()\n",
    "train = train_set.get_complete_data()\n",
    "test = test_set.get_complete_data()\n",
    "print(train.shape, test.shape, labels.shape)"
   ]
  },
  {
   "cell_type": "code",
   "execution_count": 7,
   "metadata": {},
   "outputs": [],
   "source": [
    "# don't apply any model\n",
    "lossT = np.abs(train)\n",
    "loss = np.abs(test)"
   ]
  },
  {
   "cell_type": "code",
   "execution_count": 8,
   "metadata": {},
   "outputs": [],
   "source": [
    "# local anomaly labels\n",
    "df_res_local = pd.DataFrame()\n",
    "preds = []\n",
    "for i in range(loss.shape[1]):\n",
    "    lt, l, ls = lossT[:, i], loss[:, i], labels[:, i]  \n",
    "    result_local, pred = pot_eval(lt, l, ls, plot_path, f'dim{i}', q=1e-5)\n",
    "    preds.append(pred)\n",
    "    df_res = pd.DataFrame.from_dict(result_local, orient='index').T\n",
    "    df_res_local = pd.concat([df_res_local, df_res], ignore_index=True)\n",
    "lossTfinal, lossFinal = np.mean(lossT, axis=1), np.mean(loss, axis=1)\n",
    "true_labels = (np.sum(labels, axis=1) >= 1) + 0\n",
    "preds = np.array(preds).T\n",
    "preds = preds.astype(int)\n",
    "labelspred = (np.sum(preds, axis=1) >= 1) + 0\n"
   ]
  },
  {
   "cell_type": "code",
   "execution_count": 9,
   "metadata": {},
   "outputs": [
    {
     "name": "stdout",
     "output_type": "stream",
     "text": [
      "local results\n",
      "{'f1': 0.08288311118528607, 'precision': 0.043233639299239776, 'recall': 0.9999999863013701, 'TP': 730, 'TN': 52898, 'FP': 16155, 'FN': 0, 'ROC/AUC': 0.883024633252719, 'MCC': 0.18198653162571624}\n",
      "\n",
      "local results with majority voting\n",
      "{'f1': 0.0, 'precision': 0.0, 'recall': 0.0, 'TP': 0, 'TN': 69053, 'FP': 0, 'FN': 730, 'ROC/AUC': 0.5, 'MCC': 0.0}\n",
      "(array([ 2112,  2113,  2114,  2115,  2116,  2117,  2118,  2119,  2120,\n",
      "        2121,  2122,  2123,  2124,  2125,  2126,  2127,  2128,  2129,\n",
      "        2130,  2131,  2132,  2133,  2134,  2135,  2136,  2137,  2138,\n",
      "        2139,  2140,  2141,  2142,  2143,  2144,  2145,  2146,  2147,\n",
      "        2148,  2149,  2150,  2151,  2152,  2153,  2154,  2155,  2156,\n",
      "        2157,  2158,  2159,  2160,  2161,  2162,  2163,  2164,  2165,\n",
      "        2166,  2167,  2168,  2169,  2170,  2171,  2172,  2173,  2174,\n",
      "        2175,  2176,  2177,  2178,  2179,  2180,  2181,  2182,  2183,\n",
      "        2184,  2185,  2186,  2187,  2188,  2189,  2190,  2191,  2192,\n",
      "        2193,  2194,  2195,  2196,  2197,  2198,  2199,  2200,  2201,\n",
      "        2202,  2203,  2204,  2205,  2206,  2207,  2208,  2209,  2210,\n",
      "        2211,  2212,  2213,  2214,  2215,  2216,  2217,  2218,  2219,\n",
      "        2220,  2221,  2222,  2223,  2224,  2225,  2226,  2227,  2228,\n",
      "        2229,  2230,  2231,  2232,  2233,  2234,  2235,  2236,  2237,\n",
      "        2238,  2239,  2240,  2241,  2242,  2243,  2244,  2245,  2246,\n",
      "        2247,  2248,  2249,  2250,  2251,  2252,  2253,  2254,  2255,\n",
      "        2256,  2257,  2258,  2259,  2260,  2261,  2262,  2263,  2264,\n",
      "        2265,  2266,  2267,  2268,  5444,  5445,  5446,  5447,  5448,\n",
      "        5449,  5450,  5451,  5452,  5453,  5454,  5455,  5456,  5457,\n",
      "        5458,  5459,  5460,  5461,  5462,  5463,  5464,  5465,  5466,\n",
      "        5710,  5711,  5712,  5713,  5714,  5715,  5716,  5717,  5718,\n",
      "        5719,  5720,  5721,  5722,  5723,  5724,  5725,  5726,  5727,\n",
      "        5728,  5729,  5730,  5731,  5732,  6000,  6001,  6002,  6003,\n",
      "        6004,  6005,  6006,  6007,  6008,  6009,  6010,  6011,  6012,\n",
      "        6013,  6014,  6015,  6016,  6017,  6018,  6019,  6020,  6021,\n",
      "        6022,  6273,  6274,  6275,  6276,  6277,  6278,  6279,  6280,\n",
      "        6281,  6282,  6283,  6284,  6285,  6286,  6287,  6288,  6289,\n",
      "        6290,  6291,  6292,  6293,  6294,  6295,  6542,  6543,  6544,\n",
      "        6545,  6546,  6547,  6548,  6549,  6550,  6551,  6552,  6553,\n",
      "        6554,  6555,  6556,  6557,  6558,  6559,  6560,  6561,  6562,\n",
      "        6563,  6564,  6839,  6840,  6841,  6842,  6843,  6844,  6845,\n",
      "        6846,  6847,  6848,  6849,  6850,  6851,  6852,  6853,  6854,\n",
      "        6855,  6856,  6857,  6858,  6859,  6860,  6861,  7111,  7112,\n",
      "        7113,  7114,  7115,  7116,  7117,  7118,  7119,  7120,  7121,\n",
      "        7122,  7123,  7124,  7125,  7126,  7127,  7128,  7129,  7130,\n",
      "        7131,  7132,  7133,  7337,  7338,  7339,  7340,  7341,  7342,\n",
      "        7343,  7344,  7345,  7346,  7347,  7348,  7349,  7350,  7351,\n",
      "        7352,  7353,  7354,  7355,  7356,  7357,  7358,  7359,  7569,\n",
      "        7570,  7571,  7572,  7573,  7574,  7575,  7576,  7577,  7578,\n",
      "        7579,  7580,  7581,  7582,  7583,  7584,  7585,  7586,  7587,\n",
      "        7588,  7589,  7590,  7591,  7851,  7852,  7853,  7854,  7855,\n",
      "        7856,  7857,  7858,  7859,  7860,  7861,  7862,  7863,  7864,\n",
      "        7865,  7866,  7867,  7868,  7869,  7870,  7871,  7872,  7873,\n",
      "        8094,  8095,  8096,  8097,  8098,  8099,  8100,  8101,  8102,\n",
      "        8103,  8104,  8105,  8106,  8107,  8108,  8109,  8110,  8111,\n",
      "        8112,  8113,  8114,  8115,  8116,  8377,  8378,  8379,  8380,\n",
      "        8381,  8382,  8383,  8384,  8385,  8386,  8387,  8388,  8389,\n",
      "        8390,  8391,  8392,  8393,  8394,  8395,  8396,  8397,  8398,\n",
      "        8399,  8648,  8649,  8650,  8651,  8652,  8653,  8654,  8655,\n",
      "        8656,  8657,  8658,  8659,  8660,  8661,  8662,  8663,  8664,\n",
      "        8665,  8666,  8667,  8668,  8669,  8670,  8848,  8849,  8850,\n",
      "        8851,  8852,  8853,  8854,  8855,  8856,  8857,  8858,  8859,\n",
      "        8860,  8861,  8862,  8863,  8864,  8865,  8866,  8867,  8868,\n",
      "        8869,  8870, 21784, 21785, 21786, 21787, 21788, 21789, 21790,\n",
      "       21791, 21792, 21793, 21794, 21795, 21796, 21797, 21798, 21799,\n",
      "       21800, 21801, 21802, 21803, 21804, 21805, 21806, 21807, 21808,\n",
      "       21809, 21810, 21811, 21812, 22983, 22984, 22985, 22986, 22987,\n",
      "       22988, 22989, 22990, 22991, 22992, 22993, 22994, 22995, 22996,\n",
      "       22997, 22998, 22999, 23000, 23001, 23002, 23003, 23004, 23005,\n",
      "       23006, 23007, 23008, 23009, 23010, 23011, 24280, 24281, 24282,\n",
      "       24283, 24284, 24285, 24286, 24287, 24288, 24289, 24290, 24291,\n",
      "       24292, 24293, 24294, 24295, 24296, 24297, 24298, 24299, 24300,\n",
      "       24301, 24302, 24303, 24304, 24305, 24306, 24307, 24308, 25296,\n",
      "       25297, 25298, 25299, 25300, 25301, 25302, 25303, 25304, 25305,\n",
      "       25306, 25307, 25308, 25309, 25310, 25311, 25312, 25313, 25314,\n",
      "       25315, 25316, 25317, 25318, 25319, 25320, 25321, 25322, 25323,\n",
      "       25324, 26311, 26312, 26313, 26314, 26315, 26316, 26317, 26318,\n",
      "       26319, 26320, 26321, 26322, 26323, 26324, 26325, 26326, 26327,\n",
      "       26328, 26329, 26330, 26331, 26332, 26333, 26334, 26335, 26336,\n",
      "       26337, 26338, 26339, 27549, 27550, 27551, 27552, 27553, 27554,\n",
      "       27555, 27556, 27557, 27558, 27559, 27560, 27561, 27562, 27563,\n",
      "       27564, 27565, 27566, 27567, 27568, 27569, 27570, 27571, 27572,\n",
      "       27573, 27574, 27575, 27576, 27577, 62490, 62491, 62492, 62493,\n",
      "       62494, 62495, 62496, 62497, 62498, 62499, 62500, 62501, 62502,\n",
      "       62503, 62504, 62505, 62506, 62507, 62508, 62509, 62510, 62511,\n",
      "       62512, 62513, 62514, 62515, 62516, 62517, 62518, 62519, 62520,\n",
      "       62521, 62522, 62523, 62524, 62525, 62526, 62527, 62528, 62529,\n",
      "       62530, 62531, 62532, 62533, 62534, 62535, 62536, 62537, 62538,\n",
      "       62539, 62540, 62541, 62542, 62543, 62544, 62545, 62546, 62547,\n",
      "       62548, 62549, 62550, 62551, 62552, 62553, 62554, 62555, 62556,\n",
      "       62557, 62558, 62559, 62560, 62561, 62562, 62563, 62564, 62565,\n",
      "       62566]),) False\n",
      "\n",
      "global results\n",
      "{'f1': 0.12984349419638358, 'precision': 0.16885964541974463, 'recall': 0.10547945060987055, 'TP': 77, 'TN': 68674, 'FP': 379, 'FN': 653, 'ROC/AUC': 0.5499954571324905, 'MCC': 0.12626402225006905, 'threshold': 2.0640508416970307}\n"
     ]
    }
   ],
   "source": [
    "plot_ascore(plot_path, 'ascore_local', ascore=loss, labels=true_labels)\n",
    "plot_labels(plot_path, 'labels_local', y_pred=labelspred, y_true=true_labels)\n",
    "result_local = calc_point2point(predict=labelspred, actual=true_labels)\n",
    "result_local1 = {'f1': result_local[0], 'precision': result_local[1], 'recall': result_local[2], \n",
    "                'TP': result_local[3], 'TN': result_local[4], 'FP': result_local[5], 'FN': result_local[6], \n",
    "                'ROC/AUC': result_local[7], 'MCC': result_local[8]}\n",
    "print('local results')\n",
    "print(result_local1)\n",
    "\n",
    "# do majority voting over dimensions for local results instead of inclusive OR\n",
    "majority = math.ceil(labels.shape[1] / 2)\n",
    "labelspred_maj = (np.sum(preds, axis=1) >= majority) + 0\n",
    "plot_labels(plot_path, 'labels_local_maj', y_pred=labelspred_maj, y_true=true_labels)\n",
    "result_local = calc_point2point(predict=labelspred_maj, actual=true_labels)\n",
    "result_local2 = {'f1': result_local[0], 'precision': result_local[1], 'recall': result_local[2], \n",
    "                'TP': result_local[3], 'TN': result_local[4], 'FP': result_local[5], 'FN': result_local[6], \n",
    "                'ROC/AUC': result_local[7], 'MCC': result_local[8]}\n",
    "print('\\nlocal results with majority voting')\n",
    "print(result_local2)\n",
    "temp = np.where(labelspred_maj != true_labels)\n",
    "print(temp, np.all(labelspred_maj == true_labels))\n",
    "\n",
    "# global anomaly labels\n",
    "result_global, pred2 = pot_eval(lossTfinal, lossFinal, true_labels, plot_path, f'all_dim', q=1e-5)\n",
    "labelspred_glob = (pred2 >= 1) + 0\n",
    "plot_ascore(plot_path, 'ascore_global', ascore=lossFinal, labels=true_labels)\n",
    "plot_labels(plot_path, 'labels_global', y_pred=labelspred_glob, y_true=true_labels)\n",
    "metrics_global = calc_point2point(predict=labelspred_glob, actual=true_labels)\n",
    "print('\\nglobal results') \n",
    "print(result_global)\n",
    "\n",
    "plot_metrics(plot_path, ['local (incl. OR)', 'local (maj. voting)', 'global'], \n",
    "\t\t\t  y_pred=[labelspred, labelspred_maj, labelspred_glob], y_true=true_labels)\n",
    "\n",
    "# compare local & global anomaly labels\n",
    "compare_labels(plot_path, pred_labels=[labelspred, labelspred_maj], true_labels=true_labels, \n",
    "            plot_labels=['Local anomaly\\n(inclusive OR)', 'Local anomaly\\n(majority voting)'], name='_loc_vs_maj')\n",
    "compare_labels(plot_path, pred_labels=[labelspred, labelspred_maj, labelspred_glob], true_labels=true_labels, \n",
    "            plot_labels=['Local anomaly\\n(inclusive OR)', 'Local anomaly\\n(majority voting)', 'Global anomaly'], name='_all')\n",
    "\n",
    "# saving results\n",
    "df_res_global = pd.DataFrame.from_dict(result_global, orient='index').T\n",
    "df_res_global.index = ['global']\n",
    "result_local1 = pd.DataFrame.from_dict(result_local1, orient='index').T\n",
    "result_local2 = pd.DataFrame.from_dict(result_local2, orient='index').T\n",
    "result_local1.index = ['local_all']\n",
    "result_local2.index = ['local_all_maj']\n",
    "df_res_local = pd.concat([df_res_local, result_local1, result_local2])\n",
    "df_res = pd.concat([df_res_local, df_res_global]) \n",
    "df_labels = pd.DataFrame( {'local': labelspred, 'local_maj': labelspred_maj, 'global': labelspred_glob} )\n",
    "\n",
    "df_res.to_csv(f'{res_path}/res.csv')\t\n",
    "df_labels.to_csv(f'{res_path}/pred_labels.csv', index=False)\n"
   ]
  },
  {
   "cell_type": "markdown",
   "metadata": {},
   "source": [
    "## Isolation forest\n",
    "apply Isolation Forest (IF) model to time windows"
   ]
  },
  {
   "cell_type": "code",
   "execution_count": 10,
   "metadata": {},
   "outputs": [],
   "source": [
    "import math\n",
    "import os\n",
    "from src.data_loader import MyDataset\n",
    "from src.pot import calc_point2point\n",
    "from src.pot import pot_eval\n",
    "from src.plotting import plot_ascore, plot_labels, plot_metrics, compare_labels"
   ]
  },
  {
   "cell_type": "code",
   "execution_count": 11,
   "metadata": {},
   "outputs": [],
   "source": [
    "dataset = 'GECCO'\n",
    "feats = -1\n",
    "\n",
    "res_path = f'IF/IF_{dataset}/feats{feats}'\n",
    "plot_path = f'{res_path}/plots'\n",
    "os.makedirs(plot_path, exist_ok=True)\n",
    "res_path = f'{res_path}/results'\n",
    "os.makedirs(res_path, exist_ok=True)\n",
    "flag_less = True\n",
    "n_windows = 10\n",
    "modeltype = 'IF'"
   ]
  },
  {
   "cell_type": "code",
   "execution_count": 12,
   "metadata": {},
   "outputs": [
    {
     "name": "stdout",
     "output_type": "stream",
     "text": [
      "90 0\n"
     ]
    }
   ],
   "source": [
    "train_set = MyDataset(dataset, n_windows, n_windows, modeltype, flag='train', feats=feats, less=flag_less, enc=False, k=-1)\n",
    "test_set = MyDataset(dataset, n_windows, n_windows, modeltype, flag='test', feats=feats, enc=False, less=flag_less, k=-1)\n",
    "feats = test_set.feats\n",
    "enc_feats = test_set.enc_feats\n",
    "print(feats, enc_feats)"
   ]
  },
  {
   "cell_type": "code",
   "execution_count": 13,
   "metadata": {},
   "outputs": [
    {
     "name": "stdout",
     "output_type": "stream",
     "text": [
      "(10000, 9) (10000, 9) (10000, 90)\n"
     ]
    }
   ],
   "source": [
    "labels = test_set.get_labels()\n",
    "train = train_set.get_complete_data()\n",
    "test = test_set.get_complete_data()\n",
    "print(train.shape, test.shape, labels.shape)"
   ]
  },
  {
   "cell_type": "code",
   "execution_count": 14,
   "metadata": {},
   "outputs": [
    {
     "name": "stdout",
     "output_type": "stream",
     "text": [
      "4.311 43110\n"
     ]
    }
   ],
   "source": [
    "# print(len(labels[:,0][labels[:,0]==1])/len(labels[:,0]))\n",
    "print(len(labels[labels==1])/len(labels), len(labels[labels==1]))"
   ]
  },
  {
   "cell_type": "code",
   "execution_count": 15,
   "metadata": {},
   "outputs": [],
   "source": [
    "contamination = 0.02"
   ]
  },
  {
   "cell_type": "code",
   "execution_count": 16,
   "metadata": {},
   "outputs": [
    {
     "name": "stdout",
     "output_type": "stream",
     "text": [
      "2110 7890\n",
      "(10000,)\n",
      "(10000,) (10000,)\n"
     ]
    }
   ],
   "source": [
    "# isolation forest\n",
    "from sklearn.ensemble import IsolationForest\n",
    "\n",
    "clf = IsolationForest(contamination=contamination, random_state=0).fit(train)\n",
    "lossTfinal = clf.decision_function(train)\n",
    "lossFinal = clf.decision_function(test)\n",
    "labelspredIF = clf.predict(test)\n",
    "labelspredIF = (labelspredIF == -1) + 0\n",
    "print(len(labelspredIF[labelspredIF == 1]), len(labelspredIF[labelspredIF == 0]))\n",
    "print(labelspredIF.shape)\n",
    "print(lossTfinal.shape, lossFinal.shape)"
   ]
  },
  {
   "cell_type": "code",
   "execution_count": 17,
   "metadata": {},
   "outputs": [],
   "source": [
    "true_labels = (np.sum(labels, axis=1) >= 1) + 0"
   ]
  },
  {
   "cell_type": "code",
   "execution_count": 18,
   "metadata": {},
   "outputs": [
    {
     "name": "stdout",
     "output_type": "stream",
     "text": [
      "IF results\n",
      "{'f1': 0.3530290403381545, 'precision': 0.21658767669863657, 'recall': 0.9540709612928818, 'TP': 457, 'TN': 7868, 'FP': 1653, 'FN': 22, 'ROC/AUC': 0.8902273822134523, 'MCC': 0.4084858773765253}\n",
      "\n",
      "global results\n",
      "{'f1': 0.0, 'precision': 0.0, 'recall': 0.0, 'TP': 0, 'TN': 9521, 'FP': 0, 'FN': 479, 'ROC/AUC': 0.5, 'MCC': 0.0, 'threshold': 0.20852962159184285}\n"
     ]
    }
   ],
   "source": [
    "plot_labels(plot_path, 'labels_local', y_pred=labelspredIF, y_true=true_labels)\n",
    "metrics_IF = calc_point2point(predict=labelspredIF, actual=true_labels)\n",
    "result_IF = {'f1': metrics_IF[0], 'precision': metrics_IF[1], 'recall': metrics_IF[2],\n",
    "            'TP': metrics_IF[3], 'TN': metrics_IF[4], 'FP': metrics_IF[5], 'FN': metrics_IF[6],\n",
    "            'ROC/AUC': metrics_IF[7], 'MCC': metrics_IF[8]}\n",
    "print('IF results')\n",
    "print(result_IF)\n",
    "df_res_IF = pd.DataFrame.from_dict(result_IF, orient='index').T\n",
    "\n",
    "\n",
    "# global anomaly labels\n",
    "result_global, pred2 = pot_eval(lossTfinal, lossFinal, true_labels, plot_path, f'all_dim', q=1e-5)\n",
    "labelspred_glob = (pred2 >= 1) + 0\n",
    "plot_ascore(plot_path, 'ascore_global', ascore=lossFinal, labels=true_labels)\n",
    "plot_labels(plot_path, 'labels_global', y_pred=labelspred_glob, y_true=true_labels)\n",
    "metrics_global = calc_point2point(predict=labelspred_glob, actual=true_labels)\n",
    "print('\\nglobal results') \n",
    "print(result_global)\n",
    "\n",
    "plot_metrics(plot_path, ['IF', 'global'], \n",
    "\t\t\t  y_pred=[labelspredIF, labelspred_glob], y_true=true_labels)\n",
    "\n",
    "# compare local & global anomaly labels\n",
    "compare_labels(plot_path, pred_labels=[labelspredIF, labelspred_glob], true_labels=true_labels, \n",
    "            plot_labels=['Anomaly from IF', 'Global anomaly'], name='_all')\n",
    "\n",
    "# saving results\n",
    "df_res_global = pd.DataFrame.from_dict(result_global, orient='index').T\n",
    "df_res_global.index = ['global']\n",
    "df_res = pd.concat([df_res_IF, df_res_global]) \n",
    "df_labels = pd.DataFrame( {'IF': labelspredIF, 'global': labelspred_glob} )\n",
    "\n",
    "df_res.to_csv(f'{res_path}/res.csv')\t\n",
    "df_labels.to_csv(f'{res_path}/pred_labels.csv', index=False)"
   ]
  }
 ],
 "metadata": {
  "kernelspec": {
   "display_name": "iTransf2",
   "language": "python",
   "name": "python3"
  },
  "language_info": {
   "codemirror_mode": {
    "name": "ipython",
    "version": 3
   },
   "file_extension": ".py",
   "mimetype": "text/x-python",
   "name": "python",
   "nbconvert_exporter": "python",
   "pygments_lexer": "ipython3",
   "version": "3.8.19"
  }
 },
 "nbformat": 4,
 "nbformat_minor": 2
}
