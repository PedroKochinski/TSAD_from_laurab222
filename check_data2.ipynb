{
 "cells": [
  {
   "cell_type": "code",
   "execution_count": 1,
   "metadata": {},
   "outputs": [],
   "source": [
    "import pandas as pd\n",
    "import numpy as np\n",
    "# import h5py\n",
    "import matplotlib.pyplot as plt\n",
    "import os\n",
    "import glob"
   ]
  },
  {
   "cell_type": "code",
   "execution_count": 2,
   "metadata": {},
   "outputs": [],
   "source": [
    "from src.data_loader_old import load_dataset"
   ]
  },
  {
   "cell_type": "code",
   "execution_count": 3,
   "metadata": {},
   "outputs": [],
   "source": [
    "def consecutive_nonzero_lengths(arr):\n",
    "    lengths = []\n",
    "    current_length = 0\n",
    "    for val in arr:\n",
    "        if val != 0:\n",
    "            current_length += 1\n",
    "        else:\n",
    "            if current_length > 0:\n",
    "                lengths.append(current_length)\n",
    "                current_length = 0\n",
    "    if current_length > 0:\n",
    "        lengths.append(current_length)\n",
    "    return lengths"
   ]
  },
  {
   "cell_type": "code",
   "execution_count": 5,
   "metadata": {},
   "outputs": [
    {
     "name": "stdout",
     "output_type": "stream",
     "text": [
      "training set shape: (784571, 127)\n",
      "test set shape: (172803, 127)\n",
      "labels shape: (172803, 127)\n",
      "ts_lengths 0: 784571\n",
      "ts_lengths 1: 172803\n",
      "(784571, 127) (172803, 127)\n",
      "(172803,)\n",
      "9977 5.77 %\n",
      "14 [1501, 591, 1741, 851, 671, 699, 581, 203, 88, 807, 675, 361, 577, 631]\n",
      "712.6428571428571 1741 88\n"
     ]
    }
   ],
   "source": [
    "train_loader, test_loader, labels, ts_lengths, enc_feats = load_dataset('WADI')\n",
    "\n",
    "print(train_loader.dataset.data.shape, test_loader.dataset.data.shape)\n",
    "true_labels = (np.sum(labels, axis=1) >= 1) + 0\n",
    "print(true_labels.shape)\n",
    "print(np.sum(true_labels), f'{np.sum(true_labels) / len(true_labels)*100:.2f} %')\n",
    "\n",
    "anomaly_lens = consecutive_nonzero_lengths(true_labels)\n",
    "print(len(anomaly_lens), anomaly_lens)\n",
    "print(np.mean(anomaly_lens), np.max(anomaly_lens), np.min(anomaly_lens))"
   ]
  },
  {
   "cell_type": "code",
   "execution_count": 6,
   "metadata": {},
   "outputs": [],
   "source": [
    "def load_dataset2(dataset, feats=-1, less=False, enc=False):\n",
    "\tfolder = os.path.join('processed', dataset)\n",
    "\tif not os.path.exists(folder):\n",
    "\t\traise Exception('Processed Data not found.')\n",
    "\tloader = []\n",
    "\tts_lengths = []\n",
    "\tenc_feats = 0\n",
    "\n",
    "\tfor file in ['train', 'test', 'labels']:\n",
    "\t\tif 'ATLAS_DQM' in dataset and file != 'train':\n",
    "\t\t\t# file = f'{file}_cosmicCalo'\n",
    "\t\t\t# file = f'{file}_hardProbes'\n",
    "\t\t\tfile = f'{file}_pumpNoise'\n",
    "\t\t\t# file = f'{file}_hvononNominal'\n",
    "\t\tpaths = glob.glob(os.path.join(folder, f'*{file}*.npy'))\n",
    "\t\tpaths = sorted(paths)  # sort paths to ensure correct order, otherwise labels & test files are mismatched\n",
    "\n",
    "\t\tloader.append(np.concatenate([np.load(p) for p in paths]))\n",
    "\t\tts_lengths.append([np.load(p).shape[0] for p in paths])\n",
    "\t\n",
    "\tif feats > 0:  # reduce number of features\n",
    "\t\tprint(f'data set has {loader[0].shape[1]} features, only using {feats}')\n",
    "\t\tfor i in range(2):\n",
    "\t\t\tmax_feats = feats + enc_feats\n",
    "\t\t\tloader[i] = loader[i][:,:max_feats]\n",
    "\t\n",
    "\ttrain_loader = loader[0]\n",
    "\ttest_loader = loader[1]\n",
    "\tlabels = loader[2]\n",
    "\t\n",
    "\t# if labels are one dimensional, add axis\n",
    "\tif len(labels.shape) == 1:\n",
    "\t\tlabels = labels[:, np.newaxis]\n",
    "\tif labels.shape[1] == 1: # if labels are 1D, repeat them for each feature to have 2D labels\n",
    "\t\tlabels = np.repeat(labels, loader[0].shape[1], axis=1)\n",
    "\t\t\n",
    "\tprint('training set shape:', train_loader.shape)\n",
    "\tprint('test set shape:', test_loader.shape)\n",
    "\tprint('labels shape:', labels.shape)\n",
    "\tprint('ts_lengths 0:', np.sum(ts_lengths[0]))\n",
    "\tprint('ts_lengths 1:', np.sum(ts_lengths[1]))\n",
    "\treturn train_loader, test_loader, labels, ts_lengths, enc_feats"
   ]
  },
  {
   "cell_type": "code",
   "execution_count": 7,
   "metadata": {},
   "outputs": [
    {
     "name": "stdout",
     "output_type": "stream",
     "text": [
      "training set shape: (784571, 127)\n",
      "test set shape: (172803, 127)\n",
      "labels shape: (172803, 127)\n",
      "ts_lengths 0: 784571\n",
      "ts_lengths 1: 172803\n",
      "(784571, 127) (172803, 127)\n",
      "(172803,)\n",
      "9977 5.77 %\n",
      "14 [1501, 591, 1741, 851, 671, 699, 581, 203, 88, 807, 675, 361, 577, 631]\n",
      "712.6428571428571 1741 88\n"
     ]
    }
   ],
   "source": [
    "train_loader, test_loader, labels, ts_lengths, enc_feats = load_dataset2('WADI')\n",
    "print(train_loader.shape, test_loader.shape)\n",
    "true_labels = (np.sum(labels, axis=1) >= 1) + 0\n",
    "print(true_labels.shape)\n",
    "print(np.sum(true_labels), f'{np.sum(true_labels) / len(true_labels)*100:.2f} %')\n",
    "\n",
    "anomaly_lens = consecutive_nonzero_lengths(true_labels)\n",
    "print(len(anomaly_lens), anomaly_lens)\n",
    "print(np.mean(anomaly_lens), np.max(anomaly_lens), np.min(anomaly_lens))"
   ]
  },
  {
   "cell_type": "code",
   "execution_count": null,
   "metadata": {},
   "outputs": [],
   "source": []
  }
 ],
 "metadata": {
  "kernelspec": {
   "display_name": "iTransf2",
   "language": "python",
   "name": "python3"
  },
  "language_info": {
   "codemirror_mode": {
    "name": "ipython",
    "version": 3
   },
   "file_extension": ".py",
   "mimetype": "text/x-python",
   "name": "python",
   "nbconvert_exporter": "python",
   "pygments_lexer": "ipython3",
   "version": "3.8.19"
  }
 },
 "nbformat": 4,
 "nbformat_minor": 2
}
